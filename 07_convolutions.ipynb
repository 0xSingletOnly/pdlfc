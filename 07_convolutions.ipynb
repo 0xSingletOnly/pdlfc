{
 "cells": [
  {
   "cell_type": "code",
   "execution_count": 1,
   "metadata": {},
   "outputs": [],
   "source": [
    "#|default_exp conv"
   ]
  },
  {
   "cell_type": "markdown",
   "metadata": {},
   "source": [
    "# Convolutions"
   ]
  },
  {
   "cell_type": "markdown",
   "metadata": {},
   "source": [
    "## Setup"
   ]
  },
  {
   "cell_type": "code",
   "execution_count": 2,
   "metadata": {},
   "outputs": [],
   "source": [
    "#|export\n",
    "import torch\n",
    "from torch import nn\n",
    "\n",
    "from torch.utils.data import default_collate\n",
    "from typing import Mapping\n",
    "\n",
    "from miniai.training import *\n",
    "from miniai.datasets import *"
   ]
  },
  {
   "cell_type": "code",
   "execution_count": 3,
   "metadata": {},
   "outputs": [],
   "source": [
    "import pickle, gzip, math, os, time, shutil, torch, matplotlib as mpl, numpy as np\n",
    "import pandas as pd, matplotlib.pyplot as plt\n",
    "from pathlib import Path\n",
    "from torch import tensor\n",
    "import torch.nn.functional as F\n",
    "\n",
    "from torch.utils.data import DataLoader\n",
    "from typing import Mapping"
   ]
  },
  {
   "cell_type": "code",
   "execution_count": 4,
   "metadata": {},
   "outputs": [],
   "source": [
    "mpl.rcParams['image.cmap'] = 'gray'"
   ]
  },
  {
   "cell_type": "code",
   "execution_count": 5,
   "metadata": {},
   "outputs": [],
   "source": [
    "path_data = Path('data')\n",
    "path_gz = path_data/'mnist.pkl.gz'\n",
    "with gzip.open(path_gz, 'rb') as f: ((x_train, y_train), (x_valid, y_valid), _) = pickle.load(f, encoding='latin-1')\n",
    "x_train, y_train, x_valid, y_valid = map(tensor, (x_train, y_train, x_valid, y_valid))"
   ]
  },
  {
   "cell_type": "markdown",
   "metadata": {},
   "source": [
    "## Intuition\n",
    "Convolution is a structure that we provide the neural network to give it a better context of the problem. It occurs in many domains, most notably images. It also applies to domains like audio, words etc, where there is a spatial relationship between 2 elements that are close together.\n",
    "\n",
    "In this notebook, we will focus on images. We can think of filters as finding edges in the earlier layers of a CNN, then combining those edges to get more complicated shapes (e.g. curves, eyes)."
   ]
  },
  {
   "cell_type": "code",
   "execution_count": 6,
   "metadata": {},
   "outputs": [
    {
     "data": {
      "text/plain": [
       "torch.Size([50000, 28, 28])"
      ]
     },
     "execution_count": 6,
     "metadata": {},
     "output_type": "execute_result"
    }
   ],
   "source": [
    "x_imgs = x_train.view(-1, 28, 28)\n",
    "x_imgs.shape"
   ]
  },
  {
   "cell_type": "code",
   "execution_count": 7,
   "metadata": {},
   "outputs": [],
   "source": [
    "xv_imgs = x_valid.view(-1, 28, 28)"
   ]
  },
  {
   "cell_type": "code",
   "execution_count": 8,
   "metadata": {},
   "outputs": [],
   "source": [
    "mpl.rcParams['figure.dpi'] = 30"
   ]
  },
  {
   "cell_type": "code",
   "execution_count": 9,
   "metadata": {},
   "outputs": [
    {
     "data": {
      "image/png": "[encoded data removed]",
      "text/plain": [
       "<Figure size 192x144 with 1 Axes>"
      ]
     },
     "metadata": {},
     "output_type": "display_data"
    }
   ],
   "source": [
    "im3 = x_imgs[7]\n",
    "show_image(im3);"
   ]
  },
  {
   "cell_type": "markdown",
   "metadata": {},
   "source": [
    "### Edges"
   ]
  },
  {
   "cell_type": "code",
   "execution_count": 10,
   "metadata": {},
   "outputs": [],
   "source": [
    "top_edge = tensor([[-1, -1, -1], [0, 0, 0], [1, 1, 1]], dtype=torch.float)"
   ]
  },
  {
   "cell_type": "markdown",
   "metadata": {},
   "source": [
    "Let us look at the intensity of some portion of the image 3 above."
   ]
  },
  {
   "cell_type": "code",
   "execution_count": 11,
   "metadata": {},
   "outputs": [
    {
     "data": {
      "text/html": [
       "<style type=\"text/css\">\n",
       "#T_31e26_row0_col0, #T_31e26_row0_col1, #T_31e26_row0_col2, #T_31e26_row0_col3, #T_31e26_row0_col4, #T_31e26_row0_col5, #T_31e26_row0_col6, #T_31e26_row0_col7, #T_31e26_row0_col8, #T_31e26_row0_col9, #T_31e26_row0_col10, #T_31e26_row0_col11, #T_31e26_row0_col12, #T_31e26_row0_col13, #T_31e26_row0_col14, #T_31e26_row0_col15, #T_31e26_row0_col16, #T_31e26_row0_col17, #T_31e26_row0_col18, #T_31e26_row0_col19, #T_31e26_row0_col20, #T_31e26_row0_col21, #T_31e26_row0_col22, #T_31e26_row1_col0, #T_31e26_row1_col1, #T_31e26_row1_col2, #T_31e26_row1_col3, #T_31e26_row1_col4, #T_31e26_row1_col5, #T_31e26_row1_col6, #T_31e26_row1_col7, #T_31e26_row1_col8, #T_31e26_row1_col9, #T_31e26_row1_col10, #T_31e26_row1_col11, #T_31e26_row1_col12, #T_31e26_row1_col13, #T_31e26_row1_col14, #T_31e26_row1_col15, #T_31e26_row1_col16, #T_31e26_row1_col17, #T_31e26_row1_col18, #T_31e26_row1_col19, #T_31e26_row1_col20, #T_31e26_row1_col21, #T_31e26_row1_col22, #T_31e26_row2_col0, #T_31e26_row2_col1, #T_31e26_row2_col2, #T_31e26_row2_col3, #T_31e26_row2_col4, #T_31e26_row2_col5, #T_31e26_row2_col6, #T_31e26_row2_col7, #T_31e26_row2_col8, #T_31e26_row2_col9, #T_31e26_row2_col10, #T_31e26_row2_col11, #T_31e26_row2_col12, #T_31e26_row2_col13, #T_31e26_row2_col14, #T_31e26_row2_col15, #T_31e26_row2_col16, #T_31e26_row2_col17, #T_31e26_row2_col18, #T_31e26_row2_col19, #T_31e26_row2_col20, #T_31e26_row2_col21, #T_31e26_row2_col22, #T_31e26_row3_col0, #T_31e26_row3_col1, #T_31e26_row3_col2, #T_31e26_row3_col3, #T_31e26_row3_col4, #T_31e26_row3_col5, #T_31e26_row3_col6, #T_31e26_row3_col7, #T_31e26_row3_col8, #T_31e26_row3_col9, #T_31e26_row3_col10, #T_31e26_row3_col11, #T_31e26_row3_col12, #T_31e26_row3_col13, #T_31e26_row3_col14, #T_31e26_row3_col15, #T_31e26_row3_col16, #T_31e26_row3_col17, #T_31e26_row3_col18, #T_31e26_row3_col19, #T_31e26_row3_col20, #T_31e26_row3_col21, #T_31e26_row3_col22, #T_31e26_row4_col0, #T_31e26_row4_col1, #T_31e26_row4_col2, #T_31e26_row4_col3, #T_31e26_row4_col4, #T_31e26_row4_col5, #T_31e26_row4_col6, #T_31e26_row4_col7, #T_31e26_row4_col8, #T_31e26_row4_col9, #T_31e26_row4_col10, #T_31e26_row4_col11, #T_31e26_row4_col12, #T_31e26_row4_col13, #T_31e26_row4_col14, #T_31e26_row4_col15, #T_31e26_row4_col16, #T_31e26_row4_col17, #T_31e26_row4_col18, #T_31e26_row4_col19, #T_31e26_row4_col20, #T_31e26_row4_col21, #T_31e26_row4_col22, #T_31e26_row5_col0, #T_31e26_row5_col1, #T_31e26_row5_col2, #T_31e26_row5_col3, #T_31e26_row5_col4, #T_31e26_row5_col5, #T_31e26_row5_col6, #T_31e26_row5_col7, #T_31e26_row5_col8, #T_31e26_row5_col9, #T_31e26_row5_col10, #T_31e26_row5_col22, #T_31e26_row6_col0, #T_31e26_row6_col1, #T_31e26_row6_col2, #T_31e26_row6_col3, #T_31e26_row6_col4, #T_31e26_row6_col5, #T_31e26_row6_col6, #T_31e26_row6_col7, #T_31e26_row6_col8, #T_31e26_row7_col0, #T_31e26_row7_col1, #T_31e26_row7_col2, #T_31e26_row7_col3, #T_31e26_row7_col4, #T_31e26_row7_col5, #T_31e26_row7_col6, #T_31e26_row7_col7, #T_31e26_row7_col8, #T_31e26_row8_col0, #T_31e26_row8_col1, #T_31e26_row8_col2, #T_31e26_row8_col3, #T_31e26_row8_col4, #T_31e26_row8_col5, #T_31e26_row8_col6, #T_31e26_row8_col7, #T_31e26_row8_col8, #T_31e26_row9_col0, #T_31e26_row9_col1, #T_31e26_row9_col2, #T_31e26_row9_col3, #T_31e26_row9_col4, #T_31e26_row9_col5, #T_31e26_row9_col6, #T_31e26_row9_col7, #T_31e26_row9_col8, #T_31e26_row9_col13, #T_31e26_row9_col14, #T_31e26_row9_col15, #T_31e26_row9_col16, #T_31e26_row10_col0, #T_31e26_row10_col1, #T_31e26_row10_col2, #T_31e26_row10_col3, #T_31e26_row10_col4, #T_31e26_row10_col5, #T_31e26_row10_col6, #T_31e26_row10_col7, #T_31e26_row10_col8, #T_31e26_row10_col9, #T_31e26_row10_col10, #T_31e26_row10_col11, #T_31e26_row10_col12, #T_31e26_row10_col13, #T_31e26_row10_col14, #T_31e26_row10_col15, #T_31e26_row10_col16, #T_31e26_row10_col22, #T_31e26_row11_col0, #T_31e26_row11_col1, #T_31e26_row11_col2, #T_31e26_row11_col3, #T_31e26_row11_col4, #T_31e26_row11_col5, #T_31e26_row11_col6, #T_31e26_row11_col7, #T_31e26_row11_col8, #T_31e26_row11_col9, #T_31e26_row11_col10, #T_31e26_row11_col11, #T_31e26_row11_col12, #T_31e26_row11_col13, #T_31e26_row11_col14, #T_31e26_row11_col15, #T_31e26_row11_col22, #T_31e26_row12_col0, #T_31e26_row12_col1, #T_31e26_row12_col2, #T_31e26_row12_col3, #T_31e26_row12_col4, #T_31e26_row12_col5, #T_31e26_row12_col6, #T_31e26_row12_col7, #T_31e26_row12_col8, #T_31e26_row12_col9, #T_31e26_row12_col10, #T_31e26_row12_col11, #T_31e26_row12_col12, #T_31e26_row12_col13, #T_31e26_row12_col22 {\n",
       "  font-size: 7pt;\n",
       "  background-color: #ffffff;\n",
       "  color: #000000;\n",
       "}\n",
       "#T_31e26_row5_col11 {\n",
       "  font-size: 7pt;\n",
       "  background-color: #ececec;\n",
       "  color: #000000;\n",
       "}\n",
       "#T_31e26_row5_col12 {\n",
       "  font-size: 7pt;\n",
       "  background-color: #e8e8e8;\n",
       "  color: #000000;\n",
       "}\n",
       "#T_31e26_row5_col13 {\n",
       "  font-size: 7pt;\n",
       "  background-color: #b0b0b0;\n",
       "  color: #000000;\n",
       "}\n",
       "#T_31e26_row5_col14, #T_31e26_row5_col15, #T_31e26_row5_col16, #T_31e26_row5_col17, #T_31e26_row5_col18, #T_31e26_row5_col19, #T_31e26_row6_col13, #T_31e26_row6_col20, #T_31e26_row7_col9, #T_31e26_row7_col10, #T_31e26_row7_col11, #T_31e26_row7_col12, #T_31e26_row7_col13, #T_31e26_row7_col20, #T_31e26_row7_col21, #T_31e26_row7_col22, #T_31e26_row8_col10, #T_31e26_row8_col11, #T_31e26_row8_col20, #T_31e26_row8_col21, #T_31e26_row8_col22, #T_31e26_row9_col20, #T_31e26_row10_col20, #T_31e26_row11_col20 {\n",
       "  font-size: 7pt;\n",
       "  background-color: #000000;\n",
       "  color: #f1f1f1;\n",
       "}\n",
       "#T_31e26_row5_col20 {\n",
       "  font-size: 7pt;\n",
       "  background-color: #626262;\n",
       "  color: #f1f1f1;\n",
       "}\n",
       "#T_31e26_row5_col21 {\n",
       "  font-size: 7pt;\n",
       "  background-color: #fcfcfc;\n",
       "  color: #000000;\n",
       "}\n",
       "#T_31e26_row6_col9 {\n",
       "  font-size: 7pt;\n",
       "  background-color: #dbdbdb;\n",
       "  color: #000000;\n",
       "}\n",
       "#T_31e26_row6_col10 {\n",
       "  font-size: 7pt;\n",
       "  background-color: #878787;\n",
       "  color: #f1f1f1;\n",
       "}\n",
       "#T_31e26_row6_col11 {\n",
       "  font-size: 7pt;\n",
       "  background-color: #212121;\n",
       "  color: #f1f1f1;\n",
       "}\n",
       "#T_31e26_row6_col12 {\n",
       "  font-size: 7pt;\n",
       "  background-color: #1e1e1e;\n",
       "  color: #f1f1f1;\n",
       "}\n",
       "#T_31e26_row6_col14, #T_31e26_row7_col14 {\n",
       "  font-size: 7pt;\n",
       "  background-color: #020202;\n",
       "  color: #f1f1f1;\n",
       "}\n",
       "#T_31e26_row6_col15, #T_31e26_row6_col16, #T_31e26_row6_col17, #T_31e26_row6_col18, #T_31e26_row6_col19, #T_31e26_row7_col15, #T_31e26_row7_col16, #T_31e26_row7_col17, #T_31e26_row7_col18, #T_31e26_row7_col19, #T_31e26_row8_col18, #T_31e26_row8_col19, #T_31e26_row9_col19, #T_31e26_row10_col19, #T_31e26_row11_col18, #T_31e26_row11_col19, #T_31e26_row12_col17, #T_31e26_row12_col18, #T_31e26_row12_col19 {\n",
       "  font-size: 7pt;\n",
       "  background-color: #010101;\n",
       "  color: #f1f1f1;\n",
       "}\n",
       "#T_31e26_row6_col21 {\n",
       "  font-size: 7pt;\n",
       "  background-color: #727272;\n",
       "  color: #f1f1f1;\n",
       "}\n",
       "#T_31e26_row6_col22 {\n",
       "  font-size: 7pt;\n",
       "  background-color: #dcdcdc;\n",
       "  color: #000000;\n",
       "}\n",
       "#T_31e26_row8_col9 {\n",
       "  font-size: 7pt;\n",
       "  background-color: #777777;\n",
       "  color: #f1f1f1;\n",
       "}\n",
       "#T_31e26_row8_col12 {\n",
       "  font-size: 7pt;\n",
       "  background-color: #1a1a1a;\n",
       "  color: #f1f1f1;\n",
       "}\n",
       "#T_31e26_row8_col13 {\n",
       "  font-size: 7pt;\n",
       "  background-color: #8f8f8f;\n",
       "  color: #f1f1f1;\n",
       "}\n",
       "#T_31e26_row8_col14, #T_31e26_row8_col15, #T_31e26_row8_col16 {\n",
       "  font-size: 7pt;\n",
       "  background-color: #909090;\n",
       "  color: #f1f1f1;\n",
       "}\n",
       "#T_31e26_row8_col17, #T_31e26_row11_col17 {\n",
       "  font-size: 7pt;\n",
       "  background-color: #525252;\n",
       "  color: #f1f1f1;\n",
       "}\n",
       "#T_31e26_row9_col9 {\n",
       "  font-size: 7pt;\n",
       "  background-color: #fdfdfd;\n",
       "  color: #000000;\n",
       "}\n",
       "#T_31e26_row9_col10, #T_31e26_row9_col11, #T_31e26_row9_col22 {\n",
       "  font-size: 7pt;\n",
       "  background-color: #f1f1f1;\n",
       "  color: #000000;\n",
       "}\n",
       "#T_31e26_row9_col12 {\n",
       "  font-size: 7pt;\n",
       "  background-color: #f4f4f4;\n",
       "  color: #000000;\n",
       "}\n",
       "#T_31e26_row9_col17, #T_31e26_row11_col21 {\n",
       "  font-size: 7pt;\n",
       "  background-color: #f8f8f8;\n",
       "  color: #000000;\n",
       "}\n",
       "#T_31e26_row9_col18 {\n",
       "  font-size: 7pt;\n",
       "  background-color: #1f1f1f;\n",
       "  color: #f1f1f1;\n",
       "}\n",
       "#T_31e26_row9_col21 {\n",
       "  font-size: 7pt;\n",
       "  background-color: #646464;\n",
       "  color: #f1f1f1;\n",
       "}\n",
       "#T_31e26_row10_col17 {\n",
       "  font-size: 7pt;\n",
       "  background-color: #c5c5c5;\n",
       "  color: #000000;\n",
       "}\n",
       "#T_31e26_row10_col18 {\n",
       "  font-size: 7pt;\n",
       "  background-color: #0c0c0c;\n",
       "  color: #f1f1f1;\n",
       "}\n",
       "#T_31e26_row10_col21 {\n",
       "  font-size: 7pt;\n",
       "  background-color: #828282;\n",
       "  color: #f1f1f1;\n",
       "}\n",
       "#T_31e26_row11_col16 {\n",
       "  font-size: 7pt;\n",
       "  background-color: #c3c3c3;\n",
       "  color: #000000;\n",
       "}\n",
       "#T_31e26_row12_col14 {\n",
       "  font-size: 7pt;\n",
       "  background-color: #c1c1c1;\n",
       "  color: #000000;\n",
       "}\n",
       "#T_31e26_row12_col15 {\n",
       "  font-size: 7pt;\n",
       "  background-color: #323232;\n",
       "  color: #f1f1f1;\n",
       "}\n",
       "#T_31e26_row12_col16 {\n",
       "  font-size: 7pt;\n",
       "  background-color: #070707;\n",
       "  color: #f1f1f1;\n",
       "}\n",
       "#T_31e26_row12_col20 {\n",
       "  font-size: 7pt;\n",
       "  background-color: #3c3c3c;\n",
       "  color: #f1f1f1;\n",
       "}\n",
       "#T_31e26_row12_col21 {\n",
       "  font-size: 7pt;\n",
       "  background-color: #fbfbfb;\n",
       "  color: #000000;\n",
       "}\n",
       "</style>\n",
       "<table id=\"T_31e26\">\n",
       "  <thead>\n",
       "    <tr>\n",
       "      <th class=\"blank level0\" >&nbsp;</th>\n",
       "      <th id=\"T_31e26_level0_col0\" class=\"col_heading level0 col0\" >0</th>\n",
       "      <th id=\"T_31e26_level0_col1\" class=\"col_heading level0 col1\" >1</th>\n",
       "      <th id=\"T_31e26_level0_col2\" class=\"col_heading level0 col2\" >2</th>\n",
       "      <th id=\"T_31e26_level0_col3\" class=\"col_heading level0 col3\" >3</th>\n",
       "      <th id=\"T_31e26_level0_col4\" class=\"col_heading level0 col4\" >4</th>\n",
       "      <th id=\"T_31e26_level0_col5\" class=\"col_heading level0 col5\" >5</th>\n",
       "      <th id=\"T_31e26_level0_col6\" class=\"col_heading level0 col6\" >6</th>\n",
       "      <th id=\"T_31e26_level0_col7\" class=\"col_heading level0 col7\" >7</th>\n",
       "      <th id=\"T_31e26_level0_col8\" class=\"col_heading level0 col8\" >8</th>\n",
       "      <th id=\"T_31e26_level0_col9\" class=\"col_heading level0 col9\" >9</th>\n",
       "      <th id=\"T_31e26_level0_col10\" class=\"col_heading level0 col10\" >10</th>\n",
       "      <th id=\"T_31e26_level0_col11\" class=\"col_heading level0 col11\" >11</th>\n",
       "      <th id=\"T_31e26_level0_col12\" class=\"col_heading level0 col12\" >12</th>\n",
       "      <th id=\"T_31e26_level0_col13\" class=\"col_heading level0 col13\" >13</th>\n",
       "      <th id=\"T_31e26_level0_col14\" class=\"col_heading level0 col14\" >14</th>\n",
       "      <th id=\"T_31e26_level0_col15\" class=\"col_heading level0 col15\" >15</th>\n",
       "      <th id=\"T_31e26_level0_col16\" class=\"col_heading level0 col16\" >16</th>\n",
       "      <th id=\"T_31e26_level0_col17\" class=\"col_heading level0 col17\" >17</th>\n",
       "      <th id=\"T_31e26_level0_col18\" class=\"col_heading level0 col18\" >18</th>\n",
       "      <th id=\"T_31e26_level0_col19\" class=\"col_heading level0 col19\" >19</th>\n",
       "      <th id=\"T_31e26_level0_col20\" class=\"col_heading level0 col20\" >20</th>\n",
       "      <th id=\"T_31e26_level0_col21\" class=\"col_heading level0 col21\" >21</th>\n",
       "      <th id=\"T_31e26_level0_col22\" class=\"col_heading level0 col22\" >22</th>\n",
       "    </tr>\n",
       "  </thead>\n",
       "  <tbody>\n",
       "    <tr>\n",
       "      <th id=\"T_31e26_level0_row0\" class=\"row_heading level0 row0\" >0</th>\n",
       "      <td id=\"T_31e26_row0_col0\" class=\"data row0 col0\" >0.00</td>\n",
       "      <td id=\"T_31e26_row0_col1\" class=\"data row0 col1\" >0.00</td>\n",
       "      <td id=\"T_31e26_row0_col2\" class=\"data row0 col2\" >0.00</td>\n",
       "      <td id=\"T_31e26_row0_col3\" class=\"data row0 col3\" >0.00</td>\n",
       "      <td id=\"T_31e26_row0_col4\" class=\"data row0 col4\" >0.00</td>\n",
       "      <td id=\"T_31e26_row0_col5\" class=\"data row0 col5\" >0.00</td>\n",
       "      <td id=\"T_31e26_row0_col6\" class=\"data row0 col6\" >0.00</td>\n",
       "      <td id=\"T_31e26_row0_col7\" class=\"data row0 col7\" >0.00</td>\n",
       "      <td id=\"T_31e26_row0_col8\" class=\"data row0 col8\" >0.00</td>\n",
       "      <td id=\"T_31e26_row0_col9\" class=\"data row0 col9\" >0.00</td>\n",
       "      <td id=\"T_31e26_row0_col10\" class=\"data row0 col10\" >0.00</td>\n",
       "      <td id=\"T_31e26_row0_col11\" class=\"data row0 col11\" >0.00</td>\n",
       "      <td id=\"T_31e26_row0_col12\" class=\"data row0 col12\" >0.00</td>\n",
       "      <td id=\"T_31e26_row0_col13\" class=\"data row0 col13\" >0.00</td>\n",
       "      <td id=\"T_31e26_row0_col14\" class=\"data row0 col14\" >0.00</td>\n",
       "      <td id=\"T_31e26_row0_col15\" class=\"data row0 col15\" >0.00</td>\n",
       "      <td id=\"T_31e26_row0_col16\" class=\"data row0 col16\" >0.00</td>\n",
       "      <td id=\"T_31e26_row0_col17\" class=\"data row0 col17\" >0.00</td>\n",
       "      <td id=\"T_31e26_row0_col18\" class=\"data row0 col18\" >0.00</td>\n",
       "      <td id=\"T_31e26_row0_col19\" class=\"data row0 col19\" >0.00</td>\n",
       "      <td id=\"T_31e26_row0_col20\" class=\"data row0 col20\" >0.00</td>\n",
       "      <td id=\"T_31e26_row0_col21\" class=\"data row0 col21\" >0.00</td>\n",
       "      <td id=\"T_31e26_row0_col22\" class=\"data row0 col22\" >0.00</td>\n",
       "    </tr>\n",
       "    <tr>\n",
       "      <th id=\"T_31e26_level0_row1\" class=\"row_heading level0 row1\" >1</th>\n",
       "      <td id=\"T_31e26_row1_col0\" class=\"data row1 col0\" >0.00</td>\n",
       "      <td id=\"T_31e26_row1_col1\" class=\"data row1 col1\" >0.00</td>\n",
       "      <td id=\"T_31e26_row1_col2\" class=\"data row1 col2\" >0.00</td>\n",
       "      <td id=\"T_31e26_row1_col3\" class=\"data row1 col3\" >0.00</td>\n",
       "      <td id=\"T_31e26_row1_col4\" class=\"data row1 col4\" >0.00</td>\n",
       "      <td id=\"T_31e26_row1_col5\" class=\"data row1 col5\" >0.00</td>\n",
       "      <td id=\"T_31e26_row1_col6\" class=\"data row1 col6\" >0.00</td>\n",
       "      <td id=\"T_31e26_row1_col7\" class=\"data row1 col7\" >0.00</td>\n",
       "      <td id=\"T_31e26_row1_col8\" class=\"data row1 col8\" >0.00</td>\n",
       "      <td id=\"T_31e26_row1_col9\" class=\"data row1 col9\" >0.00</td>\n",
       "      <td id=\"T_31e26_row1_col10\" class=\"data row1 col10\" >0.00</td>\n",
       "      <td id=\"T_31e26_row1_col11\" class=\"data row1 col11\" >0.00</td>\n",
       "      <td id=\"T_31e26_row1_col12\" class=\"data row1 col12\" >0.00</td>\n",
       "      <td id=\"T_31e26_row1_col13\" class=\"data row1 col13\" >0.00</td>\n",
       "      <td id=\"T_31e26_row1_col14\" class=\"data row1 col14\" >0.00</td>\n",
       "      <td id=\"T_31e26_row1_col15\" class=\"data row1 col15\" >0.00</td>\n",
       "      <td id=\"T_31e26_row1_col16\" class=\"data row1 col16\" >0.00</td>\n",
       "      <td id=\"T_31e26_row1_col17\" class=\"data row1 col17\" >0.00</td>\n",
       "      <td id=\"T_31e26_row1_col18\" class=\"data row1 col18\" >0.00</td>\n",
       "      <td id=\"T_31e26_row1_col19\" class=\"data row1 col19\" >0.00</td>\n",
       "      <td id=\"T_31e26_row1_col20\" class=\"data row1 col20\" >0.00</td>\n",
       "      <td id=\"T_31e26_row1_col21\" class=\"data row1 col21\" >0.00</td>\n",
       "      <td id=\"T_31e26_row1_col22\" class=\"data row1 col22\" >0.00</td>\n",
       "    </tr>\n",
       "    <tr>\n",
       "      <th id=\"T_31e26_level0_row2\" class=\"row_heading level0 row2\" >2</th>\n",
       "      <td id=\"T_31e26_row2_col0\" class=\"data row2 col0\" >0.00</td>\n",
       "      <td id=\"T_31e26_row2_col1\" class=\"data row2 col1\" >0.00</td>\n",
       "      <td id=\"T_31e26_row2_col2\" class=\"data row2 col2\" >0.00</td>\n",
       "      <td id=\"T_31e26_row2_col3\" class=\"data row2 col3\" >0.00</td>\n",
       "      <td id=\"T_31e26_row2_col4\" class=\"data row2 col4\" >0.00</td>\n",
       "      <td id=\"T_31e26_row2_col5\" class=\"data row2 col5\" >0.00</td>\n",
       "      <td id=\"T_31e26_row2_col6\" class=\"data row2 col6\" >0.00</td>\n",
       "      <td id=\"T_31e26_row2_col7\" class=\"data row2 col7\" >0.00</td>\n",
       "      <td id=\"T_31e26_row2_col8\" class=\"data row2 col8\" >0.00</td>\n",
       "      <td id=\"T_31e26_row2_col9\" class=\"data row2 col9\" >0.00</td>\n",
       "      <td id=\"T_31e26_row2_col10\" class=\"data row2 col10\" >0.00</td>\n",
       "      <td id=\"T_31e26_row2_col11\" class=\"data row2 col11\" >0.00</td>\n",
       "      <td id=\"T_31e26_row2_col12\" class=\"data row2 col12\" >0.00</td>\n",
       "      <td id=\"T_31e26_row2_col13\" class=\"data row2 col13\" >0.00</td>\n",
       "      <td id=\"T_31e26_row2_col14\" class=\"data row2 col14\" >0.00</td>\n",
       "      <td id=\"T_31e26_row2_col15\" class=\"data row2 col15\" >0.00</td>\n",
       "      <td id=\"T_31e26_row2_col16\" class=\"data row2 col16\" >0.00</td>\n",
       "      <td id=\"T_31e26_row2_col17\" class=\"data row2 col17\" >0.00</td>\n",
       "      <td id=\"T_31e26_row2_col18\" class=\"data row2 col18\" >0.00</td>\n",
       "      <td id=\"T_31e26_row2_col19\" class=\"data row2 col19\" >0.00</td>\n",
       "      <td id=\"T_31e26_row2_col20\" class=\"data row2 col20\" >0.00</td>\n",
       "      <td id=\"T_31e26_row2_col21\" class=\"data row2 col21\" >0.00</td>\n",
       "      <td id=\"T_31e26_row2_col22\" class=\"data row2 col22\" >0.00</td>\n",
       "    </tr>\n",
       "    <tr>\n",
       "      <th id=\"T_31e26_level0_row3\" class=\"row_heading level0 row3\" >3</th>\n",
       "      <td id=\"T_31e26_row3_col0\" class=\"data row3 col0\" >0.00</td>\n",
       "      <td id=\"T_31e26_row3_col1\" class=\"data row3 col1\" >0.00</td>\n",
       "      <td id=\"T_31e26_row3_col2\" class=\"data row3 col2\" >0.00</td>\n",
       "      <td id=\"T_31e26_row3_col3\" class=\"data row3 col3\" >0.00</td>\n",
       "      <td id=\"T_31e26_row3_col4\" class=\"data row3 col4\" >0.00</td>\n",
       "      <td id=\"T_31e26_row3_col5\" class=\"data row3 col5\" >0.00</td>\n",
       "      <td id=\"T_31e26_row3_col6\" class=\"data row3 col6\" >0.00</td>\n",
       "      <td id=\"T_31e26_row3_col7\" class=\"data row3 col7\" >0.00</td>\n",
       "      <td id=\"T_31e26_row3_col8\" class=\"data row3 col8\" >0.00</td>\n",
       "      <td id=\"T_31e26_row3_col9\" class=\"data row3 col9\" >0.00</td>\n",
       "      <td id=\"T_31e26_row3_col10\" class=\"data row3 col10\" >0.00</td>\n",
       "      <td id=\"T_31e26_row3_col11\" class=\"data row3 col11\" >0.00</td>\n",
       "      <td id=\"T_31e26_row3_col12\" class=\"data row3 col12\" >0.00</td>\n",
       "      <td id=\"T_31e26_row3_col13\" class=\"data row3 col13\" >0.00</td>\n",
       "      <td id=\"T_31e26_row3_col14\" class=\"data row3 col14\" >0.00</td>\n",
       "      <td id=\"T_31e26_row3_col15\" class=\"data row3 col15\" >0.00</td>\n",
       "      <td id=\"T_31e26_row3_col16\" class=\"data row3 col16\" >0.00</td>\n",
       "      <td id=\"T_31e26_row3_col17\" class=\"data row3 col17\" >0.00</td>\n",
       "      <td id=\"T_31e26_row3_col18\" class=\"data row3 col18\" >0.00</td>\n",
       "      <td id=\"T_31e26_row3_col19\" class=\"data row3 col19\" >0.00</td>\n",
       "      <td id=\"T_31e26_row3_col20\" class=\"data row3 col20\" >0.00</td>\n",
       "      <td id=\"T_31e26_row3_col21\" class=\"data row3 col21\" >0.00</td>\n",
       "      <td id=\"T_31e26_row3_col22\" class=\"data row3 col22\" >0.00</td>\n",
       "    </tr>\n",
       "    <tr>\n",
       "      <th id=\"T_31e26_level0_row4\" class=\"row_heading level0 row4\" >4</th>\n",
       "      <td id=\"T_31e26_row4_col0\" class=\"data row4 col0\" >0.00</td>\n",
       "      <td id=\"T_31e26_row4_col1\" class=\"data row4 col1\" >0.00</td>\n",
       "      <td id=\"T_31e26_row4_col2\" class=\"data row4 col2\" >0.00</td>\n",
       "      <td id=\"T_31e26_row4_col3\" class=\"data row4 col3\" >0.00</td>\n",
       "      <td id=\"T_31e26_row4_col4\" class=\"data row4 col4\" >0.00</td>\n",
       "      <td id=\"T_31e26_row4_col5\" class=\"data row4 col5\" >0.00</td>\n",
       "      <td id=\"T_31e26_row4_col6\" class=\"data row4 col6\" >0.00</td>\n",
       "      <td id=\"T_31e26_row4_col7\" class=\"data row4 col7\" >0.00</td>\n",
       "      <td id=\"T_31e26_row4_col8\" class=\"data row4 col8\" >0.00</td>\n",
       "      <td id=\"T_31e26_row4_col9\" class=\"data row4 col9\" >0.00</td>\n",
       "      <td id=\"T_31e26_row4_col10\" class=\"data row4 col10\" >0.00</td>\n",
       "      <td id=\"T_31e26_row4_col11\" class=\"data row4 col11\" >0.00</td>\n",
       "      <td id=\"T_31e26_row4_col12\" class=\"data row4 col12\" >0.00</td>\n",
       "      <td id=\"T_31e26_row4_col13\" class=\"data row4 col13\" >0.00</td>\n",
       "      <td id=\"T_31e26_row4_col14\" class=\"data row4 col14\" >0.00</td>\n",
       "      <td id=\"T_31e26_row4_col15\" class=\"data row4 col15\" >0.00</td>\n",
       "      <td id=\"T_31e26_row4_col16\" class=\"data row4 col16\" >0.00</td>\n",
       "      <td id=\"T_31e26_row4_col17\" class=\"data row4 col17\" >0.00</td>\n",
       "      <td id=\"T_31e26_row4_col18\" class=\"data row4 col18\" >0.00</td>\n",
       "      <td id=\"T_31e26_row4_col19\" class=\"data row4 col19\" >0.00</td>\n",
       "      <td id=\"T_31e26_row4_col20\" class=\"data row4 col20\" >0.00</td>\n",
       "      <td id=\"T_31e26_row4_col21\" class=\"data row4 col21\" >0.00</td>\n",
       "      <td id=\"T_31e26_row4_col22\" class=\"data row4 col22\" >0.00</td>\n",
       "    </tr>\n",
       "    <tr>\n",
       "      <th id=\"T_31e26_level0_row5\" class=\"row_heading level0 row5\" >5</th>\n",
       "      <td id=\"T_31e26_row5_col0\" class=\"data row5 col0\" >0.00</td>\n",
       "      <td id=\"T_31e26_row5_col1\" class=\"data row5 col1\" >0.00</td>\n",
       "      <td id=\"T_31e26_row5_col2\" class=\"data row5 col2\" >0.00</td>\n",
       "      <td id=\"T_31e26_row5_col3\" class=\"data row5 col3\" >0.00</td>\n",
       "      <td id=\"T_31e26_row5_col4\" class=\"data row5 col4\" >0.00</td>\n",
       "      <td id=\"T_31e26_row5_col5\" class=\"data row5 col5\" >0.00</td>\n",
       "      <td id=\"T_31e26_row5_col6\" class=\"data row5 col6\" >0.00</td>\n",
       "      <td id=\"T_31e26_row5_col7\" class=\"data row5 col7\" >0.00</td>\n",
       "      <td id=\"T_31e26_row5_col8\" class=\"data row5 col8\" >0.00</td>\n",
       "      <td id=\"T_31e26_row5_col9\" class=\"data row5 col9\" >0.00</td>\n",
       "      <td id=\"T_31e26_row5_col10\" class=\"data row5 col10\" >0.00</td>\n",
       "      <td id=\"T_31e26_row5_col11\" class=\"data row5 col11\" >0.15</td>\n",
       "      <td id=\"T_31e26_row5_col12\" class=\"data row5 col12\" >0.17</td>\n",
       "      <td id=\"T_31e26_row5_col13\" class=\"data row5 col13\" >0.41</td>\n",
       "      <td id=\"T_31e26_row5_col14\" class=\"data row5 col14\" >1.00</td>\n",
       "      <td id=\"T_31e26_row5_col15\" class=\"data row5 col15\" >0.99</td>\n",
       "      <td id=\"T_31e26_row5_col16\" class=\"data row5 col16\" >0.99</td>\n",
       "      <td id=\"T_31e26_row5_col17\" class=\"data row5 col17\" >0.99</td>\n",
       "      <td id=\"T_31e26_row5_col18\" class=\"data row5 col18\" >0.99</td>\n",
       "      <td id=\"T_31e26_row5_col19\" class=\"data row5 col19\" >0.99</td>\n",
       "      <td id=\"T_31e26_row5_col20\" class=\"data row5 col20\" >0.68</td>\n",
       "      <td id=\"T_31e26_row5_col21\" class=\"data row5 col21\" >0.02</td>\n",
       "      <td id=\"T_31e26_row5_col22\" class=\"data row5 col22\" >0.00</td>\n",
       "    </tr>\n",
       "    <tr>\n",
       "      <th id=\"T_31e26_level0_row6\" class=\"row_heading level0 row6\" >6</th>\n",
       "      <td id=\"T_31e26_row6_col0\" class=\"data row6 col0\" >0.00</td>\n",
       "      <td id=\"T_31e26_row6_col1\" class=\"data row6 col1\" >0.00</td>\n",
       "      <td id=\"T_31e26_row6_col2\" class=\"data row6 col2\" >0.00</td>\n",
       "      <td id=\"T_31e26_row6_col3\" class=\"data row6 col3\" >0.00</td>\n",
       "      <td id=\"T_31e26_row6_col4\" class=\"data row6 col4\" >0.00</td>\n",
       "      <td id=\"T_31e26_row6_col5\" class=\"data row6 col5\" >0.00</td>\n",
       "      <td id=\"T_31e26_row6_col6\" class=\"data row6 col6\" >0.00</td>\n",
       "      <td id=\"T_31e26_row6_col7\" class=\"data row6 col7\" >0.00</td>\n",
       "      <td id=\"T_31e26_row6_col8\" class=\"data row6 col8\" >0.00</td>\n",
       "      <td id=\"T_31e26_row6_col9\" class=\"data row6 col9\" >0.17</td>\n",
       "      <td id=\"T_31e26_row6_col10\" class=\"data row6 col10\" >0.54</td>\n",
       "      <td id=\"T_31e26_row6_col11\" class=\"data row6 col11\" >0.88</td>\n",
       "      <td id=\"T_31e26_row6_col12\" class=\"data row6 col12\" >0.88</td>\n",
       "      <td id=\"T_31e26_row6_col13\" class=\"data row6 col13\" >0.98</td>\n",
       "      <td id=\"T_31e26_row6_col14\" class=\"data row6 col14\" >0.99</td>\n",
       "      <td id=\"T_31e26_row6_col15\" class=\"data row6 col15\" >0.98</td>\n",
       "      <td id=\"T_31e26_row6_col16\" class=\"data row6 col16\" >0.98</td>\n",
       "      <td id=\"T_31e26_row6_col17\" class=\"data row6 col17\" >0.98</td>\n",
       "      <td id=\"T_31e26_row6_col18\" class=\"data row6 col18\" >0.98</td>\n",
       "      <td id=\"T_31e26_row6_col19\" class=\"data row6 col19\" >0.98</td>\n",
       "      <td id=\"T_31e26_row6_col20\" class=\"data row6 col20\" >0.98</td>\n",
       "      <td id=\"T_31e26_row6_col21\" class=\"data row6 col21\" >0.62</td>\n",
       "      <td id=\"T_31e26_row6_col22\" class=\"data row6 col22\" >0.05</td>\n",
       "    </tr>\n",
       "    <tr>\n",
       "      <th id=\"T_31e26_level0_row7\" class=\"row_heading level0 row7\" >7</th>\n",
       "      <td id=\"T_31e26_row7_col0\" class=\"data row7 col0\" >0.00</td>\n",
       "      <td id=\"T_31e26_row7_col1\" class=\"data row7 col1\" >0.00</td>\n",
       "      <td id=\"T_31e26_row7_col2\" class=\"data row7 col2\" >0.00</td>\n",
       "      <td id=\"T_31e26_row7_col3\" class=\"data row7 col3\" >0.00</td>\n",
       "      <td id=\"T_31e26_row7_col4\" class=\"data row7 col4\" >0.00</td>\n",
       "      <td id=\"T_31e26_row7_col5\" class=\"data row7 col5\" >0.00</td>\n",
       "      <td id=\"T_31e26_row7_col6\" class=\"data row7 col6\" >0.00</td>\n",
       "      <td id=\"T_31e26_row7_col7\" class=\"data row7 col7\" >0.00</td>\n",
       "      <td id=\"T_31e26_row7_col8\" class=\"data row7 col8\" >0.00</td>\n",
       "      <td id=\"T_31e26_row7_col9\" class=\"data row7 col9\" >0.70</td>\n",
       "      <td id=\"T_31e26_row7_col10\" class=\"data row7 col10\" >0.98</td>\n",
       "      <td id=\"T_31e26_row7_col11\" class=\"data row7 col11\" >0.98</td>\n",
       "      <td id=\"T_31e26_row7_col12\" class=\"data row7 col12\" >0.98</td>\n",
       "      <td id=\"T_31e26_row7_col13\" class=\"data row7 col13\" >0.98</td>\n",
       "      <td id=\"T_31e26_row7_col14\" class=\"data row7 col14\" >0.99</td>\n",
       "      <td id=\"T_31e26_row7_col15\" class=\"data row7 col15\" >0.98</td>\n",
       "      <td id=\"T_31e26_row7_col16\" class=\"data row7 col16\" >0.98</td>\n",
       "      <td id=\"T_31e26_row7_col17\" class=\"data row7 col17\" >0.98</td>\n",
       "      <td id=\"T_31e26_row7_col18\" class=\"data row7 col18\" >0.98</td>\n",
       "      <td id=\"T_31e26_row7_col19\" class=\"data row7 col19\" >0.98</td>\n",
       "      <td id=\"T_31e26_row7_col20\" class=\"data row7 col20\" >0.98</td>\n",
       "      <td id=\"T_31e26_row7_col21\" class=\"data row7 col21\" >0.98</td>\n",
       "      <td id=\"T_31e26_row7_col22\" class=\"data row7 col22\" >0.23</td>\n",
       "    </tr>\n",
       "    <tr>\n",
       "      <th id=\"T_31e26_level0_row8\" class=\"row_heading level0 row8\" >8</th>\n",
       "      <td id=\"T_31e26_row8_col0\" class=\"data row8 col0\" >0.00</td>\n",
       "      <td id=\"T_31e26_row8_col1\" class=\"data row8 col1\" >0.00</td>\n",
       "      <td id=\"T_31e26_row8_col2\" class=\"data row8 col2\" >0.00</td>\n",
       "      <td id=\"T_31e26_row8_col3\" class=\"data row8 col3\" >0.00</td>\n",
       "      <td id=\"T_31e26_row8_col4\" class=\"data row8 col4\" >0.00</td>\n",
       "      <td id=\"T_31e26_row8_col5\" class=\"data row8 col5\" >0.00</td>\n",
       "      <td id=\"T_31e26_row8_col6\" class=\"data row8 col6\" >0.00</td>\n",
       "      <td id=\"T_31e26_row8_col7\" class=\"data row8 col7\" >0.00</td>\n",
       "      <td id=\"T_31e26_row8_col8\" class=\"data row8 col8\" >0.00</td>\n",
       "      <td id=\"T_31e26_row8_col9\" class=\"data row8 col9\" >0.43</td>\n",
       "      <td id=\"T_31e26_row8_col10\" class=\"data row8 col10\" >0.98</td>\n",
       "      <td id=\"T_31e26_row8_col11\" class=\"data row8 col11\" >0.98</td>\n",
       "      <td id=\"T_31e26_row8_col12\" class=\"data row8 col12\" >0.90</td>\n",
       "      <td id=\"T_31e26_row8_col13\" class=\"data row8 col13\" >0.52</td>\n",
       "      <td id=\"T_31e26_row8_col14\" class=\"data row8 col14\" >0.52</td>\n",
       "      <td id=\"T_31e26_row8_col15\" class=\"data row8 col15\" >0.52</td>\n",
       "      <td id=\"T_31e26_row8_col16\" class=\"data row8 col16\" >0.52</td>\n",
       "      <td id=\"T_31e26_row8_col17\" class=\"data row8 col17\" >0.74</td>\n",
       "      <td id=\"T_31e26_row8_col18\" class=\"data row8 col18\" >0.98</td>\n",
       "      <td id=\"T_31e26_row8_col19\" class=\"data row8 col19\" >0.98</td>\n",
       "      <td id=\"T_31e26_row8_col20\" class=\"data row8 col20\" >0.98</td>\n",
       "      <td id=\"T_31e26_row8_col21\" class=\"data row8 col21\" >0.98</td>\n",
       "      <td id=\"T_31e26_row8_col22\" class=\"data row8 col22\" >0.23</td>\n",
       "    </tr>\n",
       "    <tr>\n",
       "      <th id=\"T_31e26_level0_row9\" class=\"row_heading level0 row9\" >9</th>\n",
       "      <td id=\"T_31e26_row9_col0\" class=\"data row9 col0\" >0.00</td>\n",
       "      <td id=\"T_31e26_row9_col1\" class=\"data row9 col1\" >0.00</td>\n",
       "      <td id=\"T_31e26_row9_col2\" class=\"data row9 col2\" >0.00</td>\n",
       "      <td id=\"T_31e26_row9_col3\" class=\"data row9 col3\" >0.00</td>\n",
       "      <td id=\"T_31e26_row9_col4\" class=\"data row9 col4\" >0.00</td>\n",
       "      <td id=\"T_31e26_row9_col5\" class=\"data row9 col5\" >0.00</td>\n",
       "      <td id=\"T_31e26_row9_col6\" class=\"data row9 col6\" >0.00</td>\n",
       "      <td id=\"T_31e26_row9_col7\" class=\"data row9 col7\" >0.00</td>\n",
       "      <td id=\"T_31e26_row9_col8\" class=\"data row9 col8\" >0.00</td>\n",
       "      <td id=\"T_31e26_row9_col9\" class=\"data row9 col9\" >0.02</td>\n",
       "      <td id=\"T_31e26_row9_col10\" class=\"data row9 col10\" >0.11</td>\n",
       "      <td id=\"T_31e26_row9_col11\" class=\"data row9 col11\" >0.11</td>\n",
       "      <td id=\"T_31e26_row9_col12\" class=\"data row9 col12\" >0.09</td>\n",
       "      <td id=\"T_31e26_row9_col13\" class=\"data row9 col13\" >0.00</td>\n",
       "      <td id=\"T_31e26_row9_col14\" class=\"data row9 col14\" >0.00</td>\n",
       "      <td id=\"T_31e26_row9_col15\" class=\"data row9 col15\" >0.00</td>\n",
       "      <td id=\"T_31e26_row9_col16\" class=\"data row9 col16\" >0.00</td>\n",
       "      <td id=\"T_31e26_row9_col17\" class=\"data row9 col17\" >0.05</td>\n",
       "      <td id=\"T_31e26_row9_col18\" class=\"data row9 col18\" >0.88</td>\n",
       "      <td id=\"T_31e26_row9_col19\" class=\"data row9 col19\" >0.98</td>\n",
       "      <td id=\"T_31e26_row9_col20\" class=\"data row9 col20\" >0.98</td>\n",
       "      <td id=\"T_31e26_row9_col21\" class=\"data row9 col21\" >0.67</td>\n",
       "      <td id=\"T_31e26_row9_col22\" class=\"data row9 col22\" >0.03</td>\n",
       "    </tr>\n",
       "    <tr>\n",
       "      <th id=\"T_31e26_level0_row10\" class=\"row_heading level0 row10\" >10</th>\n",
       "      <td id=\"T_31e26_row10_col0\" class=\"data row10 col0\" >0.00</td>\n",
       "      <td id=\"T_31e26_row10_col1\" class=\"data row10 col1\" >0.00</td>\n",
       "      <td id=\"T_31e26_row10_col2\" class=\"data row10 col2\" >0.00</td>\n",
       "      <td id=\"T_31e26_row10_col3\" class=\"data row10 col3\" >0.00</td>\n",
       "      <td id=\"T_31e26_row10_col4\" class=\"data row10 col4\" >0.00</td>\n",
       "      <td id=\"T_31e26_row10_col5\" class=\"data row10 col5\" >0.00</td>\n",
       "      <td id=\"T_31e26_row10_col6\" class=\"data row10 col6\" >0.00</td>\n",
       "      <td id=\"T_31e26_row10_col7\" class=\"data row10 col7\" >0.00</td>\n",
       "      <td id=\"T_31e26_row10_col8\" class=\"data row10 col8\" >0.00</td>\n",
       "      <td id=\"T_31e26_row10_col9\" class=\"data row10 col9\" >0.00</td>\n",
       "      <td id=\"T_31e26_row10_col10\" class=\"data row10 col10\" >0.00</td>\n",
       "      <td id=\"T_31e26_row10_col11\" class=\"data row10 col11\" >0.00</td>\n",
       "      <td id=\"T_31e26_row10_col12\" class=\"data row10 col12\" >0.00</td>\n",
       "      <td id=\"T_31e26_row10_col13\" class=\"data row10 col13\" >0.00</td>\n",
       "      <td id=\"T_31e26_row10_col14\" class=\"data row10 col14\" >0.00</td>\n",
       "      <td id=\"T_31e26_row10_col15\" class=\"data row10 col15\" >0.00</td>\n",
       "      <td id=\"T_31e26_row10_col16\" class=\"data row10 col16\" >0.00</td>\n",
       "      <td id=\"T_31e26_row10_col17\" class=\"data row10 col17\" >0.33</td>\n",
       "      <td id=\"T_31e26_row10_col18\" class=\"data row10 col18\" >0.95</td>\n",
       "      <td id=\"T_31e26_row10_col19\" class=\"data row10 col19\" >0.98</td>\n",
       "      <td id=\"T_31e26_row10_col20\" class=\"data row10 col20\" >0.98</td>\n",
       "      <td id=\"T_31e26_row10_col21\" class=\"data row10 col21\" >0.56</td>\n",
       "      <td id=\"T_31e26_row10_col22\" class=\"data row10 col22\" >0.00</td>\n",
       "    </tr>\n",
       "    <tr>\n",
       "      <th id=\"T_31e26_level0_row11\" class=\"row_heading level0 row11\" >11</th>\n",
       "      <td id=\"T_31e26_row11_col0\" class=\"data row11 col0\" >0.00</td>\n",
       "      <td id=\"T_31e26_row11_col1\" class=\"data row11 col1\" >0.00</td>\n",
       "      <td id=\"T_31e26_row11_col2\" class=\"data row11 col2\" >0.00</td>\n",
       "      <td id=\"T_31e26_row11_col3\" class=\"data row11 col3\" >0.00</td>\n",
       "      <td id=\"T_31e26_row11_col4\" class=\"data row11 col4\" >0.00</td>\n",
       "      <td id=\"T_31e26_row11_col5\" class=\"data row11 col5\" >0.00</td>\n",
       "      <td id=\"T_31e26_row11_col6\" class=\"data row11 col6\" >0.00</td>\n",
       "      <td id=\"T_31e26_row11_col7\" class=\"data row11 col7\" >0.00</td>\n",
       "      <td id=\"T_31e26_row11_col8\" class=\"data row11 col8\" >0.00</td>\n",
       "      <td id=\"T_31e26_row11_col9\" class=\"data row11 col9\" >0.00</td>\n",
       "      <td id=\"T_31e26_row11_col10\" class=\"data row11 col10\" >0.00</td>\n",
       "      <td id=\"T_31e26_row11_col11\" class=\"data row11 col11\" >0.00</td>\n",
       "      <td id=\"T_31e26_row11_col12\" class=\"data row11 col12\" >0.00</td>\n",
       "      <td id=\"T_31e26_row11_col13\" class=\"data row11 col13\" >0.00</td>\n",
       "      <td id=\"T_31e26_row11_col14\" class=\"data row11 col14\" >0.00</td>\n",
       "      <td id=\"T_31e26_row11_col15\" class=\"data row11 col15\" >0.00</td>\n",
       "      <td id=\"T_31e26_row11_col16\" class=\"data row11 col16\" >0.34</td>\n",
       "      <td id=\"T_31e26_row11_col17\" class=\"data row11 col17\" >0.74</td>\n",
       "      <td id=\"T_31e26_row11_col18\" class=\"data row11 col18\" >0.98</td>\n",
       "      <td id=\"T_31e26_row11_col19\" class=\"data row11 col19\" >0.98</td>\n",
       "      <td id=\"T_31e26_row11_col20\" class=\"data row11 col20\" >0.98</td>\n",
       "      <td id=\"T_31e26_row11_col21\" class=\"data row11 col21\" >0.05</td>\n",
       "      <td id=\"T_31e26_row11_col22\" class=\"data row11 col22\" >0.00</td>\n",
       "    </tr>\n",
       "    <tr>\n",
       "      <th id=\"T_31e26_level0_row12\" class=\"row_heading level0 row12\" >12</th>\n",
       "      <td id=\"T_31e26_row12_col0\" class=\"data row12 col0\" >0.00</td>\n",
       "      <td id=\"T_31e26_row12_col1\" class=\"data row12 col1\" >0.00</td>\n",
       "      <td id=\"T_31e26_row12_col2\" class=\"data row12 col2\" >0.00</td>\n",
       "      <td id=\"T_31e26_row12_col3\" class=\"data row12 col3\" >0.00</td>\n",
       "      <td id=\"T_31e26_row12_col4\" class=\"data row12 col4\" >0.00</td>\n",
       "      <td id=\"T_31e26_row12_col5\" class=\"data row12 col5\" >0.00</td>\n",
       "      <td id=\"T_31e26_row12_col6\" class=\"data row12 col6\" >0.00</td>\n",
       "      <td id=\"T_31e26_row12_col7\" class=\"data row12 col7\" >0.00</td>\n",
       "      <td id=\"T_31e26_row12_col8\" class=\"data row12 col8\" >0.00</td>\n",
       "      <td id=\"T_31e26_row12_col9\" class=\"data row12 col9\" >0.00</td>\n",
       "      <td id=\"T_31e26_row12_col10\" class=\"data row12 col10\" >0.00</td>\n",
       "      <td id=\"T_31e26_row12_col11\" class=\"data row12 col11\" >0.00</td>\n",
       "      <td id=\"T_31e26_row12_col12\" class=\"data row12 col12\" >0.00</td>\n",
       "      <td id=\"T_31e26_row12_col13\" class=\"data row12 col13\" >0.00</td>\n",
       "      <td id=\"T_31e26_row12_col14\" class=\"data row12 col14\" >0.36</td>\n",
       "      <td id=\"T_31e26_row12_col15\" class=\"data row12 col15\" >0.83</td>\n",
       "      <td id=\"T_31e26_row12_col16\" class=\"data row12 col16\" >0.96</td>\n",
       "      <td id=\"T_31e26_row12_col17\" class=\"data row12 col17\" >0.98</td>\n",
       "      <td id=\"T_31e26_row12_col18\" class=\"data row12 col18\" >0.98</td>\n",
       "      <td id=\"T_31e26_row12_col19\" class=\"data row12 col19\" >0.98</td>\n",
       "      <td id=\"T_31e26_row12_col20\" class=\"data row12 col20\" >0.80</td>\n",
       "      <td id=\"T_31e26_row12_col21\" class=\"data row12 col21\" >0.04</td>\n",
       "      <td id=\"T_31e26_row12_col22\" class=\"data row12 col22\" >0.00</td>\n",
       "    </tr>\n",
       "  </tbody>\n",
       "</table>\n"
      ],
      "text/plain": [
       "<pandas.io.formats.style.Styler at 0x141514c90>"
      ]
     },
     "execution_count": 11,
     "metadata": {},
     "output_type": "execute_result"
    }
   ],
   "source": [
    "df = pd.DataFrame(im3[:13,:23])\n",
    "df.style.format(precision=2).set_properties(**{'font-size':'7pt'}).background_gradient('Greys')"
   ]
  },
  {
   "cell_type": "code",
   "execution_count": 12,
   "metadata": {},
   "outputs": [
    {
     "data": {
      "text/plain": [
       "torch.Size([3, 3])"
      ]
     },
     "execution_count": 12,
     "metadata": {},
     "output_type": "execute_result"
    }
   ],
   "source": [
    "top_edge.shape"
   ]
  },
  {
   "cell_type": "code",
   "execution_count": 13,
   "metadata": {},
   "outputs": [
    {
     "data": {
      "text/plain": [
       "tensor([[0.0000, 0.0000, 0.0000],\n",
       "        [0.9961, 0.9883, 0.9883],\n",
       "        [0.9883, 0.9844, 0.9844]])"
      ]
     },
     "execution_count": 13,
     "metadata": {},
     "output_type": "execute_result"
    }
   ],
   "source": [
    "im3[4:7, 14:17]"
   ]
  },
  {
   "cell_type": "code",
   "execution_count": 14,
   "metadata": {},
   "outputs": [
    {
     "data": {
      "text/plain": [
       "tensor(2.9570)"
      ]
     },
     "execution_count": 14,
     "metadata": {},
     "output_type": "execute_result"
    }
   ],
   "source": [
    "(top_edge * im3[4:7, 14:17]).sum()"
   ]
  },
  {
   "cell_type": "markdown",
   "metadata": {},
   "source": [
    "Our top edge filter gives us a large positive value when we transition from light to dark across the vertical axis."
   ]
  },
  {
   "cell_type": "code",
   "execution_count": 15,
   "metadata": {},
   "outputs": [
    {
     "data": {
      "text/plain": [
       "tensor([[0.9844, 0.9844, 0.8984],\n",
       "        [0.1133, 0.1133, 0.0938],\n",
       "        [0.0000, 0.0000, 0.0000]])"
      ]
     },
     "execution_count": 15,
     "metadata": {},
     "output_type": "execute_result"
    }
   ],
   "source": [
    "im3[8:11, 10:13]"
   ]
  },
  {
   "cell_type": "code",
   "execution_count": 16,
   "metadata": {},
   "outputs": [
    {
     "data": {
      "text/plain": [
       "tensor(-2.8672)"
      ]
     },
     "execution_count": 16,
     "metadata": {},
     "output_type": "execute_result"
    }
   ],
   "source": [
    "(top_edge * im3[8:11, 10:13]).sum()"
   ]
  },
  {
   "cell_type": "markdown",
   "metadata": {},
   "source": [
    "Our top edge filter gives us a large negative value when we transition from dark to light across the vertical axis."
   ]
  },
  {
   "cell_type": "code",
   "execution_count": 17,
   "metadata": {},
   "outputs": [],
   "source": [
    "def apply_kernel(img, row, col, kernel):\n",
    "    return (kernel * img[row:row+3, col:col+3]).sum()"
   ]
  },
  {
   "cell_type": "code",
   "execution_count": 18,
   "metadata": {},
   "outputs": [
    {
     "data": {
      "text/plain": [
       "tensor(-2.8672)"
      ]
     },
     "execution_count": 18,
     "metadata": {},
     "output_type": "execute_result"
    }
   ],
   "source": [
    "apply_kernel(im3, 8, 10, top_edge)"
   ]
  },
  {
   "cell_type": "code",
   "execution_count": 19,
   "metadata": {},
   "outputs": [
    {
     "data": {
      "text/plain": [
       "[(0, 0),\n",
       " (0, 1),\n",
       " (0, 2),\n",
       " (0, 3),\n",
       " (0, 4),\n",
       " (0, 5),\n",
       " (0, 6),\n",
       " (0, 7),\n",
       " (0, 8),\n",
       " (0, 9),\n",
       " (0, 10),\n",
       " (0, 11),\n",
       " (0, 12),\n",
       " (0, 13),\n",
       " (0, 14),\n",
       " (0, 15),\n",
       " (0, 16),\n",
       " (0, 17),\n",
       " (0, 18),\n",
       " (0, 19),\n",
       " (0, 20),\n",
       " (0, 21),\n",
       " (0, 22),\n",
       " (0, 23),\n",
       " (0, 24),\n",
       " (0, 25),\n",
       " (1, 0),\n",
       " (1, 1),\n",
       " (1, 2),\n",
       " (1, 3),\n",
       " (1, 4),\n",
       " (1, 5),\n",
       " (1, 6),\n",
       " (1, 7),\n",
       " (1, 8),\n",
       " (1, 9),\n",
       " (1, 10),\n",
       " (1, 11),\n",
       " (1, 12),\n",
       " (1, 13),\n",
       " (1, 14),\n",
       " (1, 15),\n",
       " (1, 16),\n",
       " (1, 17),\n",
       " (1, 18),\n",
       " (1, 19),\n",
       " (1, 20),\n",
       " (1, 21),\n",
       " (1, 22),\n",
       " (1, 23),\n",
       " (1, 24),\n",
       " (1, 25),\n",
       " (2, 0),\n",
       " (2, 1),\n",
       " (2, 2),\n",
       " (2, 3),\n",
       " (2, 4),\n",
       " (2, 5),\n",
       " (2, 6),\n",
       " (2, 7),\n",
       " (2, 8),\n",
       " (2, 9),\n",
       " (2, 10),\n",
       " (2, 11),\n",
       " (2, 12),\n",
       " (2, 13),\n",
       " (2, 14),\n",
       " (2, 15),\n",
       " (2, 16),\n",
       " (2, 17),\n",
       " (2, 18),\n",
       " (2, 19),\n",
       " (2, 20),\n",
       " (2, 21),\n",
       " (2, 22),\n",
       " (2, 23),\n",
       " (2, 24),\n",
       " (2, 25),\n",
       " (3, 0),\n",
       " (3, 1),\n",
       " (3, 2),\n",
       " (3, 3),\n",
       " (3, 4),\n",
       " (3, 5),\n",
       " (3, 6),\n",
       " (3, 7),\n",
       " (3, 8),\n",
       " (3, 9),\n",
       " (3, 10),\n",
       " (3, 11),\n",
       " (3, 12),\n",
       " (3, 13),\n",
       " (3, 14),\n",
       " (3, 15),\n",
       " (3, 16),\n",
       " (3, 17),\n",
       " (3, 18),\n",
       " (3, 19),\n",
       " (3, 20),\n",
       " (3, 21),\n",
       " (3, 22),\n",
       " (3, 23),\n",
       " (3, 24),\n",
       " (3, 25),\n",
       " (4, 0),\n",
       " (4, 1),\n",
       " (4, 2),\n",
       " (4, 3),\n",
       " (4, 4),\n",
       " (4, 5),\n",
       " (4, 6),\n",
       " (4, 7),\n",
       " (4, 8),\n",
       " (4, 9),\n",
       " (4, 10),\n",
       " (4, 11),\n",
       " (4, 12),\n",
       " (4, 13),\n",
       " (4, 14),\n",
       " (4, 15),\n",
       " (4, 16),\n",
       " (4, 17),\n",
       " (4, 18),\n",
       " (4, 19),\n",
       " (4, 20),\n",
       " (4, 21),\n",
       " (4, 22),\n",
       " (4, 23),\n",
       " (4, 24),\n",
       " (4, 25),\n",
       " (5, 0),\n",
       " (5, 1),\n",
       " (5, 2),\n",
       " (5, 3),\n",
       " (5, 4),\n",
       " (5, 5),\n",
       " (5, 6),\n",
       " (5, 7),\n",
       " (5, 8),\n",
       " (5, 9),\n",
       " (5, 10),\n",
       " (5, 11),\n",
       " (5, 12),\n",
       " (5, 13),\n",
       " (5, 14),\n",
       " (5, 15),\n",
       " (5, 16),\n",
       " (5, 17),\n",
       " (5, 18),\n",
       " (5, 19),\n",
       " (5, 20),\n",
       " (5, 21),\n",
       " (5, 22),\n",
       " (5, 23),\n",
       " (5, 24),\n",
       " (5, 25),\n",
       " (6, 0),\n",
       " (6, 1),\n",
       " (6, 2),\n",
       " (6, 3),\n",
       " (6, 4),\n",
       " (6, 5),\n",
       " (6, 6),\n",
       " (6, 7),\n",
       " (6, 8),\n",
       " (6, 9),\n",
       " (6, 10),\n",
       " (6, 11),\n",
       " (6, 12),\n",
       " (6, 13),\n",
       " (6, 14),\n",
       " (6, 15),\n",
       " (6, 16),\n",
       " (6, 17),\n",
       " (6, 18),\n",
       " (6, 19),\n",
       " (6, 20),\n",
       " (6, 21),\n",
       " (6, 22),\n",
       " (6, 23),\n",
       " (6, 24),\n",
       " (6, 25),\n",
       " (7, 0),\n",
       " (7, 1),\n",
       " (7, 2),\n",
       " (7, 3),\n",
       " (7, 4),\n",
       " (7, 5),\n",
       " (7, 6),\n",
       " (7, 7),\n",
       " (7, 8),\n",
       " (7, 9),\n",
       " (7, 10),\n",
       " (7, 11),\n",
       " (7, 12),\n",
       " (7, 13),\n",
       " (7, 14),\n",
       " (7, 15),\n",
       " (7, 16),\n",
       " (7, 17),\n",
       " (7, 18),\n",
       " (7, 19),\n",
       " (7, 20),\n",
       " (7, 21),\n",
       " (7, 22),\n",
       " (7, 23),\n",
       " (7, 24),\n",
       " (7, 25),\n",
       " (8, 0),\n",
       " (8, 1),\n",
       " (8, 2),\n",
       " (8, 3),\n",
       " (8, 4),\n",
       " (8, 5),\n",
       " (8, 6),\n",
       " (8, 7),\n",
       " (8, 8),\n",
       " (8, 9),\n",
       " (8, 10),\n",
       " (8, 11),\n",
       " (8, 12),\n",
       " (8, 13),\n",
       " (8, 14),\n",
       " (8, 15),\n",
       " (8, 16),\n",
       " (8, 17),\n",
       " (8, 18),\n",
       " (8, 19),\n",
       " (8, 20),\n",
       " (8, 21),\n",
       " (8, 22),\n",
       " (8, 23),\n",
       " (8, 24),\n",
       " (8, 25),\n",
       " (9, 0),\n",
       " (9, 1),\n",
       " (9, 2),\n",
       " (9, 3),\n",
       " (9, 4),\n",
       " (9, 5),\n",
       " (9, 6),\n",
       " (9, 7),\n",
       " (9, 8),\n",
       " (9, 9),\n",
       " (9, 10),\n",
       " (9, 11),\n",
       " (9, 12),\n",
       " (9, 13),\n",
       " (9, 14),\n",
       " (9, 15),\n",
       " (9, 16),\n",
       " (9, 17),\n",
       " (9, 18),\n",
       " (9, 19),\n",
       " (9, 20),\n",
       " (9, 21),\n",
       " (9, 22),\n",
       " (9, 23),\n",
       " (9, 24),\n",
       " (9, 25),\n",
       " (10, 0),\n",
       " (10, 1),\n",
       " (10, 2),\n",
       " (10, 3),\n",
       " (10, 4),\n",
       " (10, 5),\n",
       " (10, 6),\n",
       " (10, 7),\n",
       " (10, 8),\n",
       " (10, 9),\n",
       " (10, 10),\n",
       " (10, 11),\n",
       " (10, 12),\n",
       " (10, 13),\n",
       " (10, 14),\n",
       " (10, 15),\n",
       " (10, 16),\n",
       " (10, 17),\n",
       " (10, 18),\n",
       " (10, 19),\n",
       " (10, 20),\n",
       " (10, 21),\n",
       " (10, 22),\n",
       " (10, 23),\n",
       " (10, 24),\n",
       " (10, 25),\n",
       " (11, 0),\n",
       " (11, 1),\n",
       " (11, 2),\n",
       " (11, 3),\n",
       " (11, 4),\n",
       " (11, 5),\n",
       " (11, 6),\n",
       " (11, 7),\n",
       " (11, 8),\n",
       " (11, 9),\n",
       " (11, 10),\n",
       " (11, 11),\n",
       " (11, 12),\n",
       " (11, 13),\n",
       " (11, 14),\n",
       " (11, 15),\n",
       " (11, 16),\n",
       " (11, 17),\n",
       " (11, 18),\n",
       " (11, 19),\n",
       " (11, 20),\n",
       " (11, 21),\n",
       " (11, 22),\n",
       " (11, 23),\n",
       " (11, 24),\n",
       " (11, 25),\n",
       " (12, 0),\n",
       " (12, 1),\n",
       " (12, 2),\n",
       " (12, 3),\n",
       " (12, 4),\n",
       " (12, 5),\n",
       " (12, 6),\n",
       " (12, 7),\n",
       " (12, 8),\n",
       " (12, 9),\n",
       " (12, 10),\n",
       " (12, 11),\n",
       " (12, 12),\n",
       " (12, 13),\n",
       " (12, 14),\n",
       " (12, 15),\n",
       " (12, 16),\n",
       " (12, 17),\n",
       " (12, 18),\n",
       " (12, 19),\n",
       " (12, 20),\n",
       " (12, 21),\n",
       " (12, 22),\n",
       " (12, 23),\n",
       " (12, 24),\n",
       " (12, 25),\n",
       " (13, 0),\n",
       " (13, 1),\n",
       " (13, 2),\n",
       " (13, 3),\n",
       " (13, 4),\n",
       " (13, 5),\n",
       " (13, 6),\n",
       " (13, 7),\n",
       " (13, 8),\n",
       " (13, 9),\n",
       " (13, 10),\n",
       " (13, 11),\n",
       " (13, 12),\n",
       " (13, 13),\n",
       " (13, 14),\n",
       " (13, 15),\n",
       " (13, 16),\n",
       " (13, 17),\n",
       " (13, 18),\n",
       " (13, 19),\n",
       " (13, 20),\n",
       " (13, 21),\n",
       " (13, 22),\n",
       " (13, 23),\n",
       " (13, 24),\n",
       " (13, 25),\n",
       " (14, 0),\n",
       " (14, 1),\n",
       " (14, 2),\n",
       " (14, 3),\n",
       " (14, 4),\n",
       " (14, 5),\n",
       " (14, 6),\n",
       " (14, 7),\n",
       " (14, 8),\n",
       " (14, 9),\n",
       " (14, 10),\n",
       " (14, 11),\n",
       " (14, 12),\n",
       " (14, 13),\n",
       " (14, 14),\n",
       " (14, 15),\n",
       " (14, 16),\n",
       " (14, 17),\n",
       " (14, 18),\n",
       " (14, 19),\n",
       " (14, 20),\n",
       " (14, 21),\n",
       " (14, 22),\n",
       " (14, 23),\n",
       " (14, 24),\n",
       " (14, 25),\n",
       " (15, 0),\n",
       " (15, 1),\n",
       " (15, 2),\n",
       " (15, 3),\n",
       " (15, 4),\n",
       " (15, 5),\n",
       " (15, 6),\n",
       " (15, 7),\n",
       " (15, 8),\n",
       " (15, 9),\n",
       " (15, 10),\n",
       " (15, 11),\n",
       " (15, 12),\n",
       " (15, 13),\n",
       " (15, 14),\n",
       " (15, 15),\n",
       " (15, 16),\n",
       " (15, 17),\n",
       " (15, 18),\n",
       " (15, 19),\n",
       " (15, 20),\n",
       " (15, 21),\n",
       " (15, 22),\n",
       " (15, 23),\n",
       " (15, 24),\n",
       " (15, 25),\n",
       " (16, 0),\n",
       " (16, 1),\n",
       " (16, 2),\n",
       " (16, 3),\n",
       " (16, 4),\n",
       " (16, 5),\n",
       " (16, 6),\n",
       " (16, 7),\n",
       " (16, 8),\n",
       " (16, 9),\n",
       " (16, 10),\n",
       " (16, 11),\n",
       " (16, 12),\n",
       " (16, 13),\n",
       " (16, 14),\n",
       " (16, 15),\n",
       " (16, 16),\n",
       " (16, 17),\n",
       " (16, 18),\n",
       " (16, 19),\n",
       " (16, 20),\n",
       " (16, 21),\n",
       " (16, 22),\n",
       " (16, 23),\n",
       " (16, 24),\n",
       " (16, 25),\n",
       " (17, 0),\n",
       " (17, 1),\n",
       " (17, 2),\n",
       " (17, 3),\n",
       " (17, 4),\n",
       " (17, 5),\n",
       " (17, 6),\n",
       " (17, 7),\n",
       " (17, 8),\n",
       " (17, 9),\n",
       " (17, 10),\n",
       " (17, 11),\n",
       " (17, 12),\n",
       " (17, 13),\n",
       " (17, 14),\n",
       " (17, 15),\n",
       " (17, 16),\n",
       " (17, 17),\n",
       " (17, 18),\n",
       " (17, 19),\n",
       " (17, 20),\n",
       " (17, 21),\n",
       " (17, 22),\n",
       " (17, 23),\n",
       " (17, 24),\n",
       " (17, 25),\n",
       " (18, 0),\n",
       " (18, 1),\n",
       " (18, 2),\n",
       " (18, 3),\n",
       " (18, 4),\n",
       " (18, 5),\n",
       " (18, 6),\n",
       " (18, 7),\n",
       " (18, 8),\n",
       " (18, 9),\n",
       " (18, 10),\n",
       " (18, 11),\n",
       " (18, 12),\n",
       " (18, 13),\n",
       " (18, 14),\n",
       " (18, 15),\n",
       " (18, 16),\n",
       " (18, 17),\n",
       " (18, 18),\n",
       " (18, 19),\n",
       " (18, 20),\n",
       " (18, 21),\n",
       " (18, 22),\n",
       " (18, 23),\n",
       " (18, 24),\n",
       " (18, 25),\n",
       " (19, 0),\n",
       " (19, 1),\n",
       " (19, 2),\n",
       " (19, 3),\n",
       " (19, 4),\n",
       " (19, 5),\n",
       " (19, 6),\n",
       " (19, 7),\n",
       " (19, 8),\n",
       " (19, 9),\n",
       " (19, 10),\n",
       " (19, 11),\n",
       " (19, 12),\n",
       " (19, 13),\n",
       " (19, 14),\n",
       " (19, 15),\n",
       " (19, 16),\n",
       " (19, 17),\n",
       " (19, 18),\n",
       " (19, 19),\n",
       " (19, 20),\n",
       " (19, 21),\n",
       " (19, 22),\n",
       " (19, 23),\n",
       " (19, 24),\n",
       " (19, 25),\n",
       " (20, 0),\n",
       " (20, 1),\n",
       " (20, 2),\n",
       " (20, 3),\n",
       " (20, 4),\n",
       " (20, 5),\n",
       " (20, 6),\n",
       " (20, 7),\n",
       " (20, 8),\n",
       " (20, 9),\n",
       " (20, 10),\n",
       " (20, 11),\n",
       " (20, 12),\n",
       " (20, 13),\n",
       " (20, 14),\n",
       " (20, 15),\n",
       " (20, 16),\n",
       " (20, 17),\n",
       " (20, 18),\n",
       " (20, 19),\n",
       " (20, 20),\n",
       " (20, 21),\n",
       " (20, 22),\n",
       " (20, 23),\n",
       " (20, 24),\n",
       " (20, 25),\n",
       " (21, 0),\n",
       " (21, 1),\n",
       " (21, 2),\n",
       " (21, 3),\n",
       " (21, 4),\n",
       " (21, 5),\n",
       " (21, 6),\n",
       " (21, 7),\n",
       " (21, 8),\n",
       " (21, 9),\n",
       " (21, 10),\n",
       " (21, 11),\n",
       " (21, 12),\n",
       " (21, 13),\n",
       " (21, 14),\n",
       " (21, 15),\n",
       " (21, 16),\n",
       " (21, 17),\n",
       " (21, 18),\n",
       " (21, 19),\n",
       " (21, 20),\n",
       " (21, 21),\n",
       " (21, 22),\n",
       " (21, 23),\n",
       " (21, 24),\n",
       " (21, 25),\n",
       " (22, 0),\n",
       " (22, 1),\n",
       " (22, 2),\n",
       " (22, 3),\n",
       " (22, 4),\n",
       " (22, 5),\n",
       " (22, 6),\n",
       " (22, 7),\n",
       " (22, 8),\n",
       " (22, 9),\n",
       " (22, 10),\n",
       " (22, 11),\n",
       " (22, 12),\n",
       " (22, 13),\n",
       " (22, 14),\n",
       " (22, 15),\n",
       " (22, 16),\n",
       " (22, 17),\n",
       " (22, 18),\n",
       " (22, 19),\n",
       " (22, 20),\n",
       " (22, 21),\n",
       " (22, 22),\n",
       " (22, 23),\n",
       " (22, 24),\n",
       " (22, 25),\n",
       " (23, 0),\n",
       " (23, 1),\n",
       " (23, 2),\n",
       " (23, 3),\n",
       " (23, 4),\n",
       " (23, 5),\n",
       " (23, 6),\n",
       " (23, 7),\n",
       " (23, 8),\n",
       " (23, 9),\n",
       " (23, 10),\n",
       " (23, 11),\n",
       " (23, 12),\n",
       " (23, 13),\n",
       " (23, 14),\n",
       " (23, 15),\n",
       " (23, 16),\n",
       " (23, 17),\n",
       " (23, 18),\n",
       " (23, 19),\n",
       " (23, 20),\n",
       " (23, 21),\n",
       " (23, 22),\n",
       " (23, 23),\n",
       " (23, 24),\n",
       " (23, 25),\n",
       " (24, 0),\n",
       " (24, 1),\n",
       " (24, 2),\n",
       " (24, 3),\n",
       " (24, 4),\n",
       " (24, 5),\n",
       " (24, 6),\n",
       " (24, 7),\n",
       " (24, 8),\n",
       " (24, 9),\n",
       " (24, 10),\n",
       " (24, 11),\n",
       " (24, 12),\n",
       " (24, 13),\n",
       " (24, 14),\n",
       " (24, 15),\n",
       " (24, 16),\n",
       " (24, 17),\n",
       " (24, 18),\n",
       " (24, 19),\n",
       " (24, 20),\n",
       " (24, 21),\n",
       " (24, 22),\n",
       " (24, 23),\n",
       " (24, 24),\n",
       " (24, 25),\n",
       " (25, 0),\n",
       " (25, 1),\n",
       " (25, 2),\n",
       " (25, 3),\n",
       " (25, 4),\n",
       " (25, 5),\n",
       " (25, 6),\n",
       " (25, 7),\n",
       " (25, 8),\n",
       " (25, 9),\n",
       " (25, 10),\n",
       " (25, 11),\n",
       " (25, 12),\n",
       " (25, 13),\n",
       " (25, 14),\n",
       " (25, 15),\n",
       " (25, 16),\n",
       " (25, 17),\n",
       " (25, 18),\n",
       " (25, 19),\n",
       " (25, 20),\n",
       " (25, 21),\n",
       " (25, 22),\n",
       " (25, 23),\n",
       " (25, 24),\n",
       " (25, 25)]"
      ]
     },
     "execution_count": 19,
     "metadata": {},
     "output_type": "execute_result"
    }
   ],
   "source": [
    "n = im3.shape[0] - 3 + 1\n",
    "indices = [(i, j) for i in range(n) for j in range(n)]\n",
    "indices"
   ]
  },
  {
   "cell_type": "code",
   "execution_count": 20,
   "metadata": {},
   "outputs": [
    {
     "data": {
      "text/plain": [
       "tensor([[0., 0., 0., 0., 0., 0., 0., 0., 0., 0., 0., 0., 0., 0., 0., 0., 0., 0., 0., 0., 0., 0., 0., 0.,\n",
       "         0., 0.],\n",
       "        [0., 0., 0., 0., 0., 0., 0., 0., 0., 0., 0., 0., 0., 0., 0., 0., 0., 0., 0., 0., 0., 0., 0., 0.,\n",
       "         0., 0.],\n",
       "        [0., 0., 0., 0., 0., 0., 0., 0., 0., 0., 0., 0., 0., 0., 0., 0., 0., 0., 0., 0., 0., 0., 0., 0.,\n",
       "         0., 0.],\n",
       "        [0., 0., 0., 0., 0., 0., 0., 0., 0., 0., 0., 0., 0., 0., 0., 0., 0., 0., 0., 0., 0., 0., 0., 0.,\n",
       "         0., 0.],\n",
       "        [0., 0., 0., 0., 0., 0., 0., 0., 0., 0., 0., 0., 0., 0., 0., 0., 0., 0., 0., 0., 0., 0., 0., 0.,\n",
       "         0., 0.],\n",
       "        [0., 0., 0., 0., 0., 0., 0., 0., 0., 0., 0., 0., 0., 0., 0., 0., 0., 0., 0., 0., 0., 0., 0., 0.,\n",
       "         0., 0.],\n",
       "        [0., 0., 0., 0., 0., 0., 0., 0., 0., 0., 0., 0., 0., 0., 0., 0., 0., 0., 0., 0., 0., 0., 0., 0.,\n",
       "         0., 0.],\n",
       "        [0., 0., 0., 0., 0., 0., 0., 0., 0., 0., 0., 0., 0., 0., 0., 0., 0., 0., 0., 0., 0., 0., 0., 0.,\n",
       "         0., 0.],\n",
       "        [0., 0., 0., 0., 0., 0., 0., 0., 0., 0., 0., 0., 0., 0., 0., 0., 0., 0., 0., 0., 0., 0., 0., 0.,\n",
       "         0., 0.],\n",
       "        [0., 0., 0., 0., 0., 0., 0., 0., 0., 0., 0., 0., 0., 0., 0., 0., 0., 0., 0., 0., 0., 0., 0., 0.,\n",
       "         0., 0.],\n",
       "        [0., 0., 0., 0., 0., 0., 0., 0., 0., 0., 0., 0., 0., 0., 0., 0., 0., 0., 0., 0., 0., 0., 0., 0.,\n",
       "         0., 0.],\n",
       "        [0., 0., 0., 0., 0., 0., 0., 0., 0., 0., 0., 0., 0., 0., 0., 0., 0., 0., 0., 0., 0., 0., 0., 0.,\n",
       "         0., 0.],\n",
       "        [0., 0., 0., 0., 0., 0., 0., 0., 0., 0., 0., 0., 0., 0., 0., 0., 0., 0., 0., 0., 0., 0., 0., 0.,\n",
       "         0., 0.],\n",
       "        [0., 0., 0., 0., 0., 0., 0., 0., 0., 0., 0., 0., 0., 0., 0., 0., 0., 0., 0., 0., 0., 0., 0., 0.,\n",
       "         0., 0.],\n",
       "        [0., 0., 0., 0., 0., 0., 0., 0., 0., 0., 0., 0., 0., 0., 0., 0., 0., 0., 0., 0., 0., 0., 0., 0.,\n",
       "         0., 0.],\n",
       "        [0., 0., 0., 0., 0., 0., 0., 0., 0., 0., 0., 0., 0., 0., 0., 0., 0., 0., 0., 0., 0., 0., 0., 0.,\n",
       "         0., 0.],\n",
       "        [0., 0., 0., 0., 0., 0., 0., 0., 0., 0., 0., 0., 0., 0., 0., 0., 0., 0., 0., 0., 0., 0., 0., 0.,\n",
       "         0., 0.],\n",
       "        [0., 0., 0., 0., 0., 0., 0., 0., 0., 0., 0., 0., 0., 0., 0., 0., 0., 0., 0., 0., 0., 0., 0., 0.,\n",
       "         0., 0.],\n",
       "        [0., 0., 0., 0., 0., 0., 0., 0., 0., 0., 0., 0., 0., 0., 0., 0., 0., 0., 0., 0., 0., 0., 0., 0.,\n",
       "         0., 0.],\n",
       "        [0., 0., 0., 0., 0., 0., 0., 0., 0., 0., 0., 0., 0., 0., 0., 0., 0., 0., 0., 0., 0., 0., 0., 0.,\n",
       "         0., 0.],\n",
       "        [0., 0., 0., 0., 0., 0., 0., 0., 0., 0., 0., 0., 0., 0., 0., 0., 0., 0., 0., 0., 0., 0., 0., 0.,\n",
       "         0., 0.],\n",
       "        [0., 0., 0., 0., 0., 0., 0., 0., 0., 0., 0., 0., 0., 0., 0., 0., 0., 0., 0., 0., 0., 0., 0., 0.,\n",
       "         0., 0.],\n",
       "        [0., 0., 0., 0., 0., 0., 0., 0., 0., 0., 0., 0., 0., 0., 0., 0., 0., 0., 0., 0., 0., 0., 0., 0.,\n",
       "         0., 0.],\n",
       "        [0., 0., 0., 0., 0., 0., 0., 0., 0., 0., 0., 0., 0., 0., 0., 0., 0., 0., 0., 0., 0., 0., 0., 0.,\n",
       "         0., 0.],\n",
       "        [0., 0., 0., 0., 0., 0., 0., 0., 0., 0., 0., 0., 0., 0., 0., 0., 0., 0., 0., 0., 0., 0., 0., 0.,\n",
       "         0., 0.],\n",
       "        [0., 0., 0., 0., 0., 0., 0., 0., 0., 0., 0., 0., 0., 0., 0., 0., 0., 0., 0., 0., 0., 0., 0., 0.,\n",
       "         0., 0.]])"
      ]
     },
     "execution_count": 20,
     "metadata": {},
     "output_type": "execute_result"
    }
   ],
   "source": [
    "results = torch.zeros(n, n)\n",
    "results"
   ]
  },
  {
   "cell_type": "code",
   "execution_count": 21,
   "metadata": {},
   "outputs": [
    {
     "data": {
      "text/plain": [
       "<Axes: >"
      ]
     },
     "execution_count": 21,
     "metadata": {},
     "output_type": "execute_result"
    },
    {
     "data": {
      "image/png": "[encoded data removed]",
      "text/plain": [
       "<Figure size 192x144 with 1 Axes>"
      ]
     },
     "metadata": {},
     "output_type": "display_data"
    }
   ],
   "source": [
    "for element in indices:\n",
    "    i, j = element\n",
    "    results[i, j] = apply_kernel(im3, i, j, top_edge)\n",
    "\n",
    "show_image(results)"
   ]
  },
  {
   "cell_type": "code",
   "execution_count": 22,
   "metadata": {},
   "outputs": [],
   "source": [
    "def get_kernel_out(img, indices, kernel):\n",
    "    result = torch.zeros(img.shape[0]-2, img.shape[0]-2)\n",
    "    for element in indices:\n",
    "        i, j = element\n",
    "        result[i, j] = apply_kernel(img, i, j, kernel)\n",
    "\n",
    "    return result"
   ]
  },
  {
   "cell_type": "markdown",
   "metadata": {},
   "source": [
    "We can see that the top edges are highlighted (brighter with white color). Now let's try repeat the following with `left_edge`."
   ]
  },
  {
   "cell_type": "code",
   "execution_count": 23,
   "metadata": {},
   "outputs": [
    {
     "data": {
      "text/plain": [
       "tensor([[-1.,  0.,  1.],\n",
       "        [-1.,  0.,  1.],\n",
       "        [-1.,  0.,  1.]])"
      ]
     },
     "execution_count": 23,
     "metadata": {},
     "output_type": "execute_result"
    }
   ],
   "source": [
    "left_edge = torch.tensor([[-1, 0, 1], [-1, 0, 1], [-1, 0, 1]], dtype=torch.float)\n",
    "left_edge"
   ]
  },
  {
   "cell_type": "code",
   "execution_count": 24,
   "metadata": {},
   "outputs": [],
   "source": [
    "left_out = get_kernel_out(im3, indices, left_edge)"
   ]
  },
  {
   "cell_type": "code",
   "execution_count": 25,
   "metadata": {},
   "outputs": [
    {
     "data": {
      "text/plain": [
       "<Axes: >"
      ]
     },
     "execution_count": 25,
     "metadata": {},
     "output_type": "execute_result"
    },
    {
     "data": {
      "image/png": "[encoded data removed]",
      "text/plain": [
       "<Figure size 192x144 with 1 Axes>"
      ]
     },
     "metadata": {},
     "output_type": "display_data"
    }
   ],
   "source": [
    "show_image(left_out)"
   ]
  },
  {
   "cell_type": "markdown",
   "metadata": {},
   "source": [
    "Likewise, we can see that `left_edge` highlights the left edges."
   ]
  },
  {
   "cell_type": "markdown",
   "metadata": {},
   "source": [
    "## Convolutions in PyTorch\n",
    "We see that we can calculate the product of kernel across each image using the looping approach that we did above. However, this is very slow. We want to speed things up using matrix multiplication.\n",
    "We unfold the kernel and input image by:\n",
    "- unfolding each 'kernel space' of the input image as a row in the reshaped matrix\n",
    "- unfolding each kernel as a column\n",
    "\n",
    "This is hard to understand verbally, so it'll be best to view the [image of this unfolding](https://www.researchgate.net/profile/Wentai-Zhang-6/publication/342112418/figure/fig1/AS:902354379481088@1592149457294/The-im2col-GEMM-explicit-GEMM-method.png)."
   ]
  },
  {
   "cell_type": "markdown",
   "metadata": {},
   "source": [
    "We can use `F.unfold` to do this reshaping of the input tensor.\n",
    "`torch.nn.functional.unfold(input, kernel_size, dilation=1, padding=0, stride=1)`"
   ]
  },
  {
   "cell_type": "code",
   "execution_count": 26,
   "metadata": {},
   "outputs": [
    {
     "data": {
      "text/plain": [
       "torch.Size([1, 1, 28, 28])"
      ]
     },
     "execution_count": 26,
     "metadata": {},
     "output_type": "execute_result"
    }
   ],
   "source": [
    "inp = im3[None, None,:]\n",
    "inp.shape"
   ]
  },
  {
   "cell_type": "code",
   "execution_count": 27,
   "metadata": {},
   "outputs": [
    {
     "data": {
      "text/plain": [
       "torch.Size([9, 676])"
      ]
     },
     "execution_count": 27,
     "metadata": {},
     "output_type": "execute_result"
    }
   ],
   "source": [
    "unfolded_inp = F.unfold(inp, (3,3))[0]\n",
    "unfolded_inp.shape"
   ]
  },
  {
   "cell_type": "code",
   "execution_count": 28,
   "metadata": {},
   "outputs": [
    {
     "data": {
      "text/plain": [
       "torch.Size([9])"
      ]
     },
     "execution_count": 28,
     "metadata": {},
     "output_type": "execute_result"
    }
   ],
   "source": [
    "unfold_top_edge = top_edge.view(-1)\n",
    "unfold_top_edge.shape"
   ]
  },
  {
   "cell_type": "code",
   "execution_count": 29,
   "metadata": {},
   "outputs": [
    {
     "data": {
      "text/plain": [
       "torch.Size([676])"
      ]
     },
     "execution_count": 29,
     "metadata": {},
     "output_type": "execute_result"
    }
   ],
   "source": [
    "(unfold_top_edge@unfolded_inp).shape"
   ]
  },
  {
   "cell_type": "code",
   "execution_count": 30,
   "metadata": {},
   "outputs": [],
   "source": [
    "unfolded_top_out = (unfold_top_edge@unfolded_inp).reshape(26, 26)"
   ]
  },
  {
   "cell_type": "code",
   "execution_count": 31,
   "metadata": {},
   "outputs": [
    {
     "data": {
      "text/plain": [
       "<Axes: >"
      ]
     },
     "execution_count": 31,
     "metadata": {},
     "output_type": "execute_result"
    },
    {
     "data": {
      "image/png": "[encoded data removed]",
      "text/plain": [
       "<Figure size 192x144 with 1 Axes>"
      ]
     },
     "metadata": {},
     "output_type": "display_data"
    }
   ],
   "source": [
    "show_image(unfolded_top_out)"
   ]
  },
  {
   "cell_type": "markdown",
   "metadata": {},
   "source": [
    "Let's look at the speed-up from implementing a matrix multiplication."
   ]
  },
  {
   "cell_type": "code",
   "execution_count": 32,
   "metadata": {},
   "outputs": [
    {
     "name": "stdout",
     "output_type": "stream",
     "text": [
      "5.86 ms ± 349 µs per loop (mean ± std. dev. of 7 runs, 1 loop each)\n"
     ]
    }
   ],
   "source": [
    "%timeit -n 1 get_kernel_out(im3, indices, left_edge)"
   ]
  },
  {
   "cell_type": "code",
   "execution_count": 33,
   "metadata": {},
   "outputs": [
    {
     "name": "stdout",
     "output_type": "stream",
     "text": [
      "80 µs ± 33.2 µs per loop (mean ± std. dev. of 7 runs, 100 loops each)\n"
     ]
    }
   ],
   "source": [
    "%timeit -n 100 (unfold_top_edge@F.unfold(inp, (3,3))[0]).reshape(26,26)"
   ]
  },
  {
   "cell_type": "markdown",
   "metadata": {},
   "source": [
    "We see a ~1500 speedup!"
   ]
  },
  {
   "cell_type": "markdown",
   "metadata": {},
   "source": [
    "## `F.conv2d`\n",
    "We can use [`F.conv2d`](https://pytorch.org/docs/stable/generated/torch.nn.functional.conv2d.html) which takes in a batch of input images and a batch of kernels, and apply the kernel over them."
   ]
  },
  {
   "cell_type": "code",
   "execution_count": 34,
   "metadata": {},
   "outputs": [],
   "source": [
    "diag1_edge = tensor([[ 0,-1, 1],\n",
    "                     [-1, 1, 0],\n",
    "                     [ 1, 0, 0]]).float()"
   ]
  },
  {
   "cell_type": "code",
   "execution_count": 35,
   "metadata": {},
   "outputs": [
    {
     "data": {
      "text/plain": [
       "<Axes: >"
      ]
     },
     "execution_count": 35,
     "metadata": {},
     "output_type": "execute_result"
    },
    {
     "data": {
      "image/png": "[encoded data removed]",
      "text/plain": [
       "<Figure size 192x144 with 1 Axes>"
      ]
     },
     "metadata": {},
     "output_type": "display_data"
    }
   ],
   "source": [
    "show_image(diag1_edge)"
   ]
  },
  {
   "cell_type": "code",
   "execution_count": 36,
   "metadata": {},
   "outputs": [],
   "source": [
    "diag2_edge = tensor([[ 1,-1, 0],\n",
    "                     [0, 1, -1],\n",
    "                     [ 0, 0, 1]]).float()"
   ]
  },
  {
   "cell_type": "code",
   "execution_count": 37,
   "metadata": {},
   "outputs": [
    {
     "data": {
      "text/plain": [
       "<Axes: >"
      ]
     },
     "execution_count": 37,
     "metadata": {},
     "output_type": "execute_result"
    },
    {
     "data": {
      "image/png": "[encoded data removed]",
      "text/plain": [
       "<Figure size 192x144 with 1 Axes>"
      ]
     },
     "metadata": {},
     "output_type": "display_data"
    }
   ],
   "source": [
    "show_image(diag2_edge)"
   ]
  },
  {
   "cell_type": "code",
   "execution_count": 38,
   "metadata": {},
   "outputs": [
    {
     "data": {
      "text/plain": [
       "torch.Size([4, 1, 3, 3])"
      ]
     },
     "execution_count": 38,
     "metadata": {},
     "output_type": "execute_result"
    }
   ],
   "source": [
    "kernels = torch.stack((top_edge, left_edge, diag1_edge, diag2_edge), dim=0).unsqueeze(1)\n",
    "kernels.shape"
   ]
  },
  {
   "cell_type": "code",
   "execution_count": 39,
   "metadata": {},
   "outputs": [
    {
     "data": {
      "text/plain": [
       "torch.Size([16, 1, 28, 28])"
      ]
     },
     "execution_count": 39,
     "metadata": {},
     "output_type": "execute_result"
    }
   ],
   "source": [
    "xb = x_imgs[:16].unsqueeze(1)\n",
    "xb.shape"
   ]
  },
  {
   "cell_type": "code",
   "execution_count": 40,
   "metadata": {},
   "outputs": [],
   "source": [
    "batch_edges = F.conv2d(xb, kernels)"
   ]
  },
  {
   "cell_type": "code",
   "execution_count": 41,
   "metadata": {},
   "outputs": [
    {
     "data": {
      "text/plain": [
       "torch.Size([28, 28])"
      ]
     },
     "execution_count": 41,
     "metadata": {},
     "output_type": "execute_result"
    }
   ],
   "source": [
    "xb[0,0].shape"
   ]
  },
  {
   "cell_type": "code",
   "execution_count": 42,
   "metadata": {},
   "outputs": [
    {
     "data": {
      "text/plain": [
       "<Axes: >"
      ]
     },
     "execution_count": 42,
     "metadata": {},
     "output_type": "execute_result"
    },
    {
     "data": {
      "image/png": "[encoded data removed]",
      "text/plain": [
       "<Figure size 192x144 with 1 Axes>"
      ]
     },
     "metadata": {},
     "output_type": "display_data"
    }
   ],
   "source": [
    "show_image(xb[0,0])"
   ]
  },
  {
   "cell_type": "code",
   "execution_count": 43,
   "metadata": {},
   "outputs": [
    {
     "data": {
      "image/png": "[encoded data removed]",
      "text/plain": [
       "<Figure size 180x180 with 4 Axes>"
      ]
     },
     "metadata": {},
     "output_type": "display_data"
    }
   ],
   "source": [
    "show_images([batch_edges[0,i] for i in range(4)])"
   ]
  },
  {
   "cell_type": "markdown",
   "metadata": {},
   "source": [
    "We see the edges being highlighted in `batch_edges`."
   ]
  },
  {
   "cell_type": "markdown",
   "metadata": {},
   "source": [
    "### Strides and padding"
   ]
  },
  {
   "cell_type": "markdown",
   "metadata": {},
   "source": [
    "We want to control the size of the output dimension after each convolution. To do so, we can use the formula: $ outputSize = \\frac{inputSize - kernelSize + 2 \\times padding}{stride} + 1$.\n",
    "If we want to maintain the same input and output shape (assuming stride of 1), we need padding of `ks//2` on each side (assuming that `ks` is an odd number)."
   ]
  },
  {
   "cell_type": "markdown",
   "metadata": {},
   "source": [
    "Let's create a `conv` function using [`nn.Conv2d`](https://pytorch.org/docs/stable/generated/torch.nn.Conv2d.html)."
   ]
  },
  {
   "cell_type": "code",
   "execution_count": 53,
   "metadata": {},
   "outputs": [],
   "source": [
    "#|export\n",
    "# ni: input dimension, nf: filter dimension\n",
    "def conv(ni, nf, ks=3, stride=2, act=True):\n",
    "    res = nn.Conv2d(ni, nf, kernel_size=ks, stride=stride, padding=ks//2)\n",
    "    if act: res = nn.Sequential(res, nn.ReLU()) # non-linear activation\n",
    "    return res"
   ]
  },
  {
   "cell_type": "markdown",
   "metadata": {},
   "source": [
    "For now, we want to end up with 10 channels and a `output_size` of 1. We will then use the softmax each of the value at the 10 channels as the probability of each MNIST class."
   ]
  },
  {
   "cell_type": "code",
   "execution_count": 85,
   "metadata": {},
   "outputs": [],
   "source": [
    "simple_cnn = nn.Sequential(\n",
    "    conv(1, 4), # 14 by 14\n",
    "    conv(4, 8), # 7 by 7\n",
    "    conv(8, 16), # 4 by 4\n",
    "    conv(16, 16), # 2 by 2\n",
    "    conv(16, 10, act=False), # 1 by 1\n",
    "    nn.Flatten()\n",
    ")"
   ]
  },
  {
   "cell_type": "code",
   "execution_count": 86,
   "metadata": {},
   "outputs": [
    {
     "data": {
      "text/plain": [
       "torch.Size([16, 1, 28, 28])"
      ]
     },
     "execution_count": 86,
     "metadata": {},
     "output_type": "execute_result"
    }
   ],
   "source": [
    "xb.shape"
   ]
  },
  {
   "cell_type": "code",
   "execution_count": 87,
   "metadata": {},
   "outputs": [
    {
     "data": {
      "text/plain": [
       "torch.Size([16, 10])"
      ]
     },
     "execution_count": 87,
     "metadata": {},
     "output_type": "execute_result"
    }
   ],
   "source": [
    "simple_cnn(xb).shape"
   ]
  },
  {
   "cell_type": "code",
   "execution_count": 89,
   "metadata": {},
   "outputs": [
    {
     "data": {
      "text/plain": [
       "(torch.Size([50000, 1, 28, 28]), torch.Size([10000, 1, 28, 28]))"
      ]
     },
     "execution_count": 89,
     "metadata": {},
     "output_type": "execute_result"
    }
   ],
   "source": [
    "x_imgs = x_train.view(-1, 1, 28, 28)\n",
    "xv_imgs = x_valid.view(-1, 1, 28, 28)\n",
    "x_imgs.shape, xv_imgs.shape"
   ]
  },
  {
   "cell_type": "code",
   "execution_count": 98,
   "metadata": {},
   "outputs": [],
   "source": [
    "train_ds, valid_ds = Dataset(x_imgs, y_train), Dataset(xv_imgs, y_valid)"
   ]
  },
  {
   "cell_type": "code",
   "execution_count": 99,
   "metadata": {},
   "outputs": [
    {
     "name": "stdout",
     "output_type": "stream",
     "text": [
      "True\n"
     ]
    }
   ],
   "source": [
    "# Checks if GPU is available on Mac\n",
    "print(torch.backends.mps.is_available())"
   ]
  },
  {
   "cell_type": "code",
   "execution_count": 100,
   "metadata": {},
   "outputs": [],
   "source": [
    "#|export\n",
    "def_device = 'mps' if torch.backends.mps.is_available() else 'cuda' if torch.cuda.is_available() else 'cpu'\n",
    "\n",
    "def to_device(x, device=def_device):\n",
    "    if isinstance(x, torch.Tensor): return x.to(device)\n",
    "    if isinstance(x, Mapping): return {k:v.to(device) for k,v in x.items()}\n",
    "    return type(x)(to_device(o, device) for o in x)\n",
    "\n",
    "def collate_device(b): return to_device(default_collate(b))"
   ]
  },
  {
   "cell_type": "code",
   "execution_count": 101,
   "metadata": {},
   "outputs": [],
   "source": [
    "from torch import optim\n",
    "\n",
    "bs=256\n",
    "lr=0.4\n",
    "train_dl, valid_dl = get_dls(train_ds, valid_ds, bs, collate_fn=collate_device)\n",
    "opt = optim.SGD(simple_cnn.parameters(), lr=lr)"
   ]
  },
  {
   "cell_type": "code",
   "execution_count": 102,
   "metadata": {},
   "outputs": [
    {
     "name": "stdout",
     "output_type": "stream",
     "text": [
      "0 0.16128179366588594 0.9474000004768371\n",
      "1 0.11302323184013367 0.9675999994277954\n",
      "2 0.09459489917755128 0.9710999994277955\n",
      "3 0.15313652288913726 0.9548000008583069\n",
      "4 0.14104804880619048 0.9540000008583069\n"
     ]
    }
   ],
   "source": [
    "loss, acc = fit(5, simple_cnn.to(def_device), F.cross_entropy, opt, train_dl, valid_dl)"
   ]
  },
  {
   "cell_type": "markdown",
   "metadata": {},
   "source": [
    "We see that we are getting results comparable to our MLP! However, we are using much fewer parameters (weights and biases) in our CNN compared to our MLP.\n",
    "\n",
    "For the MLP, we had 38400 (768 by 50) weights + 50 biases in the hidden layer, and a 500 (50 by 10) weights + 10 biases. The total number of parameters is 38960.\n",
    "\n",
    "For our CNN, we can calculate it using the following code."
   ]
  },
  {
   "cell_type": "code",
   "execution_count": 103,
   "metadata": {},
   "outputs": [
    {
     "data": {
      "text/plain": [
       "5274"
      ]
     },
     "execution_count": 103,
     "metadata": {},
     "output_type": "execute_result"
    }
   ],
   "source": [
    "total_params = 0\n",
    "for param in simple_cnn.parameters():\n",
    "    total_params += param.numel()\n",
    "\n",
    "total_params"
   ]
  },
  {
   "cell_type": "markdown",
   "metadata": {},
   "source": [
    "We have around a 7x savings in number of parameters."
   ]
  },
  {
   "cell_type": "markdown",
   "metadata": {},
   "source": [
    "# Export"
   ]
  },
  {
   "cell_type": "code",
   "execution_count": 105,
   "metadata": {},
   "outputs": [],
   "source": [
    "import nbdev; nbdev.export.nb_export('07_convolutions.ipynb', lib_path='miniai')"
   ]
  },
  {
   "cell_type": "code",
   "execution_count": null,
   "metadata": {},
   "outputs": [],
   "source": []
  }
 ],
 "metadata": {
  "kernelspec": {
   "display_name": "np",
   "language": "python",
   "name": "python3"
  },
  "language_info": {
   "codemirror_mode": {
    "name": "ipython",
    "version": 3
   },
   "file_extension": ".py",
   "mimetype": "text/x-python",
   "name": "python",
   "nbconvert_exporter": "python",
   "pygments_lexer": "ipython3",
   "version": "3.11.3"
  },
  "orig_nbformat": 4
 },
 "nbformat": 4,
 "nbformat_minor": 2
}
