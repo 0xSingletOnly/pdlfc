{
 "cells": [
  {
   "cell_type": "markdown",
   "metadata": {},
   "source": [
    "# Matrix multiplication from scratch\n",
    "In this series, we implement matrix multiplication from scratch. We are only allowed to use:\n",
    "- python\n",
    "- python standard library\n",
    "- matplotlib\n",
    "- Jupyter notebooks\n",
    "However, once we have implemented a feature from scratch, we can use its Numpy/PyTorch equivalent."
   ]
  },
  {
   "cell_type": "code",
   "execution_count": 2,
   "metadata": {},
   "outputs": [],
   "source": [
    "from pathlib import Path\n",
    "import pickle, gzip, math, os, time, shutil, matplotlib as mpl, matplotlib.pyplot as plt     "
   ]
  },
  {
   "cell_type": "markdown",
   "metadata": {},
   "source": [
    "## Get data\n",
    "We use the Fashion-MNIST in this notebook."
   ]
  },
  {
   "cell_type": "code",
   "execution_count": 3,
   "metadata": {},
   "outputs": [],
   "source": [
    "def load_mnist(path, kind='train'):\n",
    "    import os\n",
    "    import gzip\n",
    "    import numpy as np\n",
    "\n",
    "    \"\"\"Load MNIST data from `path`\"\"\"\n",
    "    labels_path = os.path.join(path,\n",
    "                               '%s-labels-idx1-ubyte.gz'\n",
    "                               % kind)\n",
    "    images_path = os.path.join(path,\n",
    "                               '%s-images-idx3-ubyte.gz'\n",
    "                               % kind)\n",
    "\n",
    "    with gzip.open(labels_path, 'rb') as lbpath:\n",
    "        labels = np.frombuffer(lbpath.read(), dtype=np.uint8,\n",
    "                               offset=8)\n",
    "\n",
    "    with gzip.open(images_path, 'rb') as imgpath:\n",
    "        images = np.frombuffer(imgpath.read(), dtype=np.uint8,\n",
    "                               offset=16).reshape(len(labels), 784)\n",
    "\n",
    "    return images, labels"
   ]
  },
  {
   "cell_type": "code",
   "execution_count": 4,
   "metadata": {},
   "outputs": [],
   "source": [
    "X_train, y_train = load_mnist('data/fashion', kind='train')\n",
    "X_test, y_test = load_mnist('data/fashion', kind='t10k')"
   ]
  },
  {
   "cell_type": "code",
   "execution_count": 5,
   "metadata": {},
   "outputs": [
    {
     "data": {
      "text/plain": [
       "numpy.ndarray"
      ]
     },
     "execution_count": 5,
     "metadata": {},
     "output_type": "execute_result"
    }
   ],
   "source": [
    "type(X_train)"
   ]
  },
  {
   "cell_type": "markdown",
   "metadata": {},
   "source": [
    "Since we are not allowed to use Numpy (yet), let's typecast the Numpy arrays back to lists."
   ]
  },
  {
   "cell_type": "code",
   "execution_count": 6,
   "metadata": {},
   "outputs": [],
   "source": [
    "X_train, y_train = list(X_train), list(y_train)\n",
    "X_test, y_test = list(X_test), list(y_test)"
   ]
  },
  {
   "cell_type": "code",
   "execution_count": 7,
   "metadata": {},
   "outputs": [
    {
     "data": {
      "text/plain": [
       "60000"
      ]
     },
     "execution_count": 7,
     "metadata": {},
     "output_type": "execute_result"
    }
   ],
   "source": [
    "len(X_train)"
   ]
  },
  {
   "cell_type": "code",
   "execution_count": 8,
   "metadata": {},
   "outputs": [
    {
     "data": {
      "text/plain": [
       "784"
      ]
     },
     "execution_count": 8,
     "metadata": {},
     "output_type": "execute_result"
    }
   ],
   "source": [
    "len(X_train[0])"
   ]
  },
  {
   "cell_type": "code",
   "execution_count": 9,
   "metadata": {},
   "outputs": [
    {
     "data": {
      "text/plain": [
       "list"
      ]
     },
     "execution_count": 9,
     "metadata": {},
     "output_type": "execute_result"
    }
   ],
   "source": [
    "img = list(X_train[0])\n",
    "type(img)"
   ]
  },
  {
   "cell_type": "markdown",
   "metadata": {},
   "source": [
    "We have 60k images that are 784 (28*28) pixels each."
   ]
  },
  {
   "cell_type": "markdown",
   "metadata": {},
   "source": [
    "## Create iterators to convert 1D list (784) to 2D image (28 by 28)\n",
    "We shall implement this using 2 methods:\n",
    "1. `yield`\n",
    "2. `itertools` `islice`"
   ]
  },
  {
   "cell_type": "markdown",
   "metadata": {},
   "source": [
    "### `yield`"
   ]
  },
  {
   "cell_type": "code",
   "execution_count": 10,
   "metadata": {},
   "outputs": [],
   "source": [
    "def chunks(arr, length):\n",
    "    for i in range(0, len(arr), length):\n",
    "        yield arr[i: i+length]"
   ]
  },
  {
   "cell_type": "code",
   "execution_count": 11,
   "metadata": {},
   "outputs": [
    {
     "data": {
      "text/plain": [
       "<matplotlib.image.AxesImage at 0x1157e8290>"
      ]
     },
     "execution_count": 11,
     "metadata": {},
     "output_type": "execute_result"
    },
    {
     "data": {
      "image/png": "[encoded data removed]",
      "text/plain": [
       "<Figure size 640x480 with 1 Axes>"
      ]
     },
     "metadata": {},
     "output_type": "display_data"
    }
   ],
   "source": [
    "mpl.rcParams['image.cmap'] = 'gray'\n",
    "plt.imshow(list(chunks(img, 28)))"
   ]
  },
  {
   "cell_type": "markdown",
   "metadata": {},
   "source": [
    "### `islice`"
   ]
  },
  {
   "cell_type": "code",
   "execution_count": 12,
   "metadata": {},
   "outputs": [],
   "source": [
    "from itertools import islice"
   ]
  },
  {
   "cell_type": "code",
   "execution_count": 13,
   "metadata": {},
   "outputs": [],
   "source": [
    "img_iter = iter(img)"
   ]
  },
  {
   "cell_type": "code",
   "execution_count": 14,
   "metadata": {},
   "outputs": [
    {
     "data": {
      "text/plain": [
       "[0,\n",
       " 0,\n",
       " 0,\n",
       " 0,\n",
       " 0,\n",
       " 0,\n",
       " 0,\n",
       " 0,\n",
       " 0,\n",
       " 0,\n",
       " 0,\n",
       " 0,\n",
       " 0,\n",
       " 0,\n",
       " 0,\n",
       " 0,\n",
       " 0,\n",
       " 0,\n",
       " 0,\n",
       " 0,\n",
       " 0,\n",
       " 0,\n",
       " 0,\n",
       " 0,\n",
       " 0,\n",
       " 0,\n",
       " 0,\n",
       " 0]"
      ]
     },
     "execution_count": 14,
     "metadata": {},
     "output_type": "execute_result"
    }
   ],
   "source": [
    "list(islice(img_iter, 28))"
   ]
  },
  {
   "cell_type": "code",
   "execution_count": 15,
   "metadata": {},
   "outputs": [
    {
     "data": {
      "text/plain": [
       "[0,\n",
       " 0,\n",
       " 0,\n",
       " 0,\n",
       " 0,\n",
       " 0,\n",
       " 0,\n",
       " 0,\n",
       " 0,\n",
       " 0,\n",
       " 0,\n",
       " 0,\n",
       " 0,\n",
       " 0,\n",
       " 0,\n",
       " 0,\n",
       " 0,\n",
       " 0,\n",
       " 0,\n",
       " 0,\n",
       " 0,\n",
       " 0,\n",
       " 0,\n",
       " 0,\n",
       " 0,\n",
       " 0,\n",
       " 0,\n",
       " 0]"
      ]
     },
     "execution_count": 15,
     "metadata": {},
     "output_type": "execute_result"
    }
   ],
   "source": [
    "list(islice(img_iter, 28))"
   ]
  },
  {
   "cell_type": "code",
   "execution_count": 16,
   "metadata": {},
   "outputs": [
    {
     "data": {
      "text/plain": [
       "[0,\n",
       " 0,\n",
       " 0,\n",
       " 0,\n",
       " 0,\n",
       " 0,\n",
       " 0,\n",
       " 0,\n",
       " 0,\n",
       " 0,\n",
       " 0,\n",
       " 0,\n",
       " 0,\n",
       " 0,\n",
       " 0,\n",
       " 0,\n",
       " 0,\n",
       " 0,\n",
       " 0,\n",
       " 0,\n",
       " 0,\n",
       " 0,\n",
       " 0,\n",
       " 0,\n",
       " 0,\n",
       " 0,\n",
       " 0,\n",
       " 0]"
      ]
     },
     "execution_count": 16,
     "metadata": {},
     "output_type": "execute_result"
    }
   ],
   "source": [
    "list(islice(img_iter, 28))"
   ]
  },
  {
   "cell_type": "code",
   "execution_count": 17,
   "metadata": {},
   "outputs": [
    {
     "data": {
      "text/plain": [
       "[0,\n",
       " 0,\n",
       " 0,\n",
       " 0,\n",
       " 0,\n",
       " 0,\n",
       " 0,\n",
       " 0,\n",
       " 0,\n",
       " 0,\n",
       " 0,\n",
       " 0,\n",
       " 1,\n",
       " 0,\n",
       " 0,\n",
       " 13,\n",
       " 73,\n",
       " 0,\n",
       " 0,\n",
       " 1,\n",
       " 4,\n",
       " 0,\n",
       " 0,\n",
       " 0,\n",
       " 0,\n",
       " 1,\n",
       " 1,\n",
       " 0]"
      ]
     },
     "execution_count": 17,
     "metadata": {},
     "output_type": "execute_result"
    }
   ],
   "source": [
    "list(islice(img_iter, 28))"
   ]
  },
  {
   "cell_type": "markdown",
   "metadata": {},
   "source": [
    "We see that `islice` is working properly."
   ]
  },
  {
   "cell_type": "code",
   "execution_count": 18,
   "metadata": {},
   "outputs": [
    {
     "data": {
      "text/plain": [
       "<matplotlib.image.AxesImage at 0x1225e7410>"
      ]
     },
     "execution_count": 18,
     "metadata": {},
     "output_type": "execute_result"
    },
    {
     "data": {
      "image/png": "[encoded data removed]",
      "text/plain": [
       "<Figure size 640x480 with 1 Axes>"
      ]
     },
     "metadata": {},
     "output_type": "display_data"
    }
   ],
   "source": [
    "reshaped_img = list(iter(lambda: list(islice(img_iter, 28)), []))\n",
    "plt.imshow(reshaped_img)"
   ]
  },
  {
   "cell_type": "markdown",
   "metadata": {},
   "source": [
    "Now that we can reshape our python lists from 1D to 2D, we shall move on to implementing a Matrix class."
   ]
  },
  {
   "cell_type": "markdown",
   "metadata": {},
   "source": [
    "## Implementing Matrix class"
   ]
  },
  {
   "cell_type": "code",
   "execution_count": 19,
   "metadata": {},
   "outputs": [],
   "source": [
    "class Matrix:\n",
    "    def __init__(self, mat): self.mat = mat\n",
    "    def __getitem__(self, idx): \n",
    "        i, j = idx\n",
    "        return self.mat[i][j]"
   ]
  },
  {
   "cell_type": "code",
   "execution_count": 20,
   "metadata": {},
   "outputs": [],
   "source": [
    "img_mat = Matrix(reshaped_img)"
   ]
  },
  {
   "cell_type": "code",
   "execution_count": 21,
   "metadata": {},
   "outputs": [
    {
     "data": {
      "text/plain": [
       "212"
      ]
     },
     "execution_count": 21,
     "metadata": {},
     "output_type": "execute_result"
    }
   ],
   "source": [
    "img_mat[7, 15]"
   ]
  },
  {
   "cell_type": "markdown",
   "metadata": {},
   "source": [
    "We can now use PyTorch's tensor."
   ]
  },
  {
   "cell_type": "code",
   "execution_count": 22,
   "metadata": {},
   "outputs": [],
   "source": [
    "from torch import tensor"
   ]
  },
  {
   "cell_type": "code",
   "execution_count": 23,
   "metadata": {},
   "outputs": [
    {
     "name": "stderr",
     "output_type": "stream",
     "text": [
      "/var/folders/9w/n7wj1hcx50l_4wy5p7w741080000gn/T/ipykernel_4193/4132864298.py:1: UserWarning: Creating a tensor from a list of numpy.ndarrays is extremely slow. Please consider converting the list to a single numpy.ndarray with numpy.array() before converting to a tensor. (Triggered internally at /Users/runner/work/pytorch/pytorch/pytorch/torch/csrc/utils/tensor_new.cpp:248.)\n",
      "  X_train, y_train, X_test, y_test = map(tensor, (X_train, y_train, X_test, y_test))\n"
     ]
    }
   ],
   "source": [
    "X_train, y_train, X_test, y_test = map(tensor, (X_train, y_train, X_test, y_test))"
   ]
  },
  {
   "cell_type": "code",
   "execution_count": 24,
   "metadata": {},
   "outputs": [
    {
     "data": {
      "text/plain": [
       "torch.Size([60000, 784])"
      ]
     },
     "execution_count": 24,
     "metadata": {},
     "output_type": "execute_result"
    }
   ],
   "source": [
    "X_train.shape"
   ]
  },
  {
   "cell_type": "code",
   "execution_count": 25,
   "metadata": {},
   "outputs": [],
   "source": [
    "X_train = X_train.reshape(-1, 28, 28)"
   ]
  },
  {
   "cell_type": "code",
   "execution_count": 26,
   "metadata": {},
   "outputs": [
    {
     "data": {
      "text/plain": [
       "torch.Size([60000, 28, 28])"
      ]
     },
     "execution_count": 26,
     "metadata": {},
     "output_type": "execute_result"
    }
   ],
   "source": [
    "X_train.shape"
   ]
  },
  {
   "cell_type": "markdown",
   "metadata": {},
   "source": [
    "## Wichmann Hill random number generator\n",
    "Wichmann Hill algorithm requires 3 numbers as seed. We shall use the current time to set those seed numbers."
   ]
  },
  {
   "cell_type": "code",
   "execution_count": 27,
   "metadata": {},
   "outputs": [],
   "source": [
    "# LCG parameters (adjust as needed)\n",
    "a = 1664525\n",
    "c = 1013904223\n",
    "m = 2**32\n",
    "\n",
    "global s1, s2, s3\n",
    "# Initialize a single seed (you can use the seed initialization methods mentioned earlier)\n",
    "initial_seed = 69\n",
    "\n",
    "# Function to generate three distinct seeds\n",
    "def generate_seeds(seed, count):\n",
    "    seeds = []\n",
    "    for _ in range(count):\n",
    "        seed = (a * seed + c) % m\n",
    "        seeds.append(seed % 30000 + 1)\n",
    "    return seeds\n",
    "\n",
    "# Generate three distinct seeds\n",
    "s1, s2, s3 = generate_seeds(initial_seed, 3)"
   ]
  },
  {
   "cell_type": "code",
   "execution_count": 28,
   "metadata": {},
   "outputs": [
    {
     "name": "stdout",
     "output_type": "stream",
     "text": [
      "6449 1632 15443\n"
     ]
    }
   ],
   "source": [
    "print(s1, s2, s3)"
   ]
  },
  {
   "cell_type": "code",
   "execution_count": 29,
   "metadata": {},
   "outputs": [],
   "source": [
    "# Wichmann Hill algorithm\n",
    "def random_number():\n",
    "    global s1, s2, s3\n",
    "    s1 = (171 * s1) % 30269\n",
    "    s2 = (172 * s2) % 30307\n",
    "    s3 = (170 * s3) % 30323\n",
    "\n",
    "    return (s1 / 30269.0 + s2 / 30307.0 + s3 / 30323.0) % 1"
   ]
  },
  {
   "cell_type": "code",
   "execution_count": 30,
   "metadata": {},
   "outputs": [
    {
     "data": {
      "text/plain": [
       "0.2728144914355908"
      ]
     },
     "execution_count": 30,
     "metadata": {},
     "output_type": "execute_result"
    }
   ],
   "source": [
    "random_number()"
   ]
  },
  {
   "cell_type": "code",
   "execution_count": 31,
   "metadata": {},
   "outputs": [
    {
     "data": {
      "text/plain": [
       "0.3351217283531356"
      ]
     },
     "execution_count": 31,
     "metadata": {},
     "output_type": "execute_result"
    }
   ],
   "source": [
    "random_number()"
   ]
  },
  {
   "cell_type": "code",
   "execution_count": 32,
   "metadata": {},
   "outputs": [
    {
     "data": {
      "text/plain": [
       "(array([ 983.,  988., 1040., 1024.,  960.,  986., 1049.,  978., 1007.,\n",
       "         985.]),\n",
       " array([1.32909738e-05, 1.00006960e-01, 2.00000629e-01, 2.99994298e-01,\n",
       "        3.99987967e-01, 4.99981636e-01, 5.99975305e-01, 6.99968974e-01,\n",
       "        7.99962643e-01, 8.99956312e-01, 9.99949981e-01]),\n",
       " <BarContainer object of 10 artists>)"
      ]
     },
     "execution_count": 32,
     "metadata": {},
     "output_type": "execute_result"
    },
    {
     "data": {
      "image/png": "[encoded data removed]",
      "text/plain": [
       "<Figure size 640x480 with 1 Axes>"
      ]
     },
     "metadata": {},
     "output_type": "display_data"
    }
   ],
   "source": [
    "plt.hist([random_number() for _ in range(10000)])"
   ]
  },
  {
   "cell_type": "markdown",
   "metadata": {},
   "source": [
    "We want to compare the speed difference in our implementation of random number generation and forming a matrix vs PyTorch's."
   ]
  },
  {
   "cell_type": "code",
   "execution_count": 33,
   "metadata": {},
   "outputs": [
    {
     "name": "stdout",
     "output_type": "stream",
     "text": [
      "1.72 ms ± 53.3 µs per loop (mean ± std. dev. of 7 runs, 10 loops each)\n"
     ]
    }
   ],
   "source": [
    "%timeit -n 10 list(chunks([random_number() for _ in range(7840)], 10))"
   ]
  },
  {
   "cell_type": "code",
   "execution_count": 34,
   "metadata": {},
   "outputs": [],
   "source": [
    "import torch"
   ]
  },
  {
   "cell_type": "code",
   "execution_count": 35,
   "metadata": {},
   "outputs": [
    {
     "name": "stdout",
     "output_type": "stream",
     "text": [
      "99 µs ± 39.8 µs per loop (mean ± std. dev. of 7 runs, 10 loops each)\n"
     ]
    }
   ],
   "source": [
    "%timeit -n 10 torch.randn(784,10)"
   ]
  },
  {
   "cell_type": "markdown",
   "metadata": {},
   "source": [
    "We see that our implementation is approximately 1000 times slower!"
   ]
  },
  {
   "cell_type": "markdown",
   "metadata": {},
   "source": [
    "## Matrix multiplication\n",
    "Now that we have figured out how to load our own matrices, it's time to learn how to implement matrix multiplication from scratch."
   ]
  },
  {
   "cell_type": "code",
   "execution_count": 36,
   "metadata": {},
   "outputs": [
    {
     "data": {
      "text/plain": [
       "torch.Tensor"
      ]
     },
     "execution_count": 36,
     "metadata": {},
     "output_type": "execute_result"
    }
   ],
   "source": [
    "m1 = X_train[:5]\n",
    "type(m1)"
   ]
  },
  {
   "cell_type": "code",
   "execution_count": 37,
   "metadata": {},
   "outputs": [
    {
     "data": {
      "text/plain": [
       "torch.Size([5, 28, 28])"
      ]
     },
     "execution_count": 37,
     "metadata": {},
     "output_type": "execute_result"
    }
   ],
   "source": [
    "m1.shape"
   ]
  },
  {
   "cell_type": "markdown",
   "metadata": {},
   "source": [
    "Let's flatten the array for the purpose of this section."
   ]
  },
  {
   "cell_type": "code",
   "execution_count": 38,
   "metadata": {},
   "outputs": [
    {
     "data": {
      "text/plain": [
       "torch.Size([5, 784])"
      ]
     },
     "execution_count": 38,
     "metadata": {},
     "output_type": "execute_result"
    }
   ],
   "source": [
    "m1 = m1.reshape(m1.shape[0], -1)\n",
    "m1.shape"
   ]
  },
  {
   "cell_type": "code",
   "execution_count": 39,
   "metadata": {},
   "outputs": [],
   "source": [
    "# assume there are 10 outcomes\n",
    "weights = torch.randn((784, 10))\n",
    "m2 = weights"
   ]
  },
  {
   "cell_type": "markdown",
   "metadata": {},
   "source": [
    "### Naive matrix multiplication\n",
    "Let's start with the most naive matrix multiplication, a n^3 iteration."
   ]
  },
  {
   "cell_type": "code",
   "execution_count": 40,
   "metadata": {},
   "outputs": [],
   "source": [
    "def naive_mat_mul(m1, m2):\n",
    "    ar, ac = m1.shape[0], m1.shape[1]\n",
    "    br, bc = m2.shape[0], m2.shape[1]\n",
    "    out = torch.zeros((ar, bc))\n",
    "\n",
    "    for i in range(ar):\n",
    "        for j in range(ac):\n",
    "            for k in range(bc):\n",
    "                out[i, k] += m1[i, j] * m2[j, k]\n",
    "\n",
    "    return out"
   ]
  },
  {
   "cell_type": "code",
   "execution_count": 41,
   "metadata": {},
   "outputs": [
    {
     "data": {
      "text/plain": [
       "tensor([[  825.7801, -5119.0200, -3030.0803,  8452.5508, -1708.8137,  4967.5967,\n",
       "         -3117.9248,  3927.7046,  7520.3359,  2714.1130],\n",
       "        [ 3257.3381, -7608.4561, -3939.4231,  5816.7822,  -793.9747,  4091.6438,\n",
       "         -6302.0020,  4591.6201,  6519.3906, -1864.9594],\n",
       "        [ 2518.8491,  -612.1136, -2174.3574,  2077.1423, -1485.0481,   774.2585,\n",
       "         -2714.1323,  1817.2858,  2972.8625, -1444.4025],\n",
       "        [ 1970.8092, -2111.0867, -3197.2397,  2598.4731, -1814.3883,  2991.3188,\n",
       "         -2650.9753,  2800.6914,  3939.0605, -1780.9260],\n",
       "        [ 3196.2400, -3053.1538, -4891.3228,  2810.9255, -2079.3650,  2528.6565,\n",
       "         -5266.2329,  3704.8628,  3660.6160, -4744.5791]])"
      ]
     },
     "execution_count": 41,
     "metadata": {},
     "output_type": "execute_result"
    }
   ],
   "source": [
    "out = naive_mat_mul(m1, m2)\n",
    "out"
   ]
  },
  {
   "cell_type": "markdown",
   "metadata": {},
   "source": [
    "Let's time this naive implementation."
   ]
  },
  {
   "cell_type": "code",
   "execution_count": 42,
   "metadata": {},
   "outputs": [
    {
     "name": "stdout",
     "output_type": "stream",
     "text": [
      "CPU times: user 439 ms, sys: 2.56 ms, total: 441 ms\n",
      "Wall time: 441 ms\n"
     ]
    }
   ],
   "source": [
    "%time _ = naive_mat_mul(m1, m2)"
   ]
  },
  {
   "cell_type": "markdown",
   "metadata": {},
   "source": [
    "This is slow! It took about half a second."
   ]
  },
  {
   "cell_type": "markdown",
   "metadata": {},
   "source": [
    "### Numba\n",
    "Let's try to use numba for the dot product."
   ]
  },
  {
   "cell_type": "code",
   "execution_count": 43,
   "metadata": {},
   "outputs": [],
   "source": [
    "from numba import jit\n",
    "import numpy as np"
   ]
  },
  {
   "cell_type": "code",
   "execution_count": 44,
   "metadata": {},
   "outputs": [],
   "source": [
    "@jit(nopython=True)\n",
    "def dot(a, b):\n",
    "    total = 0\n",
    "    for i in range(len(a)):\n",
    "        total += a[i] * b[i]\n",
    "\n",
    "    return total"
   ]
  },
  {
   "cell_type": "code",
   "execution_count": 45,
   "metadata": {},
   "outputs": [
    {
     "data": {
      "text/plain": [
       "torch.Size([784])"
      ]
     },
     "execution_count": 45,
     "metadata": {},
     "output_type": "execute_result"
    }
   ],
   "source": [
    "m2[:, 1].shape"
   ]
  },
  {
   "cell_type": "code",
   "execution_count": 46,
   "metadata": {},
   "outputs": [],
   "source": [
    "def numba_mat_mul(m1, m2):\n",
    "    ar, ac = m1.shape[0], m1.shape[1]\n",
    "    br, bc = m2.shape[0], m2.shape[1]\n",
    "    out = torch.zeros((ar, bc))\n",
    "\n",
    "    for i in range(ar):\n",
    "        for k in range(bc):\n",
    "            out[i, k] = dot(m1[i].numpy(), m2[:, k].numpy())\n",
    "\n",
    "    return out"
   ]
  },
  {
   "cell_type": "code",
   "execution_count": 47,
   "metadata": {},
   "outputs": [],
   "source": [
    "out2 = numba_mat_mul(m1, m2)"
   ]
  },
  {
   "cell_type": "code",
   "execution_count": 48,
   "metadata": {},
   "outputs": [
    {
     "data": {
      "text/plain": [
       "tensor([[  825.7802, -5119.0200, -3030.0796,  8452.5527, -1708.8137,  4967.5972,\n",
       "         -3117.9241,  3927.7056,  7520.3369,  2714.1133],\n",
       "        [ 3257.3413, -7608.4575, -3939.4231,  5816.7837,  -793.9749,  4091.6440,\n",
       "         -6302.0034,  4591.6201,  6519.3940, -1864.9586],\n",
       "        [ 2518.8486,  -612.1138, -2174.3591,  2077.1433, -1485.0482,   774.2588,\n",
       "         -2714.1311,  1817.2854,  2972.8635, -1444.4021],\n",
       "        [ 1970.8087, -2111.0872, -3197.2393,  2598.4736, -1814.3889,  2991.3188,\n",
       "         -2650.9753,  2800.6912,  3939.0613, -1780.9260],\n",
       "        [ 3196.2412, -3053.1541, -4891.3228,  2810.9258, -2079.3655,  2528.6555,\n",
       "         -5266.2310,  3704.8618,  3660.6145, -4744.5786]])"
      ]
     },
     "execution_count": 48,
     "metadata": {},
     "output_type": "execute_result"
    }
   ],
   "source": [
    "out2"
   ]
  },
  {
   "cell_type": "code",
   "execution_count": 49,
   "metadata": {},
   "outputs": [
    {
     "name": "stdout",
     "output_type": "stream",
     "text": [
      "CPU times: user 1.08 ms, sys: 1.15 ms, total: 2.23 ms\n",
      "Wall time: 1.3 ms\n"
     ]
    }
   ],
   "source": [
    "%time _ = numba_mat_mul(m1, m2)"
   ]
  },
  {
   "cell_type": "markdown",
   "metadata": {},
   "source": [
    "We see a speed up of close to 200 times!"
   ]
  },
  {
   "cell_type": "markdown",
   "metadata": {},
   "source": [
    "### Pytorch `sum` and `dot`"
   ]
  },
  {
   "cell_type": "code",
   "execution_count": 50,
   "metadata": {},
   "outputs": [
    {
     "data": {
      "text/plain": [
       "torch.Size([784])"
      ]
     },
     "execution_count": 50,
     "metadata": {},
     "output_type": "execute_result"
    }
   ],
   "source": [
    "(m1[0] * m2[:, 0]).shape"
   ]
  },
  {
   "cell_type": "code",
   "execution_count": 51,
   "metadata": {},
   "outputs": [],
   "source": [
    "def sum_mat_mul(m1, m2):\n",
    "    ar, ac = m1.shape[0], m1.shape[1]\n",
    "    br, bc = m2.shape[0], m2.shape[1]\n",
    "    out = torch.zeros((ar, bc))\n",
    "\n",
    "    for i in range(ar):\n",
    "        for k in range(bc):\n",
    "            out[i, k] = (m1[i] * m2[:, k]).sum()\n",
    "\n",
    "    return out"
   ]
  },
  {
   "cell_type": "code",
   "execution_count": 52,
   "metadata": {},
   "outputs": [
    {
     "data": {
      "text/plain": [
       "tensor([[  825.7804, -5119.0186, -3030.0796,  8452.5527, -1708.8136,  4967.5977,\n",
       "         -3117.9243,  3927.7058,  7520.3369,  2714.1133],\n",
       "        [ 3257.3416, -7608.4570, -3939.4224,  5816.7842,  -793.9750,  4091.6440,\n",
       "         -6302.0034,  4591.6206,  6519.3936, -1864.9584],\n",
       "        [ 2518.8486,  -612.1138, -2174.3591,  2077.1436, -1485.0482,   774.2590,\n",
       "         -2714.1313,  1817.2854,  2972.8635, -1444.4020],\n",
       "        [ 1970.8088, -2111.0872, -3197.2397,  2598.4736, -1814.3889,  2991.3188,\n",
       "         -2650.9756,  2800.6912,  3939.0613, -1780.9263],\n",
       "        [ 3196.2407, -3053.1543, -4891.3228,  2810.9258, -2079.3657,  2528.6560,\n",
       "         -5266.2314,  3704.8623,  3660.6147, -4744.5791]])"
      ]
     },
     "execution_count": 52,
     "metadata": {},
     "output_type": "execute_result"
    }
   ],
   "source": [
    "out3 = sum_mat_mul(m1, m2)\n",
    "out3"
   ]
  },
  {
   "cell_type": "code",
   "execution_count": 53,
   "metadata": {},
   "outputs": [
    {
     "name": "stdout",
     "output_type": "stream",
     "text": [
      "CPU times: user 2.02 ms, sys: 1.26 ms, total: 3.28 ms\n",
      "Wall time: 2.39 ms\n"
     ]
    }
   ],
   "source": [
    "%time _ = sum_mat_mul(m1, m2)"
   ]
  },
  {
   "cell_type": "markdown",
   "metadata": {},
   "source": [
    "This is faster than our numba implementation, although that may have been slowed down by calling `.numpy()` repeatedly in the inner loop."
   ]
  },
  {
   "cell_type": "code",
   "execution_count": 54,
   "metadata": {},
   "outputs": [],
   "source": [
    "def dot_mat_mul(m1, m2):\n",
    "    ar, ac = m1.shape[0], m1.shape[1]\n",
    "    br, bc = m2.shape[0], m2.shape[1]\n",
    "    out = torch.zeros((ar, bc))\n",
    "\n",
    "    for i in range(ar):\n",
    "        for k in range(bc):\n",
    "            out[i, k] = torch.dot(m1[i].float(),  m2[:, k])\n",
    "\n",
    "    return out"
   ]
  },
  {
   "cell_type": "code",
   "execution_count": 55,
   "metadata": {},
   "outputs": [
    {
     "data": {
      "text/plain": [
       "tensor([[  825.7800, -5119.0195, -3030.0791,  8452.5518, -1708.8132,  4967.5977,\n",
       "         -3117.9241,  3927.7041,  7520.3379,  2714.1138],\n",
       "        [ 3257.3423, -7608.4585, -3939.4219,  5816.7842,  -793.9749,  4091.6438,\n",
       "         -6302.0039,  4591.6196,  6519.3945, -1864.9591],\n",
       "        [ 2518.8481,  -612.1136, -2174.3594,  2077.1433, -1485.0482,   774.2589,\n",
       "         -2714.1311,  1817.2855,  2972.8638, -1444.4021],\n",
       "        [ 1970.8088, -2111.0869, -3197.2390,  2598.4739, -1814.3887,  2991.3193,\n",
       "         -2650.9756,  2800.6912,  3939.0618, -1780.9270],\n",
       "        [ 3196.2412, -3053.1536, -4891.3223,  2810.9253, -2079.3652,  2528.6567,\n",
       "         -5266.2305,  3704.8618,  3660.6147, -4744.5781]])"
      ]
     },
     "execution_count": 55,
     "metadata": {},
     "output_type": "execute_result"
    }
   ],
   "source": [
    "out4 = dot_mat_mul(m1, m2)\n",
    "out4"
   ]
  },
  {
   "cell_type": "code",
   "execution_count": 56,
   "metadata": {},
   "outputs": [
    {
     "name": "stdout",
     "output_type": "stream",
     "text": [
      "CPU times: user 1.86 ms, sys: 1.48 ms, total: 3.34 ms\n",
      "Wall time: 2.59 ms\n"
     ]
    }
   ],
   "source": [
    "%time _ = dot_mat_mul(m1, m2)"
   ]
  },
  {
   "cell_type": "markdown",
   "metadata": {},
   "source": [
    "### Broadcasting\n",
    "Now let's try broadcasting where we only have 1 outer loop."
   ]
  },
  {
   "cell_type": "code",
   "execution_count": 57,
   "metadata": {},
   "outputs": [
    {
     "data": {
      "text/plain": [
       "torch.Size([784])"
      ]
     },
     "execution_count": 57,
     "metadata": {},
     "output_type": "execute_result"
    }
   ],
   "source": [
    "m1[0].shape"
   ]
  },
  {
   "cell_type": "code",
   "execution_count": 58,
   "metadata": {},
   "outputs": [
    {
     "data": {
      "text/plain": [
       "torch.Size([10, 784])"
      ]
     },
     "execution_count": 58,
     "metadata": {},
     "output_type": "execute_result"
    }
   ],
   "source": [
    "m2_transposed = torch.transpose(m2, 1, 0)\n",
    "m2_transposed.shape"
   ]
  },
  {
   "cell_type": "code",
   "execution_count": 59,
   "metadata": {},
   "outputs": [
    {
     "data": {
      "text/plain": [
       "torch.Size([10, 784])"
      ]
     },
     "execution_count": 59,
     "metadata": {},
     "output_type": "execute_result"
    }
   ],
   "source": [
    "(m1[0] * m2_transposed).shape"
   ]
  },
  {
   "cell_type": "code",
   "execution_count": 60,
   "metadata": {},
   "outputs": [
    {
     "data": {
      "text/plain": [
       "tensor([  825.7808, -5119.0200, -3030.0806,  8452.5527, -1708.8138,  4967.5967,\n",
       "        -3117.9238,  3927.7053,  7520.3379,  2714.1138])"
      ]
     },
     "execution_count": 60,
     "metadata": {},
     "output_type": "execute_result"
    }
   ],
   "source": [
    "(m1[0] * m2_transposed).sum(axis = 1)"
   ]
  },
  {
   "cell_type": "code",
   "execution_count": 61,
   "metadata": {},
   "outputs": [],
   "source": [
    "def broadcast_mat_mul(m1, m2):\n",
    "    ar, ac = m1.shape[0], m1.shape[1]\n",
    "    br, bc = m2.shape[0], m2.shape[1]\n",
    "    out = torch.zeros((ar, bc))\n",
    "\n",
    "    m2_transposed = torch.transpose(m2, 1, 0)\n",
    "    for i in range(ar):\n",
    "        out[i] = (m1[i] * m2_transposed).sum(axis=1)\n",
    "\n",
    "    return out"
   ]
  },
  {
   "cell_type": "code",
   "execution_count": 62,
   "metadata": {},
   "outputs": [
    {
     "data": {
      "text/plain": [
       "tensor([[  825.7808, -5119.0200, -3030.0806,  8452.5527, -1708.8138,  4967.5967,\n",
       "         -3117.9238,  3927.7053,  7520.3379,  2714.1138],\n",
       "        [ 3257.3413, -7608.4580, -3939.4224,  5816.7832,  -793.9751,  4091.6443,\n",
       "         -6302.0044,  4591.6201,  6519.3931, -1864.9583],\n",
       "        [ 2518.8486,  -612.1140, -2174.3594,  2077.1433, -1485.0486,   774.2588,\n",
       "         -2714.1309,  1817.2853,  2972.8635, -1444.4021],\n",
       "        [ 1970.8086, -2111.0872, -3197.2400,  2598.4736, -1814.3889,  2991.3188,\n",
       "         -2650.9749,  2800.6909,  3939.0613, -1780.9260],\n",
       "        [ 3196.2417, -3053.1536, -4891.3228,  2810.9258, -2079.3657,  2528.6560,\n",
       "         -5266.2314,  3704.8618,  3660.6147, -4744.5781]])"
      ]
     },
     "execution_count": 62,
     "metadata": {},
     "output_type": "execute_result"
    }
   ],
   "source": [
    "out5 = broadcast_mat_mul(m1, m2)\n",
    "out5"
   ]
  },
  {
   "cell_type": "code",
   "execution_count": 63,
   "metadata": {},
   "outputs": [
    {
     "name": "stdout",
     "output_type": "stream",
     "text": [
      "CPU times: user 480 µs, sys: 624 µs, total: 1.1 ms\n",
      "Wall time: 584 µs\n"
     ]
    }
   ],
   "source": [
    "%time _ = broadcast_mat_mul(m1, m2)"
   ]
  },
  {
   "cell_type": "markdown",
   "metadata": {},
   "source": [
    "### Einstein summation"
   ]
  },
  {
   "cell_type": "code",
   "execution_count": 64,
   "metadata": {},
   "outputs": [],
   "source": [
    "def einsum_mat_mul(a, b):\n",
    "    return torch.einsum('ij,jk->ik', a, b)"
   ]
  },
  {
   "cell_type": "code",
   "execution_count": 69,
   "metadata": {},
   "outputs": [
    {
     "data": {
      "text/plain": [
       "torch.Size([784, 10])"
      ]
     },
     "execution_count": 69,
     "metadata": {},
     "output_type": "execute_result"
    }
   ],
   "source": [
    "m2.shape"
   ]
  },
  {
   "cell_type": "code",
   "execution_count": 67,
   "metadata": {},
   "outputs": [
    {
     "data": {
      "text/plain": [
       "tensor([[  825.7798, -5119.0195, -3030.0803,  8452.5508, -1708.8147,  4967.5957,\n",
       "         -3117.9253,  3927.7041,  7520.3359,  2714.1133],\n",
       "        [ 3257.3391, -7608.4556, -3939.4231,  5816.7812,  -793.9745,  4091.6443,\n",
       "         -6302.0020,  4591.6206,  6519.3896, -1864.9598],\n",
       "        [ 2518.8494,  -612.1133, -2174.3584,  2077.1428, -1485.0483,   774.2583,\n",
       "         -2714.1323,  1817.2858,  2972.8625, -1444.4025],\n",
       "        [ 1970.8090, -2111.0872, -3197.2400,  2598.4736, -1814.3888,  2991.3193,\n",
       "         -2650.9756,  2800.6917,  3939.0610, -1780.9263],\n",
       "        [ 3196.2397, -3053.1536, -4891.3242,  2810.9253, -2079.3645,  2528.6555,\n",
       "         -5266.2324,  3704.8621,  3660.6162, -4744.5791]])"
      ]
     },
     "execution_count": 67,
     "metadata": {},
     "output_type": "execute_result"
    }
   ],
   "source": [
    "out6 = einsum_mat_mul(m1.float(), m2.float())\n",
    "out6"
   ]
  },
  {
   "cell_type": "code",
   "execution_count": 71,
   "metadata": {},
   "outputs": [],
   "source": [
    "m1 = m1.float()\n",
    "m2 = m2.float()"
   ]
  },
  {
   "cell_type": "code",
   "execution_count": 72,
   "metadata": {},
   "outputs": [
    {
     "name": "stdout",
     "output_type": "stream",
     "text": [
      "CPU times: user 360 µs, sys: 229 µs, total: 589 µs\n",
      "Wall time: 365 µs\n"
     ]
    }
   ],
   "source": [
    "%time _ = einsum_mat_mul(m1, m2)"
   ]
  },
  {
   "cell_type": "markdown",
   "metadata": {},
   "source": [
    "Now this is faster than using broadcasting to do our matrix multiplication! We can also use PyTorch's in-built `@` or `torch.matmul`."
   ]
  },
  {
   "cell_type": "code",
   "execution_count": 73,
   "metadata": {},
   "outputs": [
    {
     "name": "stdout",
     "output_type": "stream",
     "text": [
      "CPU times: user 372 µs, sys: 433 µs, total: 805 µs\n",
      "Wall time: 384 µs\n"
     ]
    }
   ],
   "source": [
    "%time _ = m1@m2"
   ]
  },
  {
   "cell_type": "code",
   "execution_count": 74,
   "metadata": {},
   "outputs": [
    {
     "name": "stdout",
     "output_type": "stream",
     "text": [
      "CPU times: user 194 µs, sys: 80 µs, total: 274 µs\n",
      "Wall time: 251 µs\n"
     ]
    }
   ],
   "source": [
    "%time _ = torch.matmul(m1, m2)"
   ]
  },
  {
   "cell_type": "markdown",
   "metadata": {},
   "source": [
    "Surprisingly, `torch.matmul` is the fastest thus far. Now let's try to use CUDA to speed things up via parallelisation."
   ]
  },
  {
   "cell_type": "markdown",
   "metadata": {},
   "source": [
    "## CUDA\n",
    "The fundamental idea behind CUDA/parallelisation is that we can see matrix multiplication of 2 matrices as finding a single element of the output matrix (i, j) at one time. Then, we parallelise finding a single element (i.e. computing each element in parallel)."
   ]
  },
  {
   "cell_type": "code",
   "execution_count": 77,
   "metadata": {},
   "outputs": [],
   "source": [
    "def cuda_sim_mat_mul(grid, a, b, c):\n",
    "    i, j = grid # destructuring\n",
    "    if i < a.shape[0] and j < b.shape[1]:\n",
    "        tmp = 0.0\n",
    "        for k in range(a.shape[1]):\n",
    "            tmp += a[i, k] * b[k, j]\n",
    "\n",
    "        c[i, j] = tmp"
   ]
  },
  {
   "cell_type": "code",
   "execution_count": 78,
   "metadata": {},
   "outputs": [
    {
     "data": {
      "text/plain": [
       "tensor([[825.7801,   0.0000,   0.0000,   0.0000,   0.0000,   0.0000,   0.0000,\n",
       "           0.0000,   0.0000,   0.0000],\n",
       "        [  0.0000,   0.0000,   0.0000,   0.0000,   0.0000,   0.0000,   0.0000,\n",
       "           0.0000,   0.0000,   0.0000],\n",
       "        [  0.0000,   0.0000,   0.0000,   0.0000,   0.0000,   0.0000,   0.0000,\n",
       "           0.0000,   0.0000,   0.0000],\n",
       "        [  0.0000,   0.0000,   0.0000,   0.0000,   0.0000,   0.0000,   0.0000,\n",
       "           0.0000,   0.0000,   0.0000],\n",
       "        [  0.0000,   0.0000,   0.0000,   0.0000,   0.0000,   0.0000,   0.0000,\n",
       "           0.0000,   0.0000,   0.0000]])"
      ]
     },
     "execution_count": 78,
     "metadata": {},
     "output_type": "execute_result"
    }
   ],
   "source": [
    "out7 = torch.zeros((m1.shape[0], m2.shape[1]))\n",
    "cuda_sim_mat_mul((0,0), m1, m2, out7)\n",
    "out7"
   ]
  },
  {
   "cell_type": "markdown",
   "metadata": {},
   "source": [
    "Yep, it is working correctly for our first element. Now we need to do this in parallel. To do so, we need a Nvidia GPU."
   ]
  },
  {
   "cell_type": "code",
   "execution_count": 80,
   "metadata": {},
   "outputs": [],
   "source": [
    "from numba import cuda"
   ]
  },
  {
   "cell_type": "code",
   "execution_count": 81,
   "metadata": {},
   "outputs": [],
   "source": [
    "@cuda.jit\n",
    "def matmul(a,b,c):\n",
    "    i, j = cuda.grid(2)\n",
    "    if i < c.shape[0] and j < c.shape[1]:\n",
    "        tmp = 0.\n",
    "        for k in range(a.shape[1]): tmp += a[i, k] * b[k, j]\n",
    "        c[i,j] = tmp"
   ]
  },
  {
   "cell_type": "code",
   "execution_count": null,
   "metadata": {},
   "outputs": [],
   "source": [
    "out8 = torch.zeros((m1.shape[0], m2.shape[1]))\n",
    "m1c, m2c, out8c = map(cuda.to_device, (m1, m2, out8))"
   ]
  }
 ],
 "metadata": {
  "kernelspec": {
   "display_name": "np",
   "language": "python",
   "name": "python3"
  },
  "language_info": {
   "codemirror_mode": {
    "name": "ipython",
    "version": 3
   },
   "file_extension": ".py",
   "mimetype": "text/x-python",
   "name": "python",
   "nbconvert_exporter": "python",
   "pygments_lexer": "ipython3",
   "version": "3.11.3"
  },
  "orig_nbformat": 4
 },
 "nbformat": 4,
 "nbformat_minor": 2
}
