{
  "cells": [
    {
      "cell_type": "code",
      "source": [
        "from google.colab import drive\n",
        "drive.mount('/content/drive')"
      ],
      "metadata": {
        "id": "Qp4W0HTaGneN",
        "outputId": "2ed00fba-427d-4a5f-a92d-deaa56d2c4c3",
        "colab": {
          "base_uri": "https://localhost:8080/"
        }
      },
      "execution_count": 1,
      "outputs": [
        {
          "output_type": "stream",
          "name": "stdout",
          "text": [
            "Mounted at /content/drive\n"
          ]
        }
      ]
    },
    {
      "cell_type": "markdown",
      "metadata": {
        "id": "GprOxrNuEUCM"
      },
      "source": [
        "# Matrix multiplication from scratch\n",
        "In this series, we implement matrix multiplication from scratch. We are only allowed to use:\n",
        "- python\n",
        "- python standard library\n",
        "- matplotlib\n",
        "- Jupyter notebooks\n",
        "However, once we have implemented a feature from scratch, we can use its Numpy/PyTorch equivalent."
      ]
    },
    {
      "cell_type": "code",
      "execution_count": 2,
      "metadata": {
        "id": "sa7U3zeEEUCP"
      },
      "outputs": [],
      "source": [
        "from pathlib import Path\n",
        "import pickle, gzip, math, os, time, shutil, matplotlib as mpl, matplotlib.pyplot as plt"
      ]
    },
    {
      "cell_type": "markdown",
      "metadata": {
        "id": "8Hy6cxj0EUCQ"
      },
      "source": [
        "## Get data\n",
        "We use the Fashion-MNIST in this notebook."
      ]
    },
    {
      "cell_type": "code",
      "execution_count": 3,
      "metadata": {
        "id": "-PjnM3bEEUCQ"
      },
      "outputs": [],
      "source": [
        "def load_mnist(path, kind='train'):\n",
        "    import os\n",
        "    import gzip\n",
        "    import numpy as np\n",
        "\n",
        "    \"\"\"Load MNIST data from `path`\"\"\"\n",
        "    labels_path = os.path.join(path,\n",
        "                               '%s-labels-idx1-ubyte.gz'\n",
        "                               % kind)\n",
        "    images_path = os.path.join(path,\n",
        "                               '%s-images-idx3-ubyte.gz'\n",
        "                               % kind)\n",
        "\n",
        "    with gzip.open(labels_path, 'rb') as lbpath:\n",
        "        labels = np.frombuffer(lbpath.read(), dtype=np.uint8,\n",
        "                               offset=8)\n",
        "\n",
        "    with gzip.open(images_path, 'rb') as imgpath:\n",
        "        images = np.frombuffer(imgpath.read(), dtype=np.uint8,\n",
        "                               offset=16).reshape(len(labels), 784)\n",
        "\n",
        "    return images, labels"
      ]
    },
    {
      "cell_type": "code",
      "execution_count": 4,
      "metadata": {
        "id": "lVTzfYMlEUCS"
      },
      "outputs": [],
      "source": [
        "X_train, y_train = load_mnist('/content/drive/MyDrive/PDLFC/data/fashion', kind='train')\n",
        "X_test, y_test = load_mnist('/content/drive/MyDrive/PDLFC/data/fashion', kind='t10k')"
      ]
    },
    {
      "cell_type": "code",
      "execution_count": 5,
      "metadata": {
        "id": "GB-rknUFEUCS",
        "outputId": "3a26a6a8-13f5-41a8-b04f-54aaea84912c",
        "colab": {
          "base_uri": "https://localhost:8080/"
        }
      },
      "outputs": [
        {
          "output_type": "execute_result",
          "data": {
            "text/plain": [
              "numpy.ndarray"
            ]
          },
          "metadata": {},
          "execution_count": 5
        }
      ],
      "source": [
        "type(X_train)"
      ]
    },
    {
      "cell_type": "markdown",
      "metadata": {
        "id": "q4ZGgfS4EUCT"
      },
      "source": [
        "Since we are not allowed to use Numpy (yet), let's typecast the Numpy arrays back to lists."
      ]
    },
    {
      "cell_type": "code",
      "execution_count": 6,
      "metadata": {
        "id": "G-qR5T9zEUCT"
      },
      "outputs": [],
      "source": [
        "X_train, y_train = list(X_train), list(y_train)\n",
        "X_test, y_test = list(X_test), list(y_test)"
      ]
    },
    {
      "cell_type": "code",
      "execution_count": 7,
      "metadata": {
        "id": "ZCNWEYDXEUCU",
        "outputId": "5f711fd5-ceaa-459f-bfac-d0073ec2dd6b",
        "colab": {
          "base_uri": "https://localhost:8080/"
        }
      },
      "outputs": [
        {
          "output_type": "execute_result",
          "data": {
            "text/plain": [
              "60000"
            ]
          },
          "metadata": {},
          "execution_count": 7
        }
      ],
      "source": [
        "len(X_train)"
      ]
    },
    {
      "cell_type": "code",
      "execution_count": 8,
      "metadata": {
        "id": "A5G-LdzWEUCV",
        "outputId": "a243ffce-9dfc-40d6-dd11-b3d0175ff438",
        "colab": {
          "base_uri": "https://localhost:8080/"
        }
      },
      "outputs": [
        {
          "output_type": "execute_result",
          "data": {
            "text/plain": [
              "784"
            ]
          },
          "metadata": {},
          "execution_count": 8
        }
      ],
      "source": [
        "len(X_train[0])"
      ]
    },
    {
      "cell_type": "code",
      "execution_count": 9,
      "metadata": {
        "id": "gqF9bTnEEUCW",
        "outputId": "d6a75cf0-1c5d-4cd8-db15-9a72312c50f9",
        "colab": {
          "base_uri": "https://localhost:8080/"
        }
      },
      "outputs": [
        {
          "output_type": "execute_result",
          "data": {
            "text/plain": [
              "list"
            ]
          },
          "metadata": {},
          "execution_count": 9
        }
      ],
      "source": [
        "img = list(X_train[0])\n",
        "type(img)"
      ]
    },
    {
      "cell_type": "markdown",
      "metadata": {
        "id": "TbuA_1_LEUCW"
      },
      "source": [
        "We have 60k images that are 784 (28*28) pixels each."
      ]
    },
    {
      "cell_type": "markdown",
      "metadata": {
        "id": "9O60JL1cEUCW"
      },
      "source": [
        "## Create iterators to convert 1D list (784) to 2D image (28 by 28)\n",
        "We shall implement this using 2 methods:\n",
        "1. `yield`\n",
        "2. `itertools` `islice`"
      ]
    },
    {
      "cell_type": "markdown",
      "metadata": {
        "id": "hLS5aw_QEUCW"
      },
      "source": [
        "### `yield`"
      ]
    },
    {
      "cell_type": "code",
      "execution_count": 10,
      "metadata": {
        "id": "KLsqEZmFEUCX"
      },
      "outputs": [],
      "source": [
        "def chunks(arr, length):\n",
        "    for i in range(0, len(arr), length):\n",
        "        yield arr[i: i+length]"
      ]
    },
    {
      "cell_type": "code",
      "execution_count": 11,
      "metadata": {
        "id": "K_1w8ra9EUCX",
        "outputId": "d79f6dbd-5a87-4876-c8dd-f4f815030c6d",
        "colab": {
          "base_uri": "https://localhost:8080/",
          "height": 448
        }
      },
      "outputs": [
        {
          "output_type": "execute_result",
          "data": {
            "text/plain": [
              "<matplotlib.image.AxesImage at 0x7de65ad60970>"
            ]
          },
          "metadata": {},
          "execution_count": 11
        },
        {
          "output_type": "display_data",
          "data": {
            "text/plain": [
              "<Figure size 640x480 with 1 Axes>"
            ],
            "image/png": "[encoded data removed]"
          },
          "metadata": {}
        }
      ],
      "source": [
        "mpl.rcParams['image.cmap'] = 'gray'\n",
        "plt.imshow(list(chunks(img, 28)))"
      ]
    },
    {
      "cell_type": "markdown",
      "metadata": {
        "id": "d1J9eGbVEUCX"
      },
      "source": [
        "### `islice`"
      ]
    },
    {
      "cell_type": "code",
      "execution_count": 12,
      "metadata": {
        "id": "MK6vCzvCEUCY"
      },
      "outputs": [],
      "source": [
        "from itertools import islice"
      ]
    },
    {
      "cell_type": "code",
      "execution_count": 13,
      "metadata": {
        "id": "yyC1eaGVEUCY"
      },
      "outputs": [],
      "source": [
        "img_iter = iter(img)"
      ]
    },
    {
      "cell_type": "code",
      "execution_count": 14,
      "metadata": {
        "id": "jrlB1w9yEUCY",
        "outputId": "8a01382c-c8dc-4ba6-b1c3-49f6bf76433c",
        "colab": {
          "base_uri": "https://localhost:8080/"
        }
      },
      "outputs": [
        {
          "output_type": "execute_result",
          "data": {
            "text/plain": [
              "[0,\n",
              " 0,\n",
              " 0,\n",
              " 0,\n",
              " 0,\n",
              " 0,\n",
              " 0,\n",
              " 0,\n",
              " 0,\n",
              " 0,\n",
              " 0,\n",
              " 0,\n",
              " 0,\n",
              " 0,\n",
              " 0,\n",
              " 0,\n",
              " 0,\n",
              " 0,\n",
              " 0,\n",
              " 0,\n",
              " 0,\n",
              " 0,\n",
              " 0,\n",
              " 0,\n",
              " 0,\n",
              " 0,\n",
              " 0,\n",
              " 0]"
            ]
          },
          "metadata": {},
          "execution_count": 14
        }
      ],
      "source": [
        "list(islice(img_iter, 28))"
      ]
    },
    {
      "cell_type": "code",
      "execution_count": 15,
      "metadata": {
        "id": "i774Esm0EUCZ",
        "outputId": "5eaeb17a-3d06-4f5b-c2eb-486292b6d1e1",
        "colab": {
          "base_uri": "https://localhost:8080/"
        }
      },
      "outputs": [
        {
          "output_type": "execute_result",
          "data": {
            "text/plain": [
              "[0,\n",
              " 0,\n",
              " 0,\n",
              " 0,\n",
              " 0,\n",
              " 0,\n",
              " 0,\n",
              " 0,\n",
              " 0,\n",
              " 0,\n",
              " 0,\n",
              " 0,\n",
              " 0,\n",
              " 0,\n",
              " 0,\n",
              " 0,\n",
              " 0,\n",
              " 0,\n",
              " 0,\n",
              " 0,\n",
              " 0,\n",
              " 0,\n",
              " 0,\n",
              " 0,\n",
              " 0,\n",
              " 0,\n",
              " 0,\n",
              " 0]"
            ]
          },
          "metadata": {},
          "execution_count": 15
        }
      ],
      "source": [
        "list(islice(img_iter, 28))"
      ]
    },
    {
      "cell_type": "code",
      "execution_count": 16,
      "metadata": {
        "id": "BaDWOydHEUCZ",
        "outputId": "2b8c7456-90fc-4d70-e175-8539365b190e",
        "colab": {
          "base_uri": "https://localhost:8080/"
        }
      },
      "outputs": [
        {
          "output_type": "execute_result",
          "data": {
            "text/plain": [
              "[0,\n",
              " 0,\n",
              " 0,\n",
              " 0,\n",
              " 0,\n",
              " 0,\n",
              " 0,\n",
              " 0,\n",
              " 0,\n",
              " 0,\n",
              " 0,\n",
              " 0,\n",
              " 0,\n",
              " 0,\n",
              " 0,\n",
              " 0,\n",
              " 0,\n",
              " 0,\n",
              " 0,\n",
              " 0,\n",
              " 0,\n",
              " 0,\n",
              " 0,\n",
              " 0,\n",
              " 0,\n",
              " 0,\n",
              " 0,\n",
              " 0]"
            ]
          },
          "metadata": {},
          "execution_count": 16
        }
      ],
      "source": [
        "list(islice(img_iter, 28))"
      ]
    },
    {
      "cell_type": "code",
      "execution_count": 17,
      "metadata": {
        "id": "QSOyeObYEUCZ",
        "outputId": "95f5fc09-507b-450f-c5cb-dfef2b7133db",
        "colab": {
          "base_uri": "https://localhost:8080/"
        }
      },
      "outputs": [
        {
          "output_type": "execute_result",
          "data": {
            "text/plain": [
              "[0,\n",
              " 0,\n",
              " 0,\n",
              " 0,\n",
              " 0,\n",
              " 0,\n",
              " 0,\n",
              " 0,\n",
              " 0,\n",
              " 0,\n",
              " 0,\n",
              " 0,\n",
              " 1,\n",
              " 0,\n",
              " 0,\n",
              " 13,\n",
              " 73,\n",
              " 0,\n",
              " 0,\n",
              " 1,\n",
              " 4,\n",
              " 0,\n",
              " 0,\n",
              " 0,\n",
              " 0,\n",
              " 1,\n",
              " 1,\n",
              " 0]"
            ]
          },
          "metadata": {},
          "execution_count": 17
        }
      ],
      "source": [
        "list(islice(img_iter, 28))"
      ]
    },
    {
      "cell_type": "markdown",
      "metadata": {
        "id": "xExPLYrREUCa"
      },
      "source": [
        "We see that `islice` is working properly."
      ]
    },
    {
      "cell_type": "code",
      "execution_count": 18,
      "metadata": {
        "id": "_LHwG9zKEUCa",
        "outputId": "1359a12f-b45d-4f9d-a8be-48f897bee2e3",
        "colab": {
          "base_uri": "https://localhost:8080/",
          "height": 448
        }
      },
      "outputs": [
        {
          "output_type": "execute_result",
          "data": {
            "text/plain": [
              "<matplotlib.image.AxesImage at 0x7de6313e5ed0>"
            ]
          },
          "metadata": {},
          "execution_count": 18
        },
        {
          "output_type": "display_data",
          "data": {
            "text/plain": [
              "<Figure size 640x480 with 1 Axes>"
            ],
            "image/png": "[encoded data removed]"
          },
          "metadata": {}
        }
      ],
      "source": [
        "reshaped_img = list(iter(lambda: list(islice(img_iter, 28)), []))\n",
        "plt.imshow(reshaped_img)"
      ]
    },
    {
      "cell_type": "markdown",
      "metadata": {
        "id": "TTQYboy3EUCa"
      },
      "source": [
        "Now that we can reshape our python lists from 1D to 2D, we shall move on to implementing a Matrix class."
      ]
    },
    {
      "cell_type": "markdown",
      "metadata": {
        "id": "Os8tGgMYEUCb"
      },
      "source": [
        "## Implementing Matrix class"
      ]
    },
    {
      "cell_type": "code",
      "execution_count": 19,
      "metadata": {
        "id": "q2kb8BlBEUCb"
      },
      "outputs": [],
      "source": [
        "class Matrix:\n",
        "    def __init__(self, mat): self.mat = mat\n",
        "    def __getitem__(self, idx):\n",
        "        i, j = idx\n",
        "        return self.mat[i][j]"
      ]
    },
    {
      "cell_type": "code",
      "execution_count": 20,
      "metadata": {
        "id": "hQYyY8LnEUCc"
      },
      "outputs": [],
      "source": [
        "img_mat = Matrix(reshaped_img)"
      ]
    },
    {
      "cell_type": "code",
      "execution_count": 21,
      "metadata": {
        "id": "0wquYKXCEUCc",
        "outputId": "536be86d-8953-4b0f-e0b4-00c6d631d7f3",
        "colab": {
          "base_uri": "https://localhost:8080/"
        }
      },
      "outputs": [
        {
          "output_type": "execute_result",
          "data": {
            "text/plain": [
              "212"
            ]
          },
          "metadata": {},
          "execution_count": 21
        }
      ],
      "source": [
        "img_mat[7, 15]"
      ]
    },
    {
      "cell_type": "markdown",
      "metadata": {
        "id": "ZHIBRi03EUCc"
      },
      "source": [
        "We can now use PyTorch's tensor."
      ]
    },
    {
      "cell_type": "code",
      "execution_count": 22,
      "metadata": {
        "id": "ZSABPTRYEUCd"
      },
      "outputs": [],
      "source": [
        "from torch import tensor"
      ]
    },
    {
      "cell_type": "code",
      "execution_count": 23,
      "metadata": {
        "id": "YSvJ0MTZEUCd",
        "outputId": "5d63aea9-bf45-4c40-8858-f33d68c81f41",
        "colab": {
          "base_uri": "https://localhost:8080/"
        }
      },
      "outputs": [
        {
          "output_type": "stream",
          "name": "stderr",
          "text": [
            "<ipython-input-23-4535cbaf2aad>:1: UserWarning: Creating a tensor from a list of numpy.ndarrays is extremely slow. Please consider converting the list to a single numpy.ndarray with numpy.array() before converting to a tensor. (Triggered internally at ../torch/csrc/utils/tensor_new.cpp:245.)\n",
            "  X_train, y_train, X_test, y_test = map(tensor, (X_train, y_train, X_test, y_test))\n"
          ]
        }
      ],
      "source": [
        "X_train, y_train, X_test, y_test = map(tensor, (X_train, y_train, X_test, y_test))"
      ]
    },
    {
      "cell_type": "code",
      "execution_count": 24,
      "metadata": {
        "id": "LiX-v8anEUCd",
        "outputId": "240869e2-a359-4e27-a50b-9fb14b2efa56",
        "colab": {
          "base_uri": "https://localhost:8080/"
        }
      },
      "outputs": [
        {
          "output_type": "execute_result",
          "data": {
            "text/plain": [
              "torch.Size([60000, 784])"
            ]
          },
          "metadata": {},
          "execution_count": 24
        }
      ],
      "source": [
        "X_train.shape"
      ]
    },
    {
      "cell_type": "code",
      "execution_count": 25,
      "metadata": {
        "id": "qVJuICnpEUCe"
      },
      "outputs": [],
      "source": [
        "X_train = X_train.reshape(-1, 28, 28)"
      ]
    },
    {
      "cell_type": "code",
      "execution_count": 26,
      "metadata": {
        "id": "ZG_gbCvrEUCe",
        "outputId": "be2b991a-5c39-4a81-e986-0986c30571d5",
        "colab": {
          "base_uri": "https://localhost:8080/"
        }
      },
      "outputs": [
        {
          "output_type": "execute_result",
          "data": {
            "text/plain": [
              "torch.Size([60000, 28, 28])"
            ]
          },
          "metadata": {},
          "execution_count": 26
        }
      ],
      "source": [
        "X_train.shape"
      ]
    },
    {
      "cell_type": "markdown",
      "metadata": {
        "id": "D6b46_8oEUCe"
      },
      "source": [
        "## Wichmann Hill random number generator\n",
        "Wichmann Hill algorithm requires 3 numbers as seed. We shall use the current time to set those seed numbers."
      ]
    },
    {
      "cell_type": "code",
      "execution_count": 27,
      "metadata": {
        "id": "7GeHpahBEUCe"
      },
      "outputs": [],
      "source": [
        "# LCG parameters (adjust as needed)\n",
        "a = 1664525\n",
        "c = 1013904223\n",
        "m = 2**32\n",
        "\n",
        "global s1, s2, s3\n",
        "# Initialize a single seed (you can use the seed initialization methods mentioned earlier)\n",
        "initial_seed = 69\n",
        "\n",
        "# Function to generate three distinct seeds\n",
        "def generate_seeds(seed, count):\n",
        "    seeds = []\n",
        "    for _ in range(count):\n",
        "        seed = (a * seed + c) % m\n",
        "        seeds.append(seed % 30000 + 1)\n",
        "    return seeds\n",
        "\n",
        "# Generate three distinct seeds\n",
        "s1, s2, s3 = generate_seeds(initial_seed, 3)"
      ]
    },
    {
      "cell_type": "code",
      "execution_count": 28,
      "metadata": {
        "id": "r1oSU05FEUCf",
        "outputId": "3a72a17d-c740-449c-bd44-8866a99917c0",
        "colab": {
          "base_uri": "https://localhost:8080/"
        }
      },
      "outputs": [
        {
          "output_type": "stream",
          "name": "stdout",
          "text": [
            "6449 1632 15443\n"
          ]
        }
      ],
      "source": [
        "print(s1, s2, s3)"
      ]
    },
    {
      "cell_type": "code",
      "execution_count": 29,
      "metadata": {
        "id": "vygwSJ-BEUCf"
      },
      "outputs": [],
      "source": [
        "# Wichmann Hill algorithm\n",
        "def random_number():\n",
        "    global s1, s2, s3\n",
        "    s1 = (171 * s1) % 30269\n",
        "    s2 = (172 * s2) % 30307\n",
        "    s3 = (170 * s3) % 30323\n",
        "\n",
        "    return (s1 / 30269.0 + s2 / 30307.0 + s3 / 30323.0) % 1"
      ]
    },
    {
      "cell_type": "code",
      "execution_count": 30,
      "metadata": {
        "id": "gAOb3L2HEUCf",
        "outputId": "e3b19295-88c6-4f17-c315-2e159b7f1894",
        "colab": {
          "base_uri": "https://localhost:8080/"
        }
      },
      "outputs": [
        {
          "output_type": "execute_result",
          "data": {
            "text/plain": [
              "0.2728144914355908"
            ]
          },
          "metadata": {},
          "execution_count": 30
        }
      ],
      "source": [
        "random_number()"
      ]
    },
    {
      "cell_type": "code",
      "execution_count": 31,
      "metadata": {
        "id": "EBymcXzVEUCg",
        "outputId": "606f24ec-58e7-4fbe-e9ce-33958ff734a7",
        "colab": {
          "base_uri": "https://localhost:8080/"
        }
      },
      "outputs": [
        {
          "output_type": "execute_result",
          "data": {
            "text/plain": [
              "0.3351217283531356"
            ]
          },
          "metadata": {},
          "execution_count": 31
        }
      ],
      "source": [
        "random_number()"
      ]
    },
    {
      "cell_type": "code",
      "execution_count": 32,
      "metadata": {
        "id": "Vht9R_obEUCg",
        "outputId": "ed44702c-9081-4e6c-c41b-334c74e9d103",
        "colab": {
          "base_uri": "https://localhost:8080/",
          "height": 541
        }
      },
      "outputs": [
        {
          "output_type": "execute_result",
          "data": {
            "text/plain": [
              "(array([ 983.,  988., 1040., 1024.,  960.,  986., 1049.,  978., 1007.,\n",
              "         985.]),\n",
              " array([1.32909738e-05, 1.00006960e-01, 2.00000629e-01, 2.99994298e-01,\n",
              "        3.99987967e-01, 4.99981636e-01, 5.99975305e-01, 6.99968974e-01,\n",
              "        7.99962643e-01, 8.99956312e-01, 9.99949981e-01]),\n",
              " <BarContainer object of 10 artists>)"
            ]
          },
          "metadata": {},
          "execution_count": 32
        },
        {
          "output_type": "display_data",
          "data": {
            "text/plain": [
              "<Figure size 640x480 with 1 Axes>"
            ],
            "image/png": "[encoded data removed]"
          },
          "metadata": {}
        }
      ],
      "source": [
        "plt.hist([random_number() for _ in range(10000)])"
      ]
    },
    {
      "cell_type": "markdown",
      "metadata": {
        "id": "Vq57MURBEUCg"
      },
      "source": [
        "We want to compare the speed difference in our implementation of random number generation and forming a matrix vs PyTorch's."
      ]
    },
    {
      "cell_type": "code",
      "execution_count": 33,
      "metadata": {
        "id": "ifJt9MX_EUCg",
        "outputId": "a548c634-17b2-4c41-ea28-64578f328f49",
        "colab": {
          "base_uri": "https://localhost:8080/"
        }
      },
      "outputs": [
        {
          "output_type": "stream",
          "name": "stdout",
          "text": [
            "5.49 ms ± 420 µs per loop (mean ± std. dev. of 7 runs, 10 loops each)\n"
          ]
        }
      ],
      "source": [
        "%timeit -n 10 list(chunks([random_number() for _ in range(7840)], 10))"
      ]
    },
    {
      "cell_type": "code",
      "execution_count": 34,
      "metadata": {
        "id": "TU9LCdPyEUCg"
      },
      "outputs": [],
      "source": [
        "import torch"
      ]
    },
    {
      "cell_type": "code",
      "execution_count": 35,
      "metadata": {
        "id": "5GH2OstWEUCg",
        "outputId": "a2022e7c-5f2f-41bd-f3af-354976c83c7d",
        "colab": {
          "base_uri": "https://localhost:8080/"
        }
      },
      "outputs": [
        {
          "output_type": "stream",
          "name": "stdout",
          "text": [
            "The slowest run took 42.72 times longer than the fastest. This could mean that an intermediate result is being cached.\n",
            "345 µs ± 715 µs per loop (mean ± std. dev. of 7 runs, 10 loops each)\n"
          ]
        }
      ],
      "source": [
        "%timeit -n 10 torch.randn(784,10)"
      ]
    },
    {
      "cell_type": "markdown",
      "metadata": {
        "id": "sxV8d1qTEUCh"
      },
      "source": [
        "We see that our implementation is approximately 1000 times slower!"
      ]
    },
    {
      "cell_type": "markdown",
      "metadata": {
        "id": "eJ07ayjaEUCh"
      },
      "source": [
        "## Matrix multiplication\n",
        "Now that we have figured out how to load our own matrices, it's time to learn how to implement matrix multiplication from scratch."
      ]
    },
    {
      "cell_type": "code",
      "execution_count": 36,
      "metadata": {
        "id": "DNcbcLnAEUCh",
        "outputId": "e014b1d6-f9a0-444e-c9a8-17cf86820052",
        "colab": {
          "base_uri": "https://localhost:8080/"
        }
      },
      "outputs": [
        {
          "output_type": "execute_result",
          "data": {
            "text/plain": [
              "torch.Tensor"
            ]
          },
          "metadata": {},
          "execution_count": 36
        }
      ],
      "source": [
        "m1 = X_train[:5]\n",
        "type(m1)"
      ]
    },
    {
      "cell_type": "code",
      "execution_count": 37,
      "metadata": {
        "id": "0QGvkonAEUCi",
        "outputId": "94daaa27-5082-42a7-a505-873b81b815cc",
        "colab": {
          "base_uri": "https://localhost:8080/"
        }
      },
      "outputs": [
        {
          "output_type": "execute_result",
          "data": {
            "text/plain": [
              "torch.Size([5, 28, 28])"
            ]
          },
          "metadata": {},
          "execution_count": 37
        }
      ],
      "source": [
        "m1.shape"
      ]
    },
    {
      "cell_type": "markdown",
      "metadata": {
        "id": "XBWHP6F1EUCi"
      },
      "source": [
        "Let's flatten the array for the purpose of this section."
      ]
    },
    {
      "cell_type": "code",
      "execution_count": 38,
      "metadata": {
        "id": "jWvJWS-6EUCi",
        "outputId": "1aa423bf-404c-417c-8c7c-52e420b81553",
        "colab": {
          "base_uri": "https://localhost:8080/"
        }
      },
      "outputs": [
        {
          "output_type": "execute_result",
          "data": {
            "text/plain": [
              "torch.Size([5, 784])"
            ]
          },
          "metadata": {},
          "execution_count": 38
        }
      ],
      "source": [
        "m1 = m1.reshape(m1.shape[0], -1)\n",
        "m1.shape"
      ]
    },
    {
      "cell_type": "code",
      "execution_count": 39,
      "metadata": {
        "id": "3wPCc0ofEUCj"
      },
      "outputs": [],
      "source": [
        "# assume there are 10 outcomes\n",
        "weights = torch.randn((784, 10))\n",
        "m2 = weights"
      ]
    },
    {
      "cell_type": "markdown",
      "metadata": {
        "id": "tADRz4KSEUCj"
      },
      "source": [
        "### Naive matrix multiplication\n",
        "Let's start with the most naive matrix multiplication, a n^3 iteration."
      ]
    },
    {
      "cell_type": "code",
      "execution_count": 40,
      "metadata": {
        "id": "cbyXkNn4EUCj"
      },
      "outputs": [],
      "source": [
        "def naive_mat_mul(m1, m2):\n",
        "    ar, ac = m1.shape[0], m1.shape[1]\n",
        "    br, bc = m2.shape[0], m2.shape[1]\n",
        "    out = torch.zeros((ar, bc))\n",
        "\n",
        "    for i in range(ar):\n",
        "        for j in range(ac):\n",
        "            for k in range(bc):\n",
        "                out[i, k] += m1[i, j] * m2[j, k]\n",
        "\n",
        "    return out"
      ]
    },
    {
      "cell_type": "code",
      "execution_count": 41,
      "metadata": {
        "id": "t0RTgnV2EUCj",
        "outputId": "2e9536be-5bee-47dc-ceba-ca5c621b1def",
        "colab": {
          "base_uri": "https://localhost:8080/"
        }
      },
      "outputs": [
        {
          "output_type": "execute_result",
          "data": {
            "text/plain": [
              "tensor([[ 2804.3843,  -530.2830, -6412.1870, -4692.4341, -3697.6570, -1736.2729,\n",
              "          2616.0828,  1487.4958, -3231.0979,   688.2916],\n",
              "        [ 3275.9614,  3824.2593, -5488.8584, -3258.6362,  3746.9185,   247.3014,\n",
              "           468.5748,  2131.7478,  3229.5554, -1350.8524],\n",
              "        [ 1271.9982,  1425.7275, -1110.6102,  -962.6237,  1485.0343,   283.9528,\n",
              "          1020.5384,  -345.5730,   -61.1591,  -243.6049],\n",
              "        [ 1762.8263,  2489.5232, -2025.6932, -2162.6101,   387.5354,  -204.5310,\n",
              "          4592.5469,  1459.4447,  2039.4448, -1672.7025],\n",
              "        [ 4316.2637,  4227.8608, -2620.1877, -5625.1880,   744.6066,   354.4922,\n",
              "           992.9981,  1260.8665, -1916.6780, -2057.3921]])"
            ]
          },
          "metadata": {},
          "execution_count": 41
        }
      ],
      "source": [
        "out = naive_mat_mul(m1, m2)\n",
        "out"
      ]
    },
    {
      "cell_type": "markdown",
      "metadata": {
        "id": "hzSfFnvfEUCj"
      },
      "source": [
        "Let's time this naive implementation."
      ]
    },
    {
      "cell_type": "code",
      "execution_count": 42,
      "metadata": {
        "id": "Ph-3eUjFEUCk",
        "outputId": "a07a6cbc-5344-47bb-d0eb-2cf5c11a5d8f",
        "colab": {
          "base_uri": "https://localhost:8080/"
        }
      },
      "outputs": [
        {
          "output_type": "stream",
          "name": "stdout",
          "text": [
            "CPU times: user 862 ms, sys: 3.34 ms, total: 865 ms\n",
            "Wall time: 875 ms\n"
          ]
        }
      ],
      "source": [
        "%time _ = naive_mat_mul(m1, m2)"
      ]
    },
    {
      "cell_type": "markdown",
      "metadata": {
        "id": "VPqXx9cBEUCk"
      },
      "source": [
        "This is slow! It took about half a second."
      ]
    },
    {
      "cell_type": "markdown",
      "metadata": {
        "id": "f0cMTO_mEUCk"
      },
      "source": [
        "### Numba\n",
        "Let's try to use numba for the dot product."
      ]
    },
    {
      "cell_type": "code",
      "execution_count": 43,
      "metadata": {
        "id": "g0EG1i8vEUCk"
      },
      "outputs": [],
      "source": [
        "from numba import jit\n",
        "import numpy as np"
      ]
    },
    {
      "cell_type": "code",
      "execution_count": 44,
      "metadata": {
        "id": "8XALxVyCEUCl"
      },
      "outputs": [],
      "source": [
        "@jit(nopython=True)\n",
        "def dot(a, b):\n",
        "    total = 0\n",
        "    for i in range(len(a)):\n",
        "        total += a[i] * b[i]\n",
        "\n",
        "    return total"
      ]
    },
    {
      "cell_type": "code",
      "execution_count": 45,
      "metadata": {
        "id": "Q6XZLzSCEUCl",
        "outputId": "f1563f98-f8f8-4fec-cf4a-2c423a7b71af",
        "colab": {
          "base_uri": "https://localhost:8080/"
        }
      },
      "outputs": [
        {
          "output_type": "execute_result",
          "data": {
            "text/plain": [
              "torch.Size([784])"
            ]
          },
          "metadata": {},
          "execution_count": 45
        }
      ],
      "source": [
        "m2[:, 1].shape"
      ]
    },
    {
      "cell_type": "code",
      "execution_count": 46,
      "metadata": {
        "id": "wReldJuzEUCl"
      },
      "outputs": [],
      "source": [
        "def numba_mat_mul(m1, m2):\n",
        "    ar, ac = m1.shape[0], m1.shape[1]\n",
        "    br, bc = m2.shape[0], m2.shape[1]\n",
        "    out = torch.zeros((ar, bc))\n",
        "\n",
        "    for i in range(ar):\n",
        "        for k in range(bc):\n",
        "            out[i, k] = dot(m1[i].numpy(), m2[:, k].numpy())\n",
        "\n",
        "    return out"
      ]
    },
    {
      "cell_type": "code",
      "execution_count": 47,
      "metadata": {
        "id": "wdtwybV3EUCl"
      },
      "outputs": [],
      "source": [
        "out2 = numba_mat_mul(m1, m2)"
      ]
    },
    {
      "cell_type": "code",
      "execution_count": 48,
      "metadata": {
        "id": "4hKuBphtEUCm",
        "outputId": "472adff9-040b-4143-8fa7-5f276b8e5555",
        "colab": {
          "base_uri": "https://localhost:8080/"
        }
      },
      "outputs": [
        {
          "output_type": "execute_result",
          "data": {
            "text/plain": [
              "tensor([[ 2804.3855,  -530.2845, -6412.1875, -4692.4282, -3697.6565, -1736.2734,\n",
              "          2616.0830,  1487.4956, -3231.0935,   688.2919],\n",
              "        [ 3275.9622,  3824.2593, -5488.8599, -3258.6362,  3746.9204,   247.3007,\n",
              "           468.5752,  2131.7473,  3229.5547, -1350.8534],\n",
              "        [ 1271.9980,  1425.7277, -1110.6097,  -962.6234,  1485.0341,   283.9529,\n",
              "          1020.5376,  -345.5732,   -61.1589,  -243.6049],\n",
              "        [ 1762.8262,  2489.5229, -2025.6938, -2162.6106,   387.5369,  -204.5309,\n",
              "          4592.5464,  1459.4446,  2039.4454, -1672.7015],\n",
              "        [ 4316.2622,  4227.8613, -2620.1868, -5625.1885,   744.6064,   354.4926,\n",
              "           992.9982,  1260.8667, -1916.6783, -2057.3918]])"
            ]
          },
          "metadata": {},
          "execution_count": 48
        }
      ],
      "source": [
        "out2"
      ]
    },
    {
      "cell_type": "code",
      "execution_count": 49,
      "metadata": {
        "id": "NKme59deEUCm",
        "outputId": "b6794d0b-9e26-45f6-efbb-bee2880dec7b",
        "colab": {
          "base_uri": "https://localhost:8080/"
        }
      },
      "outputs": [
        {
          "output_type": "stream",
          "name": "stdout",
          "text": [
            "CPU times: user 2.87 ms, sys: 0 ns, total: 2.87 ms\n",
            "Wall time: 4.75 ms\n"
          ]
        }
      ],
      "source": [
        "%time _ = numba_mat_mul(m1, m2)"
      ]
    },
    {
      "cell_type": "markdown",
      "metadata": {
        "id": "Fm1g0ug9EUCm"
      },
      "source": [
        "We see a speed up of close to 200 times!"
      ]
    },
    {
      "cell_type": "markdown",
      "metadata": {
        "id": "J0c-X6RCEUCm"
      },
      "source": [
        "### Pytorch `sum` and `dot`"
      ]
    },
    {
      "cell_type": "code",
      "execution_count": 50,
      "metadata": {
        "id": "mWs6PrmnEUCm",
        "outputId": "206802ee-5df5-4863-c208-1b2bac62d3d5",
        "colab": {
          "base_uri": "https://localhost:8080/"
        }
      },
      "outputs": [
        {
          "output_type": "execute_result",
          "data": {
            "text/plain": [
              "torch.Size([784])"
            ]
          },
          "metadata": {},
          "execution_count": 50
        }
      ],
      "source": [
        "(m1[0] * m2[:, 0]).shape"
      ]
    },
    {
      "cell_type": "code",
      "execution_count": 51,
      "metadata": {
        "id": "TH9aVKlQEUCm"
      },
      "outputs": [],
      "source": [
        "def sum_mat_mul(m1, m2):\n",
        "    ar, ac = m1.shape[0], m1.shape[1]\n",
        "    br, bc = m2.shape[0], m2.shape[1]\n",
        "    out = torch.zeros((ar, bc))\n",
        "\n",
        "    for i in range(ar):\n",
        "        for k in range(bc):\n",
        "            out[i, k] = (m1[i] * m2[:, k]).sum()\n",
        "\n",
        "    return out"
      ]
    },
    {
      "cell_type": "code",
      "execution_count": 52,
      "metadata": {
        "id": "oDSl7QinEUCn",
        "outputId": "c0dce6a1-90e2-474b-b1e2-72fd217f6364",
        "colab": {
          "base_uri": "https://localhost:8080/"
        }
      },
      "outputs": [
        {
          "output_type": "execute_result",
          "data": {
            "text/plain": [
              "tensor([[ 2804.3853,  -530.2844, -6412.1870, -4692.4277, -3697.6558, -1736.2734,\n",
              "          2616.0833,  1487.4956, -3231.0933,   688.2917],\n",
              "        [ 3275.9622,  3824.2593, -5488.8594, -3258.6355,  3746.9204,   247.3013,\n",
              "           468.5754,  2131.7478,  3229.5542, -1350.8534],\n",
              "        [ 1271.9980,  1425.7278, -1110.6096,  -962.6234,  1485.0341,   283.9530,\n",
              "          1020.5375,  -345.5732,   -61.1591,  -243.6050],\n",
              "        [ 1762.8264,  2489.5227, -2025.6940, -2162.6104,   387.5370,  -204.5310,\n",
              "          4592.5459,  1459.4446,  2039.4452, -1672.7017],\n",
              "        [ 4316.2627,  4227.8613, -2620.1870, -5625.1885,   744.6068,   354.4927,\n",
              "           992.9980,  1260.8666, -1916.6787, -2057.3921]])"
            ]
          },
          "metadata": {},
          "execution_count": 52
        }
      ],
      "source": [
        "out3 = sum_mat_mul(m1, m2)\n",
        "out3"
      ]
    },
    {
      "cell_type": "code",
      "execution_count": 53,
      "metadata": {
        "id": "ihCvhRedEUCn",
        "outputId": "cf373be9-2298-4724-be2e-e569a3f63eee",
        "colab": {
          "base_uri": "https://localhost:8080/"
        }
      },
      "outputs": [
        {
          "output_type": "stream",
          "name": "stdout",
          "text": [
            "CPU times: user 2.67 ms, sys: 988 µs, total: 3.66 ms\n",
            "Wall time: 8 ms\n"
          ]
        }
      ],
      "source": [
        "%time _ = sum_mat_mul(m1, m2)"
      ]
    },
    {
      "cell_type": "markdown",
      "metadata": {
        "id": "k6wrwkhdEUCn"
      },
      "source": [
        "This is faster than our numba implementation, although that may have been slowed down by calling `.numpy()` repeatedly in the inner loop."
      ]
    },
    {
      "cell_type": "code",
      "execution_count": 54,
      "metadata": {
        "id": "XygCnFIWEUCn"
      },
      "outputs": [],
      "source": [
        "def dot_mat_mul(m1, m2):\n",
        "    ar, ac = m1.shape[0], m1.shape[1]\n",
        "    br, bc = m2.shape[0], m2.shape[1]\n",
        "    out = torch.zeros((ar, bc))\n",
        "\n",
        "    for i in range(ar):\n",
        "        for k in range(bc):\n",
        "            out[i, k] = torch.dot(m1[i].float(),  m2[:, k])\n",
        "\n",
        "    return out"
      ]
    },
    {
      "cell_type": "code",
      "execution_count": 55,
      "metadata": {
        "id": "V2L-up1DEUCo",
        "outputId": "ddddf454-a7b0-4a95-e91d-f8d59611f6cd",
        "colab": {
          "base_uri": "https://localhost:8080/"
        }
      },
      "outputs": [
        {
          "output_type": "execute_result",
          "data": {
            "text/plain": [
              "tensor([[ 2804.3862,  -530.2843, -6412.1875, -4692.4268, -3697.6562, -1736.2737,\n",
              "          2616.0818,  1487.4961, -3231.0925,   688.2919],\n",
              "        [ 3275.9622,  3824.2588, -5488.8594, -3258.6362,  3746.9204,   247.3000,\n",
              "           468.5771,  2131.7468,  3229.5549, -1350.8529],\n",
              "        [ 1271.9978,  1425.7273, -1110.6096,  -962.6233,  1485.0338,   283.9527,\n",
              "          1020.5381,  -345.5734,   -61.1584,  -243.6049],\n",
              "        [ 1762.8263,  2489.5227, -2025.6932, -2162.6111,   387.5370,  -204.5316,\n",
              "          4592.5459,  1459.4441,  2039.4458, -1672.7014],\n",
              "        [ 4316.2607,  4227.8613, -2620.1870, -5625.1885,   744.6062,   354.4926,\n",
              "           992.9976,  1260.8669, -1916.6780, -2057.3921]])"
            ]
          },
          "metadata": {},
          "execution_count": 55
        }
      ],
      "source": [
        "out4 = dot_mat_mul(m1, m2)\n",
        "out4"
      ]
    },
    {
      "cell_type": "code",
      "execution_count": 56,
      "metadata": {
        "id": "6ZTqRYOQEUCo",
        "outputId": "b14f22e5-adc3-46d7-dbdf-d47ac7148781",
        "colab": {
          "base_uri": "https://localhost:8080/"
        }
      },
      "outputs": [
        {
          "output_type": "stream",
          "name": "stdout",
          "text": [
            "CPU times: user 1.87 ms, sys: 1 ms, total: 2.87 ms\n",
            "Wall time: 2.86 ms\n"
          ]
        }
      ],
      "source": [
        "%time _ = dot_mat_mul(m1, m2)"
      ]
    },
    {
      "cell_type": "markdown",
      "metadata": {
        "id": "k5rSHfelEUCo"
      },
      "source": [
        "### Broadcasting\n",
        "Now let's try broadcasting where we only have 1 outer loop."
      ]
    },
    {
      "cell_type": "code",
      "execution_count": 57,
      "metadata": {
        "id": "Csjn_yc3EUCo",
        "outputId": "2f95dcdf-b473-449e-9140-c1bf068f469b",
        "colab": {
          "base_uri": "https://localhost:8080/"
        }
      },
      "outputs": [
        {
          "output_type": "execute_result",
          "data": {
            "text/plain": [
              "torch.Size([784])"
            ]
          },
          "metadata": {},
          "execution_count": 57
        }
      ],
      "source": [
        "m1[0].shape"
      ]
    },
    {
      "cell_type": "code",
      "execution_count": 58,
      "metadata": {
        "id": "nFYslDE8EUCp",
        "outputId": "cb83d269-9fa5-4d92-f746-f91e88f1078a",
        "colab": {
          "base_uri": "https://localhost:8080/"
        }
      },
      "outputs": [
        {
          "output_type": "execute_result",
          "data": {
            "text/plain": [
              "torch.Size([10, 784])"
            ]
          },
          "metadata": {},
          "execution_count": 58
        }
      ],
      "source": [
        "m2_transposed = torch.transpose(m2, 1, 0)\n",
        "m2_transposed.shape"
      ]
    },
    {
      "cell_type": "code",
      "execution_count": 59,
      "metadata": {
        "id": "96t0BTKVEUCp",
        "outputId": "00f1ac92-4d09-4c53-f53b-908b16424f5f",
        "colab": {
          "base_uri": "https://localhost:8080/"
        }
      },
      "outputs": [
        {
          "output_type": "execute_result",
          "data": {
            "text/plain": [
              "torch.Size([10, 784])"
            ]
          },
          "metadata": {},
          "execution_count": 59
        }
      ],
      "source": [
        "(m1[0] * m2_transposed).shape"
      ]
    },
    {
      "cell_type": "code",
      "execution_count": 60,
      "metadata": {
        "id": "pwn9AHgREUCp",
        "outputId": "2df5f26f-8215-4ff9-b07d-aa7b336acc9e",
        "colab": {
          "base_uri": "https://localhost:8080/"
        }
      },
      "outputs": [
        {
          "output_type": "execute_result",
          "data": {
            "text/plain": [
              "tensor([ 2804.3855,  -530.2848, -6412.1875, -4692.4277, -3697.6558, -1736.2734,\n",
              "         2616.0825,  1487.4954, -3231.0935,   688.2919])"
            ]
          },
          "metadata": {},
          "execution_count": 60
        }
      ],
      "source": [
        "(m1[0] * m2_transposed).sum(axis = 1)"
      ]
    },
    {
      "cell_type": "code",
      "execution_count": 61,
      "metadata": {
        "id": "BspCG8hnEUCp"
      },
      "outputs": [],
      "source": [
        "def broadcast_mat_mul(m1, m2):\n",
        "    ar, ac = m1.shape[0], m1.shape[1]\n",
        "    br, bc = m2.shape[0], m2.shape[1]\n",
        "    out = torch.zeros((ar, bc))\n",
        "\n",
        "    m2_transposed = torch.transpose(m2, 1, 0)\n",
        "    for i in range(ar):\n",
        "        out[i] = (m1[i] * m2_transposed).sum(axis=1)\n",
        "\n",
        "    return out"
      ]
    },
    {
      "cell_type": "code",
      "execution_count": 62,
      "metadata": {
        "id": "QhMe3IqvEUCp",
        "outputId": "777ad670-5dfc-451b-c242-1f6b195f6147",
        "colab": {
          "base_uri": "https://localhost:8080/"
        }
      },
      "outputs": [
        {
          "output_type": "execute_result",
          "data": {
            "text/plain": [
              "tensor([[ 2804.3855,  -530.2848, -6412.1875, -4692.4277, -3697.6558, -1736.2734,\n",
              "          2616.0825,  1487.4954, -3231.0935,   688.2919],\n",
              "        [ 3275.9624,  3824.2595, -5488.8599, -3258.6360,  3746.9207,   247.3008,\n",
              "           468.5747,  2131.7473,  3229.5542, -1350.8530],\n",
              "        [ 1271.9979,  1425.7275, -1110.6096,  -962.6235,  1485.0342,   283.9528,\n",
              "          1020.5375,  -345.5731,   -61.1589,  -243.6049],\n",
              "        [ 1762.8262,  2489.5232, -2025.6938, -2162.6106,   387.5370,  -204.5305,\n",
              "          4592.5469,  1459.4449,  2039.4453, -1672.7017],\n",
              "        [ 4316.2622,  4227.8608, -2620.1865, -5625.1885,   744.6064,   354.4923,\n",
              "           992.9983,  1260.8662, -1916.6780, -2057.3916]])"
            ]
          },
          "metadata": {},
          "execution_count": 62
        }
      ],
      "source": [
        "out5 = broadcast_mat_mul(m1, m2)\n",
        "out5"
      ]
    },
    {
      "cell_type": "code",
      "execution_count": 63,
      "metadata": {
        "id": "5tjiL6FiEUCq",
        "outputId": "74883416-7614-48b9-aec9-a5682054f61e",
        "colab": {
          "base_uri": "https://localhost:8080/"
        }
      },
      "outputs": [
        {
          "output_type": "stream",
          "name": "stdout",
          "text": [
            "CPU times: user 403 µs, sys: 0 ns, total: 403 µs\n",
            "Wall time: 411 µs\n"
          ]
        }
      ],
      "source": [
        "%time _ = broadcast_mat_mul(m1, m2)"
      ]
    },
    {
      "cell_type": "markdown",
      "metadata": {
        "id": "L4h-QJRcEUCq"
      },
      "source": [
        "### Einstein summation"
      ]
    },
    {
      "cell_type": "code",
      "execution_count": 64,
      "metadata": {
        "id": "X-GnLkMTEUCq"
      },
      "outputs": [],
      "source": [
        "def einsum_mat_mul(a, b):\n",
        "    return torch.einsum('ij,jk->ik', a, b)"
      ]
    },
    {
      "cell_type": "code",
      "execution_count": 65,
      "metadata": {
        "id": "K2Wv27VoEUCq",
        "outputId": "a3247d82-efab-4e48-8699-b342d2606a27",
        "colab": {
          "base_uri": "https://localhost:8080/"
        }
      },
      "outputs": [
        {
          "output_type": "execute_result",
          "data": {
            "text/plain": [
              "torch.Size([784, 10])"
            ]
          },
          "metadata": {},
          "execution_count": 65
        }
      ],
      "source": [
        "m2.shape"
      ]
    },
    {
      "cell_type": "code",
      "execution_count": 66,
      "metadata": {
        "id": "OgxaybLDEUCq",
        "outputId": "9d9d4c8b-a475-4264-8a0b-c630b2450a3e",
        "colab": {
          "base_uri": "https://localhost:8080/"
        }
      },
      "outputs": [
        {
          "output_type": "execute_result",
          "data": {
            "text/plain": [
              "tensor([[ 2804.3855,  -530.2849, -6412.1870, -4692.4282, -3697.6572, -1736.2737,\n",
              "          2616.0820,  1487.4956, -3231.0942,   688.2918],\n",
              "        [ 3275.9609,  3824.2588, -5488.8584, -3258.6353,  3746.9202,   247.3009,\n",
              "           468.5741,  2131.7485,  3229.5527, -1350.8534],\n",
              "        [ 1271.9976,  1425.7273, -1110.6099,  -962.6238,  1485.0344,   283.9529,\n",
              "          1020.5382,  -345.5734,   -61.1591,  -243.6053],\n",
              "        [ 1762.8260,  2489.5242, -2025.6936, -2162.6111,   387.5356,  -204.5309,\n",
              "          4592.5469,  1459.4443,  2039.4456, -1672.7021],\n",
              "        [ 4316.2627,  4227.8623, -2620.1870, -5625.1890,   744.6056,   354.4920,\n",
              "           992.9974,  1260.8661, -1916.6771, -2057.3914]])"
            ]
          },
          "metadata": {},
          "execution_count": 66
        }
      ],
      "source": [
        "out6 = einsum_mat_mul(m1.float(), m2.float())\n",
        "out6"
      ]
    },
    {
      "cell_type": "code",
      "execution_count": 67,
      "metadata": {
        "id": "s9H4Nmm_EUCr"
      },
      "outputs": [],
      "source": [
        "m1 = m1.float()\n",
        "m2 = m2.float()"
      ]
    },
    {
      "cell_type": "code",
      "execution_count": 68,
      "metadata": {
        "id": "INkkwZHFEUCr",
        "outputId": "e7b5eff9-7eda-4f95-efef-cd6c04474700",
        "colab": {
          "base_uri": "https://localhost:8080/"
        }
      },
      "outputs": [
        {
          "output_type": "stream",
          "name": "stdout",
          "text": [
            "CPU times: user 134 µs, sys: 9 µs, total: 143 µs\n",
            "Wall time: 146 µs\n"
          ]
        }
      ],
      "source": [
        "%time _ = einsum_mat_mul(m1, m2)"
      ]
    },
    {
      "cell_type": "markdown",
      "metadata": {
        "id": "1WU_AlGTEUCr"
      },
      "source": [
        "Now this is faster than using broadcasting to do our matrix multiplication! We can also use PyTorch's in-built `@` or `torch.matmul`."
      ]
    },
    {
      "cell_type": "code",
      "execution_count": 69,
      "metadata": {
        "id": "fkx8ycAgEUCr",
        "outputId": "80e09cd1-25b5-4dc6-d40e-cabe107fc990",
        "colab": {
          "base_uri": "https://localhost:8080/"
        }
      },
      "outputs": [
        {
          "output_type": "stream",
          "name": "stdout",
          "text": [
            "CPU times: user 185 µs, sys: 13 µs, total: 198 µs\n",
            "Wall time: 205 µs\n"
          ]
        }
      ],
      "source": [
        "%time _ = m1@m2"
      ]
    },
    {
      "cell_type": "code",
      "execution_count": 70,
      "metadata": {
        "id": "8yFVCZslEUCs",
        "outputId": "32c97833-3333-44e9-c785-ac783014a7f2",
        "colab": {
          "base_uri": "https://localhost:8080/"
        }
      },
      "outputs": [
        {
          "output_type": "stream",
          "name": "stdout",
          "text": [
            "CPU times: user 108 µs, sys: 7 µs, total: 115 µs\n",
            "Wall time: 130 µs\n"
          ]
        }
      ],
      "source": [
        "%time _ = torch.matmul(m1, m2)"
      ]
    },
    {
      "cell_type": "markdown",
      "metadata": {
        "id": "Gdg4EfFSEUCs"
      },
      "source": [
        "Surprisingly, `torch.matmul` is the fastest thus far. Now let's try to use CUDA to speed things up via parallelisation."
      ]
    },
    {
      "cell_type": "markdown",
      "metadata": {
        "id": "pIFnI9jWEUCs"
      },
      "source": [
        "## CUDA\n",
        "The fundamental idea behind CUDA/parallelisation is that we can see matrix multiplication of 2 matrices as finding a single element of the output matrix (i, j) at one time. Then, we parallelise finding a single element (i.e. computing each element in parallel)."
      ]
    },
    {
      "cell_type": "code",
      "execution_count": 71,
      "metadata": {
        "id": "QjUCKgurEUCt"
      },
      "outputs": [],
      "source": [
        "def cuda_sim_mat_mul(grid, a, b, c):\n",
        "    i, j = grid # destructuring\n",
        "    if i < a.shape[0] and j < b.shape[1]:\n",
        "        tmp = 0.0\n",
        "        for k in range(a.shape[1]):\n",
        "            tmp += a[i, k] * b[k, j]\n",
        "\n",
        "        c[i, j] = tmp"
      ]
    },
    {
      "cell_type": "code",
      "execution_count": 72,
      "metadata": {
        "id": "gvchjZtkEUCu",
        "outputId": "5b8fa148-f3ed-4088-b404-c6a4c365d90f",
        "colab": {
          "base_uri": "https://localhost:8080/"
        }
      },
      "outputs": [
        {
          "output_type": "execute_result",
          "data": {
            "text/plain": [
              "tensor([[2804.3843,    0.0000,    0.0000,    0.0000,    0.0000,    0.0000,\n",
              "            0.0000,    0.0000,    0.0000,    0.0000],\n",
              "        [   0.0000,    0.0000,    0.0000,    0.0000,    0.0000,    0.0000,\n",
              "            0.0000,    0.0000,    0.0000,    0.0000],\n",
              "        [   0.0000,    0.0000,    0.0000,    0.0000,    0.0000,    0.0000,\n",
              "            0.0000,    0.0000,    0.0000,    0.0000],\n",
              "        [   0.0000,    0.0000,    0.0000,    0.0000,    0.0000,    0.0000,\n",
              "            0.0000,    0.0000,    0.0000,    0.0000],\n",
              "        [   0.0000,    0.0000,    0.0000,    0.0000,    0.0000,    0.0000,\n",
              "            0.0000,    0.0000,    0.0000,    0.0000]])"
            ]
          },
          "metadata": {},
          "execution_count": 72
        }
      ],
      "source": [
        "out7 = torch.zeros((m1.shape[0], m2.shape[1]))\n",
        "cuda_sim_mat_mul((0,0), m1, m2, out7)\n",
        "out7"
      ]
    },
    {
      "cell_type": "markdown",
      "metadata": {
        "id": "jjt8lnvGEUCu"
      },
      "source": [
        "Yep, it is working correctly for our first element. Now we need to do this in parallel. To do so, we need a Nvidia GPU."
      ]
    },
    {
      "cell_type": "code",
      "execution_count": 73,
      "metadata": {
        "id": "tWk8czQ4EUCv"
      },
      "outputs": [],
      "source": [
        "from numba import cuda"
      ]
    },
    {
      "cell_type": "code",
      "execution_count": 74,
      "metadata": {
        "id": "w_21mRTsEUCv"
      },
      "outputs": [],
      "source": [
        "@cuda.jit\n",
        "def matmul(a,b,c):\n",
        "    i, j = cuda.grid(2)\n",
        "    if i < c.shape[0] and j < c.shape[1]:\n",
        "        tmp = 0.\n",
        "        for k in range(a.shape[1]): tmp += a[i, k] * b[k, j]\n",
        "        c[i,j] = tmp"
      ]
    },
    {
      "cell_type": "code",
      "execution_count": 75,
      "metadata": {
        "id": "fm1I2p4rEUCv"
      },
      "outputs": [],
      "source": [
        "out8 = torch.zeros((m1.shape[0], m2.shape[1]))\n",
        "m1c, m2c, out8c = map(cuda.to_device, (m1, m2, out8))"
      ]
    },
    {
      "cell_type": "code",
      "source": [
        "r = m1@m2"
      ],
      "metadata": {
        "id": "IAPR1PxHHm-J"
      },
      "execution_count": 76,
      "outputs": []
    },
    {
      "cell_type": "code",
      "source": [
        "# Parameters for CUDA\n",
        "TPB = 16\n",
        "rr,rc = r.shape\n",
        "blockspergrid = (math.ceil(rr / TPB), math.ceil(rc / TPB))\n",
        "blockspergrid"
      ],
      "metadata": {
        "id": "d4Eid3ZiHqVh",
        "outputId": "097ffe49-0b77-462c-93d6-86accf48ce70",
        "colab": {
          "base_uri": "https://localhost:8080/"
        }
      },
      "execution_count": 77,
      "outputs": [
        {
          "output_type": "execute_result",
          "data": {
            "text/plain": [
              "(1, 1)"
            ]
          },
          "metadata": {},
          "execution_count": 77
        }
      ]
    },
    {
      "cell_type": "code",
      "source": [
        "%%timeit -n 10\n",
        "matmul[blockspergrid, (TPB,TPB)](m1c,m2c,out8c)"
      ],
      "metadata": {
        "id": "ya6_HrJ9HatM",
        "outputId": "d01973da-8da7-4247-e48d-29815c220fef",
        "colab": {
          "base_uri": "https://localhost:8080/"
        }
      },
      "execution_count": 83,
      "outputs": [
        {
          "output_type": "stream",
          "name": "stdout",
          "text": [
            "The slowest run took 12.00 times longer than the fastest. This could mean that an intermediate result is being cached.\n",
            "382 µs ± 425 µs per loop (mean ± std. dev. of 7 runs, 10 loops each)\n"
          ]
        }
      ]
    },
    {
      "cell_type": "markdown",
      "source": [
        "Now let's compare this with our slowest run."
      ],
      "metadata": {
        "id": "X6yOp9q6IWOo"
      }
    },
    {
      "cell_type": "code",
      "source": [
        "%%timeit -n 10\n",
        "naive_mat_mul(m1, m2)"
      ],
      "metadata": {
        "id": "CgEoqlo3H_K8",
        "outputId": "28c70852-a3e0-412e-bc42-8a913651721b",
        "colab": {
          "base_uri": "https://localhost:8080/"
        }
      },
      "execution_count": 82,
      "outputs": [
        {
          "output_type": "stream",
          "name": "stdout",
          "text": [
            "822 ms ± 54 ms per loop (mean ± std. dev. of 7 runs, 10 loops each)\n"
          ]
        }
      ]
    },
    {
      "cell_type": "markdown",
      "source": [
        "We see that the naive implementation is over 2000 times slower!"
      ],
      "metadata": {
        "id": "3AZjMmxUI7Gx"
      }
    }
  ],
  "metadata": {
    "kernelspec": {
      "display_name": "Python 3",
      "name": "python3"
    },
    "language_info": {
      "codemirror_mode": {
        "name": "ipython",
        "version": 3
      },
      "file_extension": ".py",
      "mimetype": "text/x-python",
      "name": "python",
      "nbconvert_exporter": "python",
      "pygments_lexer": "ipython3",
      "version": "3.11.3"
    },
    "orig_nbformat": 4,
    "colab": {
      "provenance": [],
      "gpuType": "T4"
    },
    "accelerator": "GPU"
  },
  "nbformat": 4,
  "nbformat_minor": 0
}